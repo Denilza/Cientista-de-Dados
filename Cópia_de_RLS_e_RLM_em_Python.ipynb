{
  "nbformat": 4,
  "nbformat_minor": 0,
  "metadata": {
    "colab": {
      "provenance": [],
      "include_colab_link": true
    },
    "kernelspec": {
      "name": "python3",
      "display_name": "Python 3"
    },
    "language_info": {
      "name": "python"
    }
  },
  "cells": [
    {
      "cell_type": "markdown",
      "metadata": {
        "id": "view-in-github",
        "colab_type": "text"
      },
      "source": [
        "<a href=\"https://colab.research.google.com/github/Denilza/Cientista-de-Dados/blob/main/C%C3%B3pia_de_RLS_e_RLM_em_Python.ipynb\" target=\"_parent\"><img src=\"https://colab.research.google.com/assets/colab-badge.svg\" alt=\"Open In Colab\"/></a>"
      ]
    },
    {
      "cell_type": "markdown",
      "source": [
        "# RLS"
      ],
      "metadata": {
        "id": "K9i1Nvswa7Sa"
      }
    },
    {
      "cell_type": "code",
      "execution_count": null,
      "metadata": {
        "colab": {
          "base_uri": "https://localhost:8080/",
          "height": 528
        },
        "id": "rQUZ2SEvaIKC",
        "outputId": "6a04139b-c0c8-4324-81af-48d54984f344"
      },
      "outputs": [
        {
          "output_type": "display_data",
          "data": {
            "text/plain": [
              "<Figure size 640x480 with 1 Axes>"
            ],
            "image/png": "[encoded data removed]"
          },
          "metadata": {}
        },
        {
          "output_type": "stream",
          "name": "stdout",
          "text": [
            "Coeficiente angular (inclinação): 1.0057142857142858\n",
            "Intercepto: 0.14666666666666606\n"
          ]
        }
      ],
      "source": [
        "# importando as bibliotecas necessárias\n",
        "import numpy as np\n",
        "import matplotlib.pyplot as plt\n",
        "from sklearn.linear_model import LinearRegression\n",
        "\n",
        "# montando mock de dados fictícios: horas de estudo (X) e notas (y)\n",
        "X = np.array([1, 2, 3, 4, 5, 6]).reshape(-1, 1)  # variável independente\n",
        "y = np.array([1.5, 1.7, 3.2, 4.0, 5.5, 6.1])     # variável dependente\n",
        "\n",
        "# criando o modelo de regressão linear\n",
        "model = LinearRegression()\n",
        "model.fit(X, y)\n",
        "\n",
        "# fazendo previsões\n",
        "y_pred = model.predict(X)\n",
        "\n",
        "# visualizando os resultados\n",
        "plt.scatter(X, y, color='blue')  # dados reais\n",
        "plt.plot(X, y_pred, color='red')  # linha de regressão\n",
        "plt.xlabel('Horas de Estudo')\n",
        "plt.ylabel('Notas')\n",
        "plt.title('Regressão Linear Simples')\n",
        "plt.show()\n",
        "\n",
        "# coeficientes\n",
        "print(f\"Coeficiente angular (inclinação): {model.coef_[0]}\")\n",
        "print(f\"Intercepto: {model.intercept_}\")\n"
      ]
    },
    {
      "cell_type": "markdown",
      "source": [
        "# RLM"
      ],
      "metadata": {
        "id": "6i1Clp9Fa-mL"
      }
    },
    {
      "cell_type": "code",
      "source": [
        "# importando as bibliotecas necessárias\n",
        "import numpy as np\n",
        "import pandas as pd\n",
        "from sklearn.linear_model import LinearRegression\n",
        "\n",
        "# dados fictícios: área da casa e número de quartos\n",
        "# X1 = área em metros quadrados, X2 = número de quartos\n",
        "data = {\n",
        "    'area': [50, 75, 100, 120, 150, 180],\n",
        "    'quartos': [1, 2, 3, 3, 4, 4]\n",
        "}\n",
        "X = pd.DataFrame(data)  # Variáveis independentes\n",
        "\n",
        "# variável dependente: preço da casa (em milhares)\n",
        "y = np.array([200, 300, 400, 450, 500, 600])\n",
        "\n",
        "# criando o modelo de regressão linear múltipla\n",
        "model = LinearRegression()\n",
        "model.fit(X, y)\n",
        "\n",
        "# fazendo previsões\n",
        "y_pred = model.predict(X)\n",
        "\n",
        "# resultados\n",
        "print(f\"Coeficientes (inclinação): {model.coef_}\")\n",
        "print(f\"Intercepto: {model.intercept_}\")\n",
        "\n",
        "# exemplo de previsão para uma casa de 110 metros quadrados com 3 quartos\n",
        "nova_casa = np.array([[110, 3]])\n",
        "previsao = model.predict(nova_casa)\n",
        "print(f\"Previsão do preço da casa: {previsao[0]} mil reais\")\n"
      ],
      "metadata": {
        "colab": {
          "base_uri": "https://localhost:8080/"
        },
        "id": "CopanktQalt8",
        "outputId": "3b9dbfc2-876d-4297-a833-d85d6cbe00fc"
      },
      "execution_count": null,
      "outputs": [
        {
          "output_type": "stream",
          "name": "stdout",
          "text": [
            "Coeficientes (inclinação): [ 2.19687875 32.29291717]\n",
            "Intercepto: 69.68787515005994\n",
            "Previsão do preço da casa: 408.2232893157263 mil reais\n"
          ]
        },
        {
          "output_type": "stream",
          "name": "stderr",
          "text": [
            "/usr/local/lib/python3.10/dist-packages/sklearn/base.py:493: UserWarning: X does not have valid feature names, but LinearRegression was fitted with feature names\n",
            "  warnings.warn(\n"
          ]
        }
      ]
    },
    {
      "cell_type": "code",
      "source": [
        "from sklearn.metrics import r2_score\n",
        "\n",
        "# avaliação do modelo\n",
        "r2 = r2_score(y, y_pred)\n",
        "print(f\"Coeficiente de Determinação (R²): {r2}\")\n",
        "\n",
        "# quanto mais próximo do 1, melhor! :)"
      ],
      "metadata": {
        "colab": {
          "base_uri": "https://localhost:8080/"
        },
        "id": "LCjBA_eMazHd",
        "outputId": "3f650023-c241-4ed4-edd4-2c5146693392"
      },
      "execution_count": null,
      "outputs": [
        {
          "output_type": "stream",
          "name": "stdout",
          "text": [
            "Coeficiente de Determinação (R²): 0.9847122522478379\n"
          ]
        }
      ]
    }
  ]
}