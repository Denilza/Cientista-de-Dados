{
  "nbformat": 4,
  "nbformat_minor": 0,
  "metadata": {
    "colab": {
      "provenance": [],
      "authorship_tag": "ABX9TyP3HTgo9OqfsinfTg7NhPs+",
      "include_colab_link": true
    },
    "kernelspec": {
      "name": "python3",
      "display_name": "Python 3"
    },
    "language_info": {
      "name": "python"
    }
  },
  "cells": [
    {
      "cell_type": "markdown",
      "metadata": {
        "id": "view-in-github",
        "colab_type": "text"
      },
      "source": [
        "<a href=\"https://colab.research.google.com/github/Denilza/Cientista-de-Dados/blob/main/Estat%C3%ADstica_Teste_de_Hip%C3%B3teses_.ipynb\" target=\"_parent\"><img src=\"https://colab.research.google.com/assets/colab-badge.svg\" alt=\"Open In Colab\"/></a>"
      ]
    },
    {
      "cell_type": "markdown",
      "source": [],
      "metadata": {
        "id": "oRRtMd-Zf7UX"
      }
    },
    {
      "cell_type": "code",
      "source": [
        "import pandas as pd\n",
        "\n",
        "url_pacientes = \"https://drive.google.com/uc?id=1__C2gX3JGpLPHGlej8q7htcAGTuzppwg\"\n",
        "url_experimento = \"https://drive.google.com/uc?id=1aCR93zXs_otUwdzP0bGySz_BT-e5rm6q\"\n",
        "\n",
        "\n",
        "df_pacientes = pd.read_csv(url_pacientes)\n",
        "df_experimento = pd.read_csv(url_experimento)\n",
        "\n",
        "\n"
      ],
      "metadata": {
        "collapsed": true,
        "id": "ZmO_ojszfobm"
      },
      "execution_count": null,
      "outputs": []
    },
    {
      "cell_type": "code",
      "source": [
        "from scipy import stats\n",
        "from scipy.stats import chi2_contingency\n",
        "from scipy.stats import pearsonr, spearmanr\n",
        "import numpy as np\n",
        "from scipy.stats import shapiro\n",
        "import matplotlib.pyplot as plt"
      ],
      "metadata": {
        "id": "b2W34n6DOMnc"
      },
      "execution_count": null,
      "outputs": []
    },
    {
      "cell_type": "markdown",
      "source": [
        "1. Qual dos cenários tem a maior taxa de conversão?\n"
      ],
      "metadata": {
        "id": "yZsy8_DfMaZU"
      }
    },
    {
      "cell_type": "code",
      "source": [
        "df_experimento.head()"
      ],
      "metadata": {
        "colab": {
          "base_uri": "https://localhost:8080/",
          "height": 206
        },
        "id": "J9r5LHh6f3G4",
        "outputId": "a0298378-7c16-40b2-fd42-8e54cd42a041"
      },
      "execution_count": null,
      "outputs": [
        {
          "output_type": "execute_result",
          "data": {
            "text/plain": [
              "   Visitante_ID Versão_Página  Visualizações  Conversões\n",
              "0             1             A            167           1\n",
              "1             2             A            160           0\n",
              "2             3             A            170           0\n",
              "3             4             A            161           1\n",
              "4             5             A            104           0"
            ],
            "text/html": [
              "\n",
              "  <div id=\"df-200606b5-a796-4131-9ad6-0f67628f6ee6\" class=\"colab-df-container\">\n",
              "    <div>\n",
              "<style scoped>\n",
              "    .dataframe tbody tr th:only-of-type {\n",
              "        vertical-align: middle;\n",
              "    }\n",
              "\n",
              "    .dataframe tbody tr th {\n",
              "        vertical-align: top;\n",
              "    }\n",
              "\n",
              "    .dataframe thead th {\n",
              "        text-align: right;\n",
              "    }\n",
              "</style>\n",
              "<table border=\"1\" class=\"dataframe\">\n",
              "  <thead>\n",
              "    <tr style=\"text-align: right;\">\n",
              "      <th></th>\n",
              "      <th>Visitante_ID</th>\n",
              "      <th>Versão_Página</th>\n",
              "      <th>Visualizações</th>\n",
              "      <th>Conversões</th>\n",
              "    </tr>\n",
              "  </thead>\n",
              "  <tbody>\n",
              "    <tr>\n",
              "      <th>0</th>\n",
              "      <td>1</td>\n",
              "      <td>A</td>\n",
              "      <td>167</td>\n",
              "      <td>1</td>\n",
              "    </tr>\n",
              "    <tr>\n",
              "      <th>1</th>\n",
              "      <td>2</td>\n",
              "      <td>A</td>\n",
              "      <td>160</td>\n",
              "      <td>0</td>\n",
              "    </tr>\n",
              "    <tr>\n",
              "      <th>2</th>\n",
              "      <td>3</td>\n",
              "      <td>A</td>\n",
              "      <td>170</td>\n",
              "      <td>0</td>\n",
              "    </tr>\n",
              "    <tr>\n",
              "      <th>3</th>\n",
              "      <td>4</td>\n",
              "      <td>A</td>\n",
              "      <td>161</td>\n",
              "      <td>1</td>\n",
              "    </tr>\n",
              "    <tr>\n",
              "      <th>4</th>\n",
              "      <td>5</td>\n",
              "      <td>A</td>\n",
              "      <td>104</td>\n",
              "      <td>0</td>\n",
              "    </tr>\n",
              "  </tbody>\n",
              "</table>\n",
              "</div>\n",
              "    <div class=\"colab-df-buttons\">\n",
              "\n",
              "  <div class=\"colab-df-container\">\n",
              "    <button class=\"colab-df-convert\" onclick=\"convertToInteractive('df-200606b5-a796-4131-9ad6-0f67628f6ee6')\"\n",
              "            title=\"Convert this dataframe to an interactive table.\"\n",
              "            style=\"display:none;\">\n",
              "\n",
              "  <svg xmlns=\"http://www.w3.org/2000/svg\" height=\"24px\" viewBox=\"0 -960 960 960\">\n",
              "    <path d=\"M120-120v-720h720v720H120Zm60-500h600v-160H180v160Zm220 220h160v-160H400v160Zm0 220h160v-160H400v160ZM180-400h160v-160H180v160Zm440 0h160v-160H620v160ZM180-180h160v-160H180v160Zm440 0h160v-160H620v160Z\"/>\n",
              "  </svg>\n",
              "    </button>\n",
              "\n",
              "  <style>\n",
              "    .colab-df-container {\n",
              "      display:flex;\n",
              "      gap: 12px;\n",
              "    }\n",
              "\n",
              "    .colab-df-convert {\n",
              "      background-color: #E8F0FE;\n",
              "      border: none;\n",
              "      border-radius: 50%;\n",
              "      cursor: pointer;\n",
              "      display: none;\n",
              "      fill: #1967D2;\n",
              "      height: 32px;\n",
              "      padding: 0 0 0 0;\n",
              "      width: 32px;\n",
              "    }\n",
              "\n",
              "    .colab-df-convert:hover {\n",
              "      background-color: #E2EBFA;\n",
              "      box-shadow: 0px 1px 2px rgba(60, 64, 67, 0.3), 0px 1px 3px 1px rgba(60, 64, 67, 0.15);\n",
              "      fill: #174EA6;\n",
              "    }\n",
              "\n",
              "    .colab-df-buttons div {\n",
              "      margin-bottom: 4px;\n",
              "    }\n",
              "\n",
              "    [theme=dark] .colab-df-convert {\n",
              "      background-color: #3B4455;\n",
              "      fill: #D2E3FC;\n",
              "    }\n",
              "\n",
              "    [theme=dark] .colab-df-convert:hover {\n",
              "      background-color: #434B5C;\n",
              "      box-shadow: 0px 1px 3px 1px rgba(0, 0, 0, 0.15);\n",
              "      filter: drop-shadow(0px 1px 2px rgba(0, 0, 0, 0.3));\n",
              "      fill: #FFFFFF;\n",
              "    }\n",
              "  </style>\n",
              "\n",
              "    <script>\n",
              "      const buttonEl =\n",
              "        document.querySelector('#df-200606b5-a796-4131-9ad6-0f67628f6ee6 button.colab-df-convert');\n",
              "      buttonEl.style.display =\n",
              "        google.colab.kernel.accessAllowed ? 'block' : 'none';\n",
              "\n",
              "      async function convertToInteractive(key) {\n",
              "        const element = document.querySelector('#df-200606b5-a796-4131-9ad6-0f67628f6ee6');\n",
              "        const dataTable =\n",
              "          await google.colab.kernel.invokeFunction('convertToInteractive',\n",
              "                                                    [key], {});\n",
              "        if (!dataTable) return;\n",
              "\n",
              "        const docLinkHtml = 'Like what you see? Visit the ' +\n",
              "          '<a target=\"_blank\" href=https://colab.research.google.com/notebooks/data_table.ipynb>data table notebook</a>'\n",
              "          + ' to learn more about interactive tables.';\n",
              "        element.innerHTML = '';\n",
              "        dataTable['output_type'] = 'display_data';\n",
              "        await google.colab.output.renderOutput(dataTable, element);\n",
              "        const docLink = document.createElement('div');\n",
              "        docLink.innerHTML = docLinkHtml;\n",
              "        element.appendChild(docLink);\n",
              "      }\n",
              "    </script>\n",
              "  </div>\n",
              "\n",
              "\n",
              "<div id=\"df-deef97e8-a650-4b5f-bfee-4e6550bbe44e\">\n",
              "  <button class=\"colab-df-quickchart\" onclick=\"quickchart('df-deef97e8-a650-4b5f-bfee-4e6550bbe44e')\"\n",
              "            title=\"Suggest charts\"\n",
              "            style=\"display:none;\">\n",
              "\n",
              "<svg xmlns=\"http://www.w3.org/2000/svg\" height=\"24px\"viewBox=\"0 0 24 24\"\n",
              "     width=\"24px\">\n",
              "    <g>\n",
              "        <path d=\"M19 3H5c-1.1 0-2 .9-2 2v14c0 1.1.9 2 2 2h14c1.1 0 2-.9 2-2V5c0-1.1-.9-2-2-2zM9 17H7v-7h2v7zm4 0h-2V7h2v10zm4 0h-2v-4h2v4z\"/>\n",
              "    </g>\n",
              "</svg>\n",
              "  </button>\n",
              "\n",
              "<style>\n",
              "  .colab-df-quickchart {\n",
              "      --bg-color: #E8F0FE;\n",
              "      --fill-color: #1967D2;\n",
              "      --hover-bg-color: #E2EBFA;\n",
              "      --hover-fill-color: #174EA6;\n",
              "      --disabled-fill-color: #AAA;\n",
              "      --disabled-bg-color: #DDD;\n",
              "  }\n",
              "\n",
              "  [theme=dark] .colab-df-quickchart {\n",
              "      --bg-color: #3B4455;\n",
              "      --fill-color: #D2E3FC;\n",
              "      --hover-bg-color: #434B5C;\n",
              "      --hover-fill-color: #FFFFFF;\n",
              "      --disabled-bg-color: #3B4455;\n",
              "      --disabled-fill-color: #666;\n",
              "  }\n",
              "\n",
              "  .colab-df-quickchart {\n",
              "    background-color: var(--bg-color);\n",
              "    border: none;\n",
              "    border-radius: 50%;\n",
              "    cursor: pointer;\n",
              "    display: none;\n",
              "    fill: var(--fill-color);\n",
              "    height: 32px;\n",
              "    padding: 0;\n",
              "    width: 32px;\n",
              "  }\n",
              "\n",
              "  .colab-df-quickchart:hover {\n",
              "    background-color: var(--hover-bg-color);\n",
              "    box-shadow: 0 1px 2px rgba(60, 64, 67, 0.3), 0 1px 3px 1px rgba(60, 64, 67, 0.15);\n",
              "    fill: var(--button-hover-fill-color);\n",
              "  }\n",
              "\n",
              "  .colab-df-quickchart-complete:disabled,\n",
              "  .colab-df-quickchart-complete:disabled:hover {\n",
              "    background-color: var(--disabled-bg-color);\n",
              "    fill: var(--disabled-fill-color);\n",
              "    box-shadow: none;\n",
              "  }\n",
              "\n",
              "  .colab-df-spinner {\n",
              "    border: 2px solid var(--fill-color);\n",
              "    border-color: transparent;\n",
              "    border-bottom-color: var(--fill-color);\n",
              "    animation:\n",
              "      spin 1s steps(1) infinite;\n",
              "  }\n",
              "\n",
              "  @keyframes spin {\n",
              "    0% {\n",
              "      border-color: transparent;\n",
              "      border-bottom-color: var(--fill-color);\n",
              "      border-left-color: var(--fill-color);\n",
              "    }\n",
              "    20% {\n",
              "      border-color: transparent;\n",
              "      border-left-color: var(--fill-color);\n",
              "      border-top-color: var(--fill-color);\n",
              "    }\n",
              "    30% {\n",
              "      border-color: transparent;\n",
              "      border-left-color: var(--fill-color);\n",
              "      border-top-color: var(--fill-color);\n",
              "      border-right-color: var(--fill-color);\n",
              "    }\n",
              "    40% {\n",
              "      border-color: transparent;\n",
              "      border-right-color: var(--fill-color);\n",
              "      border-top-color: var(--fill-color);\n",
              "    }\n",
              "    60% {\n",
              "      border-color: transparent;\n",
              "      border-right-color: var(--fill-color);\n",
              "    }\n",
              "    80% {\n",
              "      border-color: transparent;\n",
              "      border-right-color: var(--fill-color);\n",
              "      border-bottom-color: var(--fill-color);\n",
              "    }\n",
              "    90% {\n",
              "      border-color: transparent;\n",
              "      border-bottom-color: var(--fill-color);\n",
              "    }\n",
              "  }\n",
              "</style>\n",
              "\n",
              "  <script>\n",
              "    async function quickchart(key) {\n",
              "      const quickchartButtonEl =\n",
              "        document.querySelector('#' + key + ' button');\n",
              "      quickchartButtonEl.disabled = true;  // To prevent multiple clicks.\n",
              "      quickchartButtonEl.classList.add('colab-df-spinner');\n",
              "      try {\n",
              "        const charts = await google.colab.kernel.invokeFunction(\n",
              "            'suggestCharts', [key], {});\n",
              "      } catch (error) {\n",
              "        console.error('Error during call to suggestCharts:', error);\n",
              "      }\n",
              "      quickchartButtonEl.classList.remove('colab-df-spinner');\n",
              "      quickchartButtonEl.classList.add('colab-df-quickchart-complete');\n",
              "    }\n",
              "    (() => {\n",
              "      let quickchartButtonEl =\n",
              "        document.querySelector('#df-deef97e8-a650-4b5f-bfee-4e6550bbe44e button');\n",
              "      quickchartButtonEl.style.display =\n",
              "        google.colab.kernel.accessAllowed ? 'block' : 'none';\n",
              "    })();\n",
              "  </script>\n",
              "</div>\n",
              "\n",
              "    </div>\n",
              "  </div>\n"
            ],
            "application/vnd.google.colaboratory.intrinsic+json": {
              "type": "dataframe",
              "variable_name": "df_experimento",
              "summary": "{\n  \"name\": \"df_experimento\",\n  \"rows\": 2000,\n  \"fields\": [\n    {\n      \"column\": \"Visitante_ID\",\n      \"properties\": {\n        \"dtype\": \"number\",\n        \"std\": 577,\n        \"min\": 1,\n        \"max\": 2000,\n        \"num_unique_values\": 2000,\n        \"samples\": [\n          1861,\n          354,\n          1334\n        ],\n        \"semantic_type\": \"\",\n        \"description\": \"\"\n      }\n    },\n    {\n      \"column\": \"Vers\\u00e3o_P\\u00e1gina\",\n      \"properties\": {\n        \"dtype\": \"category\",\n        \"num_unique_values\": 2,\n        \"samples\": [\n          \"B\",\n          \"A\"\n        ],\n        \"semantic_type\": \"\",\n        \"description\": \"\"\n      }\n    },\n    {\n      \"column\": \"Visualiza\\u00e7\\u00f5es\",\n      \"properties\": {\n        \"dtype\": \"number\",\n        \"std\": 28,\n        \"min\": 100,\n        \"max\": 199,\n        \"num_unique_values\": 100,\n        \"samples\": [\n          192,\n          107\n        ],\n        \"semantic_type\": \"\",\n        \"description\": \"\"\n      }\n    },\n    {\n      \"column\": \"Convers\\u00f5es\",\n      \"properties\": {\n        \"dtype\": \"number\",\n        \"std\": 0,\n        \"min\": 0,\n        \"max\": 1,\n        \"num_unique_values\": 2,\n        \"samples\": [\n          0,\n          1\n        ],\n        \"semantic_type\": \"\",\n        \"description\": \"\"\n      }\n    }\n  ]\n}"
            }
          },
          "metadata": {},
          "execution_count": 6
        }
      ]
    },
    {
      "cell_type": "code",
      "source": [
        "from statsmodels.stats.proportion import proportions_ztest\n",
        "\n",
        "# Definir as conversões e visualizações de ambos os cenários\n",
        "conversoes_a = df_experimento[df_experimento['Versão_Página'] == 'A']['Conversões'].sum()\n",
        "visualizacoes_a = df_experimento[df_experimento['Versão_Página'] == 'A']['Visualizações'].sum()\n",
        "\n",
        "conversoes_b = df_experimento[df_experimento['Versão_Página'] == 'B']['Conversões'].sum()\n",
        "visualizacoes_b = df_experimento[df_experimento['Versão_Página'] == 'B']['Visualizações'].sum()\n",
        "\n"
      ],
      "metadata": {
        "id": "XAQy37VyrBbv"
      },
      "execution_count": null,
      "outputs": []
    },
    {
      "cell_type": "code",
      "source": [
        "# Calculando as taxas de conversão\n",
        "taxa_conversao_a = conversoes_a / visualizacoes_a\n",
        "taxa_conversao_b = conversoes_b / visualizacoes_b\n",
        "\n",
        "# Exibindo as taxas de conversão\n",
        "print(f\"Taxa de Conversão A: {taxa_conversao_a:.4f}\")\n",
        "print(f\"Taxa de Conversão B: {taxa_conversao_b:.4f}\")\n",
        "\n",
        "# Determinando qual cenário tem a maior taxa de conversão\n",
        "if taxa_conversao_a > taxa_conversao_b:\n",
        "    print(\"Cenário A tem a maior taxa de conversão.\")\n",
        "elif taxa_conversao_b > taxa_conversao_a:\n",
        "    print(\"Cenário B tem a maior taxa de conversão.\")\n",
        "else:\n",
        "    print(\"Ambos os cenários têm a mesma taxa de conversão.\")"
      ],
      "metadata": {
        "colab": {
          "base_uri": "https://localhost:8080/"
        },
        "id": "PBNk-C0fLVAb",
        "outputId": "a39c445c-4cd4-4a15-e805-0665e605f848"
      },
      "execution_count": null,
      "outputs": [
        {
          "output_type": "stream",
          "name": "stdout",
          "text": [
            "Taxa de Conversão A: 0.0007\n",
            "Taxa de Conversão B: 0.0008\n",
            "Cenário B tem a maior taxa de conversão.\n"
          ]
        }
      ]
    },
    {
      "cell_type": "markdown",
      "source": [
        "2. Calcule qual o tamanho da amostra necessária para o desenvolvimento\n",
        "de um teste A/B, seguindo os seguintes critérios:\n",
        "\n",
        "a. O cenário A, da base, como o inicial, que funciona hoje\n",
        "b. Considere 95% de confiança de que o efeito na conversão não foi\n",
        "aleatório com um nível de significância de 5% (alpha = 0,05)."
      ],
      "metadata": {
        "id": "2teTRGQDOGHZ"
      }
    },
    {
      "cell_type": "code",
      "source": [
        "from math import sqrt\n",
        "from statsmodels.stats.power import zt_ind_solve_power\n",
        "\n",
        "# Dados do cenário\n",
        "taxa_conversao_atual = 0.10  # Taxa de conversão atual (cenário A) = 10%\n",
        "taxa_conversao_esperada = 0.11  # Aumento esperado de 10% -> Nova taxa de conversão = 11%\n",
        "\n",
        "# Nível de significância e poder do teste\n",
        "significancia = 0.05  # Nível de significância (5%), ou 95% de confiança\n",
        "poder = 0.80  # Poder do teste (80%), ou 80% de chance de capturar o efeito\n",
        "\n",
        "# Tamanho do efeito mínimo detectável (MDE)\n",
        "efeito_minimo = taxa_conversao_esperada - taxa_conversao_atual\n",
        "\n",
        "# Cálculo do tamanho da amostra\n",
        "n_amostra = zt_ind_solve_power(effect_size=efeito_minimo / sqrt(taxa_conversao_atual * (1 - taxa_conversao_atual)),\n",
        "                               alpha=significancia, power=poder, alternative='two-sided')\n",
        "\n",
        "# Exibir o tamanho da amostra necessário por grupo\n",
        "print(f\"Tamanho necessário da amostra por grupo: {n_amostra:.0f}\")\n"
      ],
      "metadata": {
        "colab": {
          "base_uri": "https://localhost:8080/"
        },
        "id": "JmYuynReSM5F",
        "outputId": "a3649690-6ce1-4d8e-c3e7-d5e9e0f0ac07"
      },
      "execution_count": null,
      "outputs": [
        {
          "output_type": "stream",
          "name": "stdout",
          "text": [
            "Tamanho necessário da amostra por grupo: 1098071\n"
          ]
        }
      ]
    },
    {
      "cell_type": "markdown",
      "source": [
        "Resposta: Questão 3"
      ],
      "metadata": {
        "id": "MHX1HNM3OmQO"
      }
    },
    {
      "cell_type": "code",
      "source": [
        "df_pacientes.head()"
      ],
      "metadata": {
        "colab": {
          "base_uri": "https://localhost:8080/",
          "height": 206
        },
        "id": "zlZXK0slY-U3",
        "outputId": "85576e33-9d5a-4a7c-d004-5860680ea0c1"
      },
      "execution_count": null,
      "outputs": [
        {
          "output_type": "execute_result",
          "data": {
            "text/plain": [
              "   Unnamed: 0  Pressao_Arterial  Idade  Genero  Etnia  Estado_Saude  \\\n",
              "0           0        142.755809     31       1      1             1   \n",
              "1           1        161.878468     35       1      1             0   \n",
              "2           2        161.508259     39       0      3             1   \n",
              "3           3        144.979408     43       1      3             1   \n",
              "4           4        162.502954     55       0      2             1   \n",
              "\n",
              "  Nome_Genero      Nome_Etnia                  Nome_Estado_Saude  \n",
              "0    Feminino  Afro-americano  Com condições de saúde adicionais  \n",
              "1    Feminino  Afro-americano                           Saudável  \n",
              "2   Masculino        Asiático  Com condições de saúde adicionais  \n",
              "3    Feminino        Asiático  Com condições de saúde adicionais  \n",
              "4   Masculino       Hispânico  Com condições de saúde adicionais  "
            ],
            "text/html": [
              "\n",
              "  <div id=\"df-ecb09519-610f-4878-bdab-814321dd097f\" class=\"colab-df-container\">\n",
              "    <div>\n",
              "<style scoped>\n",
              "    .dataframe tbody tr th:only-of-type {\n",
              "        vertical-align: middle;\n",
              "    }\n",
              "\n",
              "    .dataframe tbody tr th {\n",
              "        vertical-align: top;\n",
              "    }\n",
              "\n",
              "    .dataframe thead th {\n",
              "        text-align: right;\n",
              "    }\n",
              "</style>\n",
              "<table border=\"1\" class=\"dataframe\">\n",
              "  <thead>\n",
              "    <tr style=\"text-align: right;\">\n",
              "      <th></th>\n",
              "      <th>Unnamed: 0</th>\n",
              "      <th>Pressao_Arterial</th>\n",
              "      <th>Idade</th>\n",
              "      <th>Genero</th>\n",
              "      <th>Etnia</th>\n",
              "      <th>Estado_Saude</th>\n",
              "      <th>Nome_Genero</th>\n",
              "      <th>Nome_Etnia</th>\n",
              "      <th>Nome_Estado_Saude</th>\n",
              "    </tr>\n",
              "  </thead>\n",
              "  <tbody>\n",
              "    <tr>\n",
              "      <th>0</th>\n",
              "      <td>0</td>\n",
              "      <td>142.755809</td>\n",
              "      <td>31</td>\n",
              "      <td>1</td>\n",
              "      <td>1</td>\n",
              "      <td>1</td>\n",
              "      <td>Feminino</td>\n",
              "      <td>Afro-americano</td>\n",
              "      <td>Com condições de saúde adicionais</td>\n",
              "    </tr>\n",
              "    <tr>\n",
              "      <th>1</th>\n",
              "      <td>1</td>\n",
              "      <td>161.878468</td>\n",
              "      <td>35</td>\n",
              "      <td>1</td>\n",
              "      <td>1</td>\n",
              "      <td>0</td>\n",
              "      <td>Feminino</td>\n",
              "      <td>Afro-americano</td>\n",
              "      <td>Saudável</td>\n",
              "    </tr>\n",
              "    <tr>\n",
              "      <th>2</th>\n",
              "      <td>2</td>\n",
              "      <td>161.508259</td>\n",
              "      <td>39</td>\n",
              "      <td>0</td>\n",
              "      <td>3</td>\n",
              "      <td>1</td>\n",
              "      <td>Masculino</td>\n",
              "      <td>Asiático</td>\n",
              "      <td>Com condições de saúde adicionais</td>\n",
              "    </tr>\n",
              "    <tr>\n",
              "      <th>3</th>\n",
              "      <td>3</td>\n",
              "      <td>144.979408</td>\n",
              "      <td>43</td>\n",
              "      <td>1</td>\n",
              "      <td>3</td>\n",
              "      <td>1</td>\n",
              "      <td>Feminino</td>\n",
              "      <td>Asiático</td>\n",
              "      <td>Com condições de saúde adicionais</td>\n",
              "    </tr>\n",
              "    <tr>\n",
              "      <th>4</th>\n",
              "      <td>4</td>\n",
              "      <td>162.502954</td>\n",
              "      <td>55</td>\n",
              "      <td>0</td>\n",
              "      <td>2</td>\n",
              "      <td>1</td>\n",
              "      <td>Masculino</td>\n",
              "      <td>Hispânico</td>\n",
              "      <td>Com condições de saúde adicionais</td>\n",
              "    </tr>\n",
              "  </tbody>\n",
              "</table>\n",
              "</div>\n",
              "    <div class=\"colab-df-buttons\">\n",
              "\n",
              "  <div class=\"colab-df-container\">\n",
              "    <button class=\"colab-df-convert\" onclick=\"convertToInteractive('df-ecb09519-610f-4878-bdab-814321dd097f')\"\n",
              "            title=\"Convert this dataframe to an interactive table.\"\n",
              "            style=\"display:none;\">\n",
              "\n",
              "  <svg xmlns=\"http://www.w3.org/2000/svg\" height=\"24px\" viewBox=\"0 -960 960 960\">\n",
              "    <path d=\"M120-120v-720h720v720H120Zm60-500h600v-160H180v160Zm220 220h160v-160H400v160Zm0 220h160v-160H400v160ZM180-400h160v-160H180v160Zm440 0h160v-160H620v160ZM180-180h160v-160H180v160Zm440 0h160v-160H620v160Z\"/>\n",
              "  </svg>\n",
              "    </button>\n",
              "\n",
              "  <style>\n",
              "    .colab-df-container {\n",
              "      display:flex;\n",
              "      gap: 12px;\n",
              "    }\n",
              "\n",
              "    .colab-df-convert {\n",
              "      background-color: #E8F0FE;\n",
              "      border: none;\n",
              "      border-radius: 50%;\n",
              "      cursor: pointer;\n",
              "      display: none;\n",
              "      fill: #1967D2;\n",
              "      height: 32px;\n",
              "      padding: 0 0 0 0;\n",
              "      width: 32px;\n",
              "    }\n",
              "\n",
              "    .colab-df-convert:hover {\n",
              "      background-color: #E2EBFA;\n",
              "      box-shadow: 0px 1px 2px rgba(60, 64, 67, 0.3), 0px 1px 3px 1px rgba(60, 64, 67, 0.15);\n",
              "      fill: #174EA6;\n",
              "    }\n",
              "\n",
              "    .colab-df-buttons div {\n",
              "      margin-bottom: 4px;\n",
              "    }\n",
              "\n",
              "    [theme=dark] .colab-df-convert {\n",
              "      background-color: #3B4455;\n",
              "      fill: #D2E3FC;\n",
              "    }\n",
              "\n",
              "    [theme=dark] .colab-df-convert:hover {\n",
              "      background-color: #434B5C;\n",
              "      box-shadow: 0px 1px 3px 1px rgba(0, 0, 0, 0.15);\n",
              "      filter: drop-shadow(0px 1px 2px rgba(0, 0, 0, 0.3));\n",
              "      fill: #FFFFFF;\n",
              "    }\n",
              "  </style>\n",
              "\n",
              "    <script>\n",
              "      const buttonEl =\n",
              "        document.querySelector('#df-ecb09519-610f-4878-bdab-814321dd097f button.colab-df-convert');\n",
              "      buttonEl.style.display =\n",
              "        google.colab.kernel.accessAllowed ? 'block' : 'none';\n",
              "\n",
              "      async function convertToInteractive(key) {\n",
              "        const element = document.querySelector('#df-ecb09519-610f-4878-bdab-814321dd097f');\n",
              "        const dataTable =\n",
              "          await google.colab.kernel.invokeFunction('convertToInteractive',\n",
              "                                                    [key], {});\n",
              "        if (!dataTable) return;\n",
              "\n",
              "        const docLinkHtml = 'Like what you see? Visit the ' +\n",
              "          '<a target=\"_blank\" href=https://colab.research.google.com/notebooks/data_table.ipynb>data table notebook</a>'\n",
              "          + ' to learn more about interactive tables.';\n",
              "        element.innerHTML = '';\n",
              "        dataTable['output_type'] = 'display_data';\n",
              "        await google.colab.output.renderOutput(dataTable, element);\n",
              "        const docLink = document.createElement('div');\n",
              "        docLink.innerHTML = docLinkHtml;\n",
              "        element.appendChild(docLink);\n",
              "      }\n",
              "    </script>\n",
              "  </div>\n",
              "\n",
              "\n",
              "<div id=\"df-5a0ed75a-9ad5-4d9c-b1ea-209b948accb1\">\n",
              "  <button class=\"colab-df-quickchart\" onclick=\"quickchart('df-5a0ed75a-9ad5-4d9c-b1ea-209b948accb1')\"\n",
              "            title=\"Suggest charts\"\n",
              "            style=\"display:none;\">\n",
              "\n",
              "<svg xmlns=\"http://www.w3.org/2000/svg\" height=\"24px\"viewBox=\"0 0 24 24\"\n",
              "     width=\"24px\">\n",
              "    <g>\n",
              "        <path d=\"M19 3H5c-1.1 0-2 .9-2 2v14c0 1.1.9 2 2 2h14c1.1 0 2-.9 2-2V5c0-1.1-.9-2-2-2zM9 17H7v-7h2v7zm4 0h-2V7h2v10zm4 0h-2v-4h2v4z\"/>\n",
              "    </g>\n",
              "</svg>\n",
              "  </button>\n",
              "\n",
              "<style>\n",
              "  .colab-df-quickchart {\n",
              "      --bg-color: #E8F0FE;\n",
              "      --fill-color: #1967D2;\n",
              "      --hover-bg-color: #E2EBFA;\n",
              "      --hover-fill-color: #174EA6;\n",
              "      --disabled-fill-color: #AAA;\n",
              "      --disabled-bg-color: #DDD;\n",
              "  }\n",
              "\n",
              "  [theme=dark] .colab-df-quickchart {\n",
              "      --bg-color: #3B4455;\n",
              "      --fill-color: #D2E3FC;\n",
              "      --hover-bg-color: #434B5C;\n",
              "      --hover-fill-color: #FFFFFF;\n",
              "      --disabled-bg-color: #3B4455;\n",
              "      --disabled-fill-color: #666;\n",
              "  }\n",
              "\n",
              "  .colab-df-quickchart {\n",
              "    background-color: var(--bg-color);\n",
              "    border: none;\n",
              "    border-radius: 50%;\n",
              "    cursor: pointer;\n",
              "    display: none;\n",
              "    fill: var(--fill-color);\n",
              "    height: 32px;\n",
              "    padding: 0;\n",
              "    width: 32px;\n",
              "  }\n",
              "\n",
              "  .colab-df-quickchart:hover {\n",
              "    background-color: var(--hover-bg-color);\n",
              "    box-shadow: 0 1px 2px rgba(60, 64, 67, 0.3), 0 1px 3px 1px rgba(60, 64, 67, 0.15);\n",
              "    fill: var(--button-hover-fill-color);\n",
              "  }\n",
              "\n",
              "  .colab-df-quickchart-complete:disabled,\n",
              "  .colab-df-quickchart-complete:disabled:hover {\n",
              "    background-color: var(--disabled-bg-color);\n",
              "    fill: var(--disabled-fill-color);\n",
              "    box-shadow: none;\n",
              "  }\n",
              "\n",
              "  .colab-df-spinner {\n",
              "    border: 2px solid var(--fill-color);\n",
              "    border-color: transparent;\n",
              "    border-bottom-color: var(--fill-color);\n",
              "    animation:\n",
              "      spin 1s steps(1) infinite;\n",
              "  }\n",
              "\n",
              "  @keyframes spin {\n",
              "    0% {\n",
              "      border-color: transparent;\n",
              "      border-bottom-color: var(--fill-color);\n",
              "      border-left-color: var(--fill-color);\n",
              "    }\n",
              "    20% {\n",
              "      border-color: transparent;\n",
              "      border-left-color: var(--fill-color);\n",
              "      border-top-color: var(--fill-color);\n",
              "    }\n",
              "    30% {\n",
              "      border-color: transparent;\n",
              "      border-left-color: var(--fill-color);\n",
              "      border-top-color: var(--fill-color);\n",
              "      border-right-color: var(--fill-color);\n",
              "    }\n",
              "    40% {\n",
              "      border-color: transparent;\n",
              "      border-right-color: var(--fill-color);\n",
              "      border-top-color: var(--fill-color);\n",
              "    }\n",
              "    60% {\n",
              "      border-color: transparent;\n",
              "      border-right-color: var(--fill-color);\n",
              "    }\n",
              "    80% {\n",
              "      border-color: transparent;\n",
              "      border-right-color: var(--fill-color);\n",
              "      border-bottom-color: var(--fill-color);\n",
              "    }\n",
              "    90% {\n",
              "      border-color: transparent;\n",
              "      border-bottom-color: var(--fill-color);\n",
              "    }\n",
              "  }\n",
              "</style>\n",
              "\n",
              "  <script>\n",
              "    async function quickchart(key) {\n",
              "      const quickchartButtonEl =\n",
              "        document.querySelector('#' + key + ' button');\n",
              "      quickchartButtonEl.disabled = true;  // To prevent multiple clicks.\n",
              "      quickchartButtonEl.classList.add('colab-df-spinner');\n",
              "      try {\n",
              "        const charts = await google.colab.kernel.invokeFunction(\n",
              "            'suggestCharts', [key], {});\n",
              "      } catch (error) {\n",
              "        console.error('Error during call to suggestCharts:', error);\n",
              "      }\n",
              "      quickchartButtonEl.classList.remove('colab-df-spinner');\n",
              "      quickchartButtonEl.classList.add('colab-df-quickchart-complete');\n",
              "    }\n",
              "    (() => {\n",
              "      let quickchartButtonEl =\n",
              "        document.querySelector('#df-5a0ed75a-9ad5-4d9c-b1ea-209b948accb1 button');\n",
              "      quickchartButtonEl.style.display =\n",
              "        google.colab.kernel.accessAllowed ? 'block' : 'none';\n",
              "    })();\n",
              "  </script>\n",
              "</div>\n",
              "\n",
              "    </div>\n",
              "  </div>\n"
            ],
            "application/vnd.google.colaboratory.intrinsic+json": {
              "type": "dataframe",
              "variable_name": "df_pacientes",
              "summary": "{\n  \"name\": \"df_pacientes\",\n  \"rows\": 1000,\n  \"fields\": [\n    {\n      \"column\": \"Unnamed: 0\",\n      \"properties\": {\n        \"dtype\": \"number\",\n        \"std\": 288,\n        \"min\": 0,\n        \"max\": 999,\n        \"num_unique_values\": 1000,\n        \"samples\": [\n          521,\n          737,\n          740\n        ],\n        \"semantic_type\": \"\",\n        \"description\": \"\"\n      }\n    },\n    {\n      \"column\": \"Pressao_Arterial\",\n      \"properties\": {\n        \"dtype\": \"number\",\n        \"std\": 9.943612581359622,\n        \"min\": 112.92982068924913,\n        \"max\": 181.80313088710068,\n        \"num_unique_values\": 1000,\n        \"samples\": [\n          152.04119412297098,\n          147.54391492523183,\n          168.8184130751253\n        ],\n        \"semantic_type\": \"\",\n        \"description\": \"\"\n      }\n    },\n    {\n      \"column\": \"Idade\",\n      \"properties\": {\n        \"dtype\": \"number\",\n        \"std\": 11,\n        \"min\": 30,\n        \"max\": 70,\n        \"num_unique_values\": 41,\n        \"samples\": [\n          30,\n          65,\n          57\n        ],\n        \"semantic_type\": \"\",\n        \"description\": \"\"\n      }\n    },\n    {\n      \"column\": \"Genero\",\n      \"properties\": {\n        \"dtype\": \"number\",\n        \"std\": 0,\n        \"min\": 0,\n        \"max\": 1,\n        \"num_unique_values\": 2,\n        \"samples\": [\n          0,\n          1\n        ],\n        \"semantic_type\": \"\",\n        \"description\": \"\"\n      }\n    },\n    {\n      \"column\": \"Etnia\",\n      \"properties\": {\n        \"dtype\": \"number\",\n        \"std\": 1,\n        \"min\": 0,\n        \"max\": 3,\n        \"num_unique_values\": 4,\n        \"samples\": [\n          3,\n          0\n        ],\n        \"semantic_type\": \"\",\n        \"description\": \"\"\n      }\n    },\n    {\n      \"column\": \"Estado_Saude\",\n      \"properties\": {\n        \"dtype\": \"number\",\n        \"std\": 0,\n        \"min\": 0,\n        \"max\": 1,\n        \"num_unique_values\": 2,\n        \"samples\": [\n          0,\n          1\n        ],\n        \"semantic_type\": \"\",\n        \"description\": \"\"\n      }\n    },\n    {\n      \"column\": \"Nome_Genero\",\n      \"properties\": {\n        \"dtype\": \"category\",\n        \"num_unique_values\": 2,\n        \"samples\": [\n          \"Masculino\",\n          \"Feminino\"\n        ],\n        \"semantic_type\": \"\",\n        \"description\": \"\"\n      }\n    },\n    {\n      \"column\": \"Nome_Etnia\",\n      \"properties\": {\n        \"dtype\": \"category\",\n        \"num_unique_values\": 4,\n        \"samples\": [\n          \"Asi\\u00e1tico\",\n          \"Caucasiano\"\n        ],\n        \"semantic_type\": \"\",\n        \"description\": \"\"\n      }\n    },\n    {\n      \"column\": \"Nome_Estado_Saude\",\n      \"properties\": {\n        \"dtype\": \"category\",\n        \"num_unique_values\": 2,\n        \"samples\": [\n          \"Saud\\u00e1vel\",\n          \"Com condi\\u00e7\\u00f5es de sa\\u00fade adicionais\"\n        ],\n        \"semantic_type\": \"\",\n        \"description\": \"\"\n      }\n    }\n  ]\n}"
            }
          },
          "metadata": {},
          "execution_count": 5
        }
      ]
    },
    {
      "cell_type": "code",
      "source": [
        "df_pacientes.info()"
      ],
      "metadata": {
        "colab": {
          "base_uri": "https://localhost:8080/"
        },
        "id": "AHc7PC4xA5Ad",
        "outputId": "b3346cd1-45a4-4f43-dba8-453bc6bafcb9"
      },
      "execution_count": null,
      "outputs": [
        {
          "output_type": "stream",
          "name": "stdout",
          "text": [
            "<class 'pandas.core.frame.DataFrame'>\n",
            "RangeIndex: 1000 entries, 0 to 999\n",
            "Data columns (total 9 columns):\n",
            " #   Column             Non-Null Count  Dtype  \n",
            "---  ------             --------------  -----  \n",
            " 0   Unnamed: 0         1000 non-null   int64  \n",
            " 1   Pressao_Arterial   1000 non-null   float64\n",
            " 2   Idade              1000 non-null   int64  \n",
            " 3   Genero             1000 non-null   int64  \n",
            " 4   Etnia              1000 non-null   int64  \n",
            " 5   Estado_Saude       1000 non-null   int64  \n",
            " 6   Nome_Genero        1000 non-null   object \n",
            " 7   Nome_Etnia         1000 non-null   object \n",
            " 8   Nome_Estado_Saude  1000 non-null   object \n",
            "dtypes: float64(1), int64(5), object(3)\n",
            "memory usage: 70.4+ KB\n"
          ]
        }
      ]
    },
    {
      "cell_type": "code",
      "source": [
        "# Índices da amostra fornecida\n",
        "indices_amostra = [909, 751, 402, 400, 726, 39, 184, 269, 255, 769,\n",
        "                   209, 715, 677, 381, 793, 697, 89, 280, 232, 756,\n",
        "                   358, 36, 439, 768, 967, 699, 473, 222, 89, 639,\n",
        "                   883, 558, 757, 84, 907, 895, 217, 224, 311, 348,\n",
        "                   146, 505, 273, 957, 362]"
      ],
      "metadata": {
        "id": "oCqc_KOuNIbn"
      },
      "execution_count": null,
      "outputs": []
    },
    {
      "cell_type": "code",
      "source": [
        "# Filtrar as pessoas com \"problemas cardíacos\" e que estão na amostra\n",
        "df_amostra = df_pacientes.loc[indices_amostra]"
      ],
      "metadata": {
        "id": "I7NKorfHNYKy"
      },
      "execution_count": null,
      "outputs": []
    },
    {
      "cell_type": "code",
      "source": [
        "# Filtrar pessoas com problemas cardíacos\n",
        "df_cardiacos = df_amostra[df_amostra['Nome_Estado_Saude'] == 'Com condições de saúde adicionais']"
      ],
      "metadata": {
        "id": "wk-gcr-hNvmR"
      },
      "execution_count": null,
      "outputs": []
    },
    {
      "cell_type": "code",
      "source": [
        "# Realizar o teste t para uma amostra\n",
        "t_stat, p_value = stats.ttest_1samp(df_cardiacos['Idade'], 50, alternative='greater')"
      ],
      "metadata": {
        "id": "9BJsKLlOOGr2"
      },
      "execution_count": null,
      "outputs": []
    },
    {
      "cell_type": "code",
      "source": [
        "# Exibir os resultados\n",
        "print(f\"Estatística t: {t_stat}\")\n",
        "print(f\"p-valor: {p_value}\")"
      ],
      "metadata": {
        "colab": {
          "base_uri": "https://localhost:8080/"
        },
        "id": "sKCLCqSsOV5w",
        "outputId": "20540b60-3a97-4d43-fe66-400318efa123"
      },
      "execution_count": null,
      "outputs": [
        {
          "output_type": "stream",
          "name": "stdout",
          "text": [
            "Estatística t: -0.6664954048927433\n",
            "p-valor: 0.743226312146635\n"
          ]
        }
      ]
    },
    {
      "cell_type": "code",
      "source": [
        "# Verificar se rejeitamos ou não a hipótese nula\n",
        "alpha = 0.05\n",
        "if p_value < alpha:\n",
        "    print(\"Rejeitamos a hipótese nula. A idade média das pessoas com problemas cardíacos é maior que 50 anos.\")\n",
        "else:\n",
        "    print(\"Falhamos em rejeitar a hipótese nula. Não podemos concluir que a idade média das pessoas com problemas cardíacos é maior que 50 anos.\")"
      ],
      "metadata": {
        "colab": {
          "base_uri": "https://localhost:8080/"
        },
        "id": "KdJt_U8hOYRO",
        "outputId": "f1ef02a2-247e-4b80-ba84-26d1bc9842c3"
      },
      "execution_count": null,
      "outputs": [
        {
          "output_type": "stream",
          "name": "stdout",
          "text": [
            "Falhamos em rejeitar a hipótese nula. Não podemos concluir que a idade média das pessoas com problemas cardíacos é maior que 50 anos.\n"
          ]
        }
      ]
    },
    {
      "cell_type": "markdown",
      "source": [
        "Resposta: Questão 4"
      ],
      "metadata": {
        "id": "gQYxgnpKQxDR"
      }
    },
    {
      "cell_type": "code",
      "source": [
        "# Filtrar as pessoas com \"problemas cardíacos\" e \"saudáveis\"\n",
        "grupo_saude_adicional = df_pacientes[df_pacientes['Nome_Estado_Saude'] == 'Com condições de saúde adicionais']['Idade']\n",
        "grupo_saudavel = df_pacientes[df_pacientes['Nome_Estado_Saude'] == 'Saudável']['Idade']\n",
        "\n",
        "# Realizar o teste t para duas amostras independentes\n",
        "t_stat, p_value = stats.ttest_ind(grupo_saude_adicional, grupo_saudavel, equal_var=False)\n",
        "\n",
        "# Exibir os resultados\n",
        "print(f\"Estatística t: {t_stat}\")\n",
        "print(f\"p-valor: {p_value}\")\n",
        "\n",
        "# Interpretação\n",
        "alpha = 0.05\n",
        "if p_value < alpha:\n",
        "    print(\"Rejeitamos a hipótese nula. As médias de idade dos dois grupos são significativamente diferentes.\")\n",
        "else:\n",
        "    print(\"Falhamos em rejeitar a hipótese nula. Não há diferença significativa entre as médias de idade dos dois grupos.\")"
      ],
      "metadata": {
        "colab": {
          "base_uri": "https://localhost:8080/"
        },
        "id": "UnYssN3pP4ud",
        "outputId": "906491a0-b980-4643-802d-c7230e595350"
      },
      "execution_count": null,
      "outputs": [
        {
          "output_type": "stream",
          "name": "stdout",
          "text": [
            "Estatística t: 0.20545774555824178\n",
            "p-valor: 0.837256407989235\n",
            "Falhamos em rejeitar a hipótese nula. Não há diferença significativa entre as médias de idade dos dois grupos.\n"
          ]
        }
      ]
    },
    {
      "cell_type": "markdown",
      "source": [
        "São independentes, mas a análise mostra que, nesse caso, as médias de idade não são estatisticamente diferentes entre eles."
      ],
      "metadata": {
        "id": "owwuflO0Qhen"
      }
    },
    {
      "cell_type": "markdown",
      "source": [
        "Resposta: Questão 5"
      ],
      "metadata": {
        "id": "d9w8JqI8Q3uJ"
      }
    },
    {
      "cell_type": "code",
      "source": [
        "indices_amostra = [690, 894, 67, 201, 364, 19, 60, 319, 588, 643, 855, 623, 530, 174, 105, 693,\n",
        "                   6, 462, 973, 607, 811, 346, 354, 966, 943, 372]"
      ],
      "metadata": {
        "id": "ikpM2571RfJc"
      },
      "execution_count": null,
      "outputs": []
    },
    {
      "cell_type": "code",
      "source": [
        "# Filtrar as pessoas da amostra aleatória\n",
        "df_amostra = df_pacientes.loc[indices_amostra]\n",
        "# Separar os dois grupos\n",
        "grupo_saude_adicional = df_amostra[df_amostra['Nome_Estado_Saude'] == 'Com condições de saúde adicionais']['Pressao_Arterial']\n",
        "grupo_saudavel = df_amostra[df_amostra['Nome_Estado_Saude'] == 'Saudável']['Pressao_Arterial']\n",
        "\n",
        "# Realizar o teste t para duas amostras independentes\n",
        "t_stat, p_value = stats.ttest_ind(grupo_saude_adicional, grupo_saudavel, equal_var=False)\n",
        "\n",
        "# Exibir os resultados\n",
        "print(f\"Estatística t: {t_stat}\")\n",
        "print(f\"p-valor: {p_value}\")\n",
        "\n",
        "# Verificar se rejeitamos ou não a hipótese nula\n",
        "alpha = 0.06\n",
        "if p_value < alpha:\n",
        "    print(\"Rejeitamos a hipótese nula. A pressão arterial média entre os grupos é significativamente diferente.\")\n",
        "else:\n",
        "    print(\"Falhamos em rejeitar a hipótese nula. Não há diferença significativa entre as médias de pressão arterial dos dois grupos.\")"
      ],
      "metadata": {
        "colab": {
          "base_uri": "https://localhost:8080/"
        },
        "id": "2TWwcRJCRmTD",
        "outputId": "9da875bd-b8f9-4fd7-d3a3-c2e00692142d"
      },
      "execution_count": null,
      "outputs": [
        {
          "output_type": "stream",
          "name": "stdout",
          "text": [
            "Estatística t: 0.08304391716460979\n",
            "p-valor: 0.9345291578970931\n",
            "Falhamos em rejeitar a hipótese nula. Não há diferença significativa entre as médias de pressão arterial dos dois grupos.\n"
          ]
        }
      ]
    },
    {
      "cell_type": "markdown",
      "source": [
        "Resposta: Questão 6"
      ],
      "metadata": {
        "id": "IyEsHkTOSOLy"
      }
    },
    {
      "cell_type": "code",
      "source": [
        "\n",
        "# Separar os grupos por etnia\n",
        "grupo_afro = df_pacientes[df_pacientes['Etnia'] == 'Afro-americano']['Pressao_Arterial']\n",
        "grupo_asiatico = df_pacientes[df_pacientes['Etnia'] == 'Asiático']['Pressao_Arterial']\n",
        "grupo_hispanico = df_pacientes[df_pacientes['Etnia'] == 'Hispânico']['Pressao_Arterial']\n",
        "\n",
        "# Verificar se cada grupo tem pelo menos dois elementos\n",
        "if len(grupo_afro) > 1 and len(grupo_asiatico) > 1 and len(grupo_hispanico) > 1:\n",
        "    # Realizar o teste ANOVA\n",
        "    f_stat, p_value = stats.f_oneway(grupo_afro, grupo_asiatico, grupo_hispanico)\n",
        "\n",
        "    # Exibir os resultados\n",
        "    print(f\"Estatística F: {f_stat}\")\n",
        "    print(f\"p-valor: {p_value}\")\n",
        "\n",
        "    # Verificar se rejeitamos ou não a hipótese nula\n",
        "    alpha = 0.05\n",
        "    if p_value < alpha:\n",
        "        print(\"Rejeitamos a hipótese nula. Há uma diferença significativa na pressão arterial média entre pelo menos dois grupos étnicos.\")\n",
        "    else:\n",
        "        print(\"Falhamos em rejeitar a hipótese nula. Não há diferença significativa na pressão arterial média entre os grupos étnicos.\")\n",
        "else:\n",
        "    print(\"Um ou mais grupos têm menos de dois elementos. O teste ANOVA não pode ser realizado.\")"
      ],
      "metadata": {
        "colab": {
          "base_uri": "https://localhost:8080/"
        },
        "id": "RZCmwVqLSSpk",
        "outputId": "3f7788cc-4bc8-4bf9-e150-454d71350fa0"
      },
      "execution_count": null,
      "outputs": [
        {
          "output_type": "stream",
          "name": "stdout",
          "text": [
            "Um ou mais grupos têm menos de dois elementos. O teste ANOVA não pode ser realizado.\n"
          ]
        }
      ]
    },
    {
      "cell_type": "markdown",
      "source": [
        "Resposta: Questão 7"
      ],
      "metadata": {
        "id": "3hlirRHVUCuN"
      }
    },
    {
      "cell_type": "code",
      "source": [
        "# Criar a tabela de contingência\n",
        "tabela_contingencia = pd.crosstab(df_pacientes['Nome_Genero'], df_pacientes['Nome_Estado_Saude'])\n",
        "\n",
        "# Realizar o teste qui-quadrado\n",
        "chi2, p_value, dof, expected = chi2_contingency(tabela_contingencia)\n",
        "\n",
        "# Exibir os resultados\n",
        "print(f\"Valor Qui-quadrado: {chi2}\")\n",
        "print(f\"p-valor: {p_value}\")\n",
        "print(f\"Graus de liberdade: {dof}\")\n",
        "print(\"Tabela esperada:\")\n",
        "print(expected)\n",
        "\n",
        "# Verificar se rejeitamos ou não a hipótese nula\n",
        "alpha = 0.05\n",
        "if p_value < alpha:\n",
        "    print(\"Rejeitamos a hipótese nula. Há uma relação significativa entre gênero e condições de saúde adicionais.\")\n",
        "else:\n",
        "    print(\"Falhamos em rejeitar a hipótese nula. Não há relação significativa entre gênero e condições de saúde adicionais.\")"
      ],
      "metadata": {
        "colab": {
          "base_uri": "https://localhost:8080/"
        },
        "id": "zDVR9sYIUGtc",
        "outputId": "e66459e1-9e53-4ede-dab1-6185ff7653d9"
      },
      "execution_count": null,
      "outputs": [
        {
          "output_type": "stream",
          "name": "stdout",
          "text": [
            "Valor Qui-quadrado: 0.0\n",
            "p-valor: 1.0\n",
            "Graus de liberdade: 1\n",
            "Tabela esperada:\n",
            "[[256.53 246.47]\n",
            " [253.47 243.53]]\n",
            "Falhamos em rejeitar a hipótese nula. Não há relação significativa entre gênero e condições de saúde adicionais.\n"
          ]
        }
      ]
    },
    {
      "cell_type": "markdown",
      "source": [
        "Resposta: Questão 8"
      ],
      "metadata": {
        "id": "YM9KyU67VEfs"
      }
    },
    {
      "cell_type": "code",
      "source": [
        "# Correlação de Pearson\n",
        "pearson_corr, p_value_pearson = pearsonr(df_pacientes['Idade'], df_pacientes['Pressao_Arterial'])\n",
        "\n",
        "# Correlação de Spearman\n",
        "spearman_corr, p_value_spearman = spearmanr(df_pacientes['Idade'], df_pacientes['Pressao_Arterial'])\n",
        "\n",
        "# Exibir os resultados\n",
        "print(f\"Correlação de Pearson: {pearson_corr}, p-valor: {p_value_pearson}\")\n",
        "print(f\"Correlação de Spearman: {spearman_corr}, p-valor: {p_value_spearman}\")\n",
        "\n",
        "# Verificar se rejeitamos ou não a hipótese nula\n",
        "alpha = 0.05\n",
        "\n",
        "if p_value_pearson < alpha:\n",
        "    print(\"Correlação de Pearson: Rejeitamos a hipótese nula. Existe uma associação entre idade e pressão arterial.\")\n",
        "else:\n",
        "    print(\"Correlação de Pearson: Falhamos em rejeitar a hipótese nula. Não há associação significativa entre idade e pressão arterial.\")\n",
        "\n",
        "if p_value_spearman < alpha:\n",
        "    print(\"Correlação de Spearman: Rejeitamos a hipótese nula. Existe uma associação entre idade e pressão arterial.\")\n",
        "else:\n",
        "    print(\"Correlação de Spearman: Falhamos em rejeitar a hipótese nula. Não há associação significativa entre idade e pressão arterial.\")"
      ],
      "metadata": {
        "colab": {
          "base_uri": "https://localhost:8080/"
        },
        "id": "-Tc50azPViF0",
        "outputId": "c9fcb024-8982-49bd-fd8c-e0dab3f0549b"
      },
      "execution_count": null,
      "outputs": [
        {
          "output_type": "stream",
          "name": "stdout",
          "text": [
            "Correlação de Pearson: -0.021385356934648977, p-valor: 0.4993608212055476\n",
            "Correlação de Spearman: -0.036182496829582286, p-valor: 0.25298284904743235\n",
            "Correlação de Pearson: Falhamos em rejeitar a hipótese nula. Não há associação significativa entre idade e pressão arterial.\n",
            "Correlação de Spearman: Falhamos em rejeitar a hipótese nula. Não há associação significativa entre idade e pressão arterial.\n"
          ]
        }
      ]
    },
    {
      "cell_type": "markdown",
      "source": [
        "Resposta: Questão 9"
      ],
      "metadata": {
        "id": "vXrjgyKSV0p6"
      }
    },
    {
      "cell_type": "code",
      "source": [
        "# Exemplo de dados de pressão arterial para pacientes com condições de saúde adicionais\n",
        "pressao_arterial_adicionais = df_amostra[df_amostra['Nome_Estado_Saude'] == 'Com condições de saúde adicionais']['Pressao_Arterial']\n",
        "\n",
        "# Calcular a média e o desvio padrão\n",
        "media = np.mean(pressao_arterial_adicionais)\n",
        "desvio_padrao = np.std(pressao_arterial_adicionais, ddof=1)  # ddof=1 para amostra\n",
        "n = len(pressao_arterial_adicionais)\n",
        "\n",
        "# Nível de confiança de 95%\n",
        "nivel_confianca = 0.95\n",
        "z_critico = stats.norm.ppf(1 - (1 - nivel_confianca) / 2)\n",
        "\n",
        "# Calcular o intervalo de confiança\n",
        "margem_erro = z_critico * (desvio_padrao / np.sqrt(n))\n",
        "limite_inferior = media - margem_erro\n",
        "limite_superior = media + margem_erro\n",
        "\n",
        "# Exibir os resultados\n",
        "print(f\"Média da pressão arterial: {media}\")\n",
        "print(f\"Intervalo de confiança (95%): ({limite_inferior}, {limite_superior})\")"
      ],
      "metadata": {
        "colab": {
          "base_uri": "https://localhost:8080/"
        },
        "id": "zhZFbbZyV3YX",
        "outputId": "62dc3c76-9056-46de-b3ae-abbb1cd92d0c"
      },
      "execution_count": null,
      "outputs": [
        {
          "output_type": "stream",
          "name": "stdout",
          "text": [
            "Média da pressão arterial: 153.19725449805927\n",
            "Intervalo de confiança (95%): (148.99130838222072, 157.4032006138978)\n"
          ]
        }
      ]
    },
    {
      "cell_type": "markdown",
      "source": [
        "Resposta: Questão 10"
      ],
      "metadata": {
        "id": "dgYLKj0BW--q"
      }
    },
    {
      "cell_type": "code",
      "source": [
        "# Filtrando o DataFrame\n",
        "pressao_arterial = df_amostra[df_amostra['Nome_Estado_Saude'] == 'Pressao Arterial']\n",
        "\n",
        "# Verificando o tamanho da amostra filtrada\n",
        "if len(pressao_arterial) >= 3:\n",
        "    print(\"A amostra é suficientemente grande para a análise.\")\n",
        "    # Realizar o teste ou a operação desejada\n",
        "else:\n",
        "    print(\"A amostra não possui elementos suficientes.\")"
      ],
      "metadata": {
        "colab": {
          "base_uri": "https://localhost:8080/"
        },
        "id": "uExt7oN3aZqw",
        "outputId": "51de886a-5915-48a6-aea1-dbdd082c6f47"
      },
      "execution_count": null,
      "outputs": [
        {
          "output_type": "stream",
          "name": "stdout",
          "text": [
            "A amostra não possui elementos suficientes.\n"
          ]
        }
      ]
    }
  ]
}