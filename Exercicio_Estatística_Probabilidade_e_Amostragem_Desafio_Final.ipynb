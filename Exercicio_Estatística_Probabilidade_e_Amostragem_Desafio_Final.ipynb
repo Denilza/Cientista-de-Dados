{
  "nbformat": 4,
  "nbformat_minor": 0,
  "metadata": {
    "colab": {
      "provenance": [],
      "authorship_tag": "ABX9TyMHTJWXAjtkMYnXH/sQddkA",
      "include_colab_link": true
    },
    "kernelspec": {
      "name": "python3",
      "display_name": "Python 3"
    },
    "language_info": {
      "name": "python"
    }
  },
  "cells": [
    {
      "cell_type": "markdown",
      "metadata": {
        "id": "view-in-github",
        "colab_type": "text"
      },
      "source": [
        "<a href=\"https://colab.research.google.com/github/Denilza/Cientista-de-Dados/blob/main/Exercicio_Estat%C3%ADstica_Probabilidade_e_Amostragem_Desafio_Final.ipynb\" target=\"_parent\"><img src=\"https://colab.research.google.com/assets/colab-badge.svg\" alt=\"Open In Colab\"/></a>"
      ]
    },
    {
      "cell_type": "code",
      "execution_count": null,
      "metadata": {
        "id": "wnhpd7Ae0Ce2",
        "collapsed": true
      },
      "outputs": [],
      "source": [
        "import matplotlib.pyplot as plt\n",
        "import scipy.stats as stats\n",
        "import numpy as np\n",
        "\n",
        "\n"
      ]
    },
    {
      "cell_type": "code",
      "source": [
        "\n",
        "import pandas as pd\n",
        "\n",
        "url = 'https://drive.google.com/uc?export=download&id=1VQVAw7MQM5aDs0sH4JNcMXghDNoEQnQU'\n",
        "df = pd.read_csv(url)\n",
        "print(df.head())\n",
        "\n"
      ],
      "metadata": {
        "colab": {
          "base_uri": "https://localhost:8080/"
        },
        "id": "CpLFfuJzRub7",
        "outputId": "205969ff-d924-4d66-c9a3-dbba19397b3f"
      },
      "execution_count": null,
      "outputs": [
        {
          "output_type": "stream",
          "name": "stdout",
          "text": [
            "   Unnamed: 0 estado  idade escolaridade nível de proficiência em inglês  \\\n",
            "0           0     MA     56  Fundamental                   Intermediário   \n",
            "1           1     BA     46     Superior                          Básico   \n",
            "2           2     AM     32  Fundamental                   Intermediário   \n",
            "3           3     CE     60     Superior                          Básico   \n",
            "4           4     SE     25  Fundamental                        Avançado   \n",
            "\n",
            "     renda sexo  \n",
            "0  4006.29    F  \n",
            "1  2423.11    M  \n",
            "2  3835.69    M  \n",
            "3  1870.29    M  \n",
            "4  3529.80    M  \n"
          ]
        }
      ]
    },
    {
      "cell_type": "code",
      "source": [
        "df.columns"
      ],
      "metadata": {
        "colab": {
          "base_uri": "https://localhost:8080/"
        },
        "id": "zYxl7CtPUHMi",
        "outputId": "af424d1c-e548-40fa-ba51-aea1852a85ec"
      },
      "execution_count": null,
      "outputs": [
        {
          "output_type": "execute_result",
          "data": {
            "text/plain": [
              "Index(['Unnamed: 0', 'estado', 'idade', 'escolaridade',\n",
              "       'nível de proficiência em inglês', 'renda', 'sexo'],\n",
              "      dtype='object')"
            ]
          },
          "metadata": {},
          "execution_count": 12
        }
      ]
    },
    {
      "cell_type": "code",
      "source": [
        "df.head()"
      ],
      "metadata": {
        "colab": {
          "base_uri": "https://localhost:8080/",
          "height": 206
        },
        "id": "IhpLEnWAUKpr",
        "outputId": "f8e6cf90-84f2-4bbc-bebe-0b32cd602c73"
      },
      "execution_count": null,
      "outputs": [
        {
          "output_type": "execute_result",
          "data": {
            "text/plain": [
              "   Unnamed: 0 estado  idade escolaridade nível de proficiência em inglês  \\\n",
              "0           0     MA     56  Fundamental                   Intermediário   \n",
              "1           1     BA     46     Superior                          Básico   \n",
              "2           2     AM     32  Fundamental                   Intermediário   \n",
              "3           3     CE     60     Superior                          Básico   \n",
              "4           4     SE     25  Fundamental                        Avançado   \n",
              "\n",
              "     renda sexo  \n",
              "0  4006.29    F  \n",
              "1  2423.11    M  \n",
              "2  3835.69    M  \n",
              "3  1870.29    M  \n",
              "4  3529.80    M  "
            ],
            "text/html": [
              "\n",
              "  <div id=\"df-b89d5e66-b42d-4c8f-b2be-c6038af5eac1\" class=\"colab-df-container\">\n",
              "    <div>\n",
              "<style scoped>\n",
              "    .dataframe tbody tr th:only-of-type {\n",
              "        vertical-align: middle;\n",
              "    }\n",
              "\n",
              "    .dataframe tbody tr th {\n",
              "        vertical-align: top;\n",
              "    }\n",
              "\n",
              "    .dataframe thead th {\n",
              "        text-align: right;\n",
              "    }\n",
              "</style>\n",
              "<table border=\"1\" class=\"dataframe\">\n",
              "  <thead>\n",
              "    <tr style=\"text-align: right;\">\n",
              "      <th></th>\n",
              "      <th>Unnamed: 0</th>\n",
              "      <th>estado</th>\n",
              "      <th>idade</th>\n",
              "      <th>escolaridade</th>\n",
              "      <th>nível de proficiência em inglês</th>\n",
              "      <th>renda</th>\n",
              "      <th>sexo</th>\n",
              "    </tr>\n",
              "  </thead>\n",
              "  <tbody>\n",
              "    <tr>\n",
              "      <th>0</th>\n",
              "      <td>0</td>\n",
              "      <td>MA</td>\n",
              "      <td>56</td>\n",
              "      <td>Fundamental</td>\n",
              "      <td>Intermediário</td>\n",
              "      <td>4006.29</td>\n",
              "      <td>F</td>\n",
              "    </tr>\n",
              "    <tr>\n",
              "      <th>1</th>\n",
              "      <td>1</td>\n",
              "      <td>BA</td>\n",
              "      <td>46</td>\n",
              "      <td>Superior</td>\n",
              "      <td>Básico</td>\n",
              "      <td>2423.11</td>\n",
              "      <td>M</td>\n",
              "    </tr>\n",
              "    <tr>\n",
              "      <th>2</th>\n",
              "      <td>2</td>\n",
              "      <td>AM</td>\n",
              "      <td>32</td>\n",
              "      <td>Fundamental</td>\n",
              "      <td>Intermediário</td>\n",
              "      <td>3835.69</td>\n",
              "      <td>M</td>\n",
              "    </tr>\n",
              "    <tr>\n",
              "      <th>3</th>\n",
              "      <td>3</td>\n",
              "      <td>CE</td>\n",
              "      <td>60</td>\n",
              "      <td>Superior</td>\n",
              "      <td>Básico</td>\n",
              "      <td>1870.29</td>\n",
              "      <td>M</td>\n",
              "    </tr>\n",
              "    <tr>\n",
              "      <th>4</th>\n",
              "      <td>4</td>\n",
              "      <td>SE</td>\n",
              "      <td>25</td>\n",
              "      <td>Fundamental</td>\n",
              "      <td>Avançado</td>\n",
              "      <td>3529.80</td>\n",
              "      <td>M</td>\n",
              "    </tr>\n",
              "  </tbody>\n",
              "</table>\n",
              "</div>\n",
              "    <div class=\"colab-df-buttons\">\n",
              "\n",
              "  <div class=\"colab-df-container\">\n",
              "    <button class=\"colab-df-convert\" onclick=\"convertToInteractive('df-b89d5e66-b42d-4c8f-b2be-c6038af5eac1')\"\n",
              "            title=\"Convert this dataframe to an interactive table.\"\n",
              "            style=\"display:none;\">\n",
              "\n",
              "  <svg xmlns=\"http://www.w3.org/2000/svg\" height=\"24px\" viewBox=\"0 -960 960 960\">\n",
              "    <path d=\"M120-120v-720h720v720H120Zm60-500h600v-160H180v160Zm220 220h160v-160H400v160Zm0 220h160v-160H400v160ZM180-400h160v-160H180v160Zm440 0h160v-160H620v160ZM180-180h160v-160H180v160Zm440 0h160v-160H620v160Z\"/>\n",
              "  </svg>\n",
              "    </button>\n",
              "\n",
              "  <style>\n",
              "    .colab-df-container {\n",
              "      display:flex;\n",
              "      gap: 12px;\n",
              "    }\n",
              "\n",
              "    .colab-df-convert {\n",
              "      background-color: #E8F0FE;\n",
              "      border: none;\n",
              "      border-radius: 50%;\n",
              "      cursor: pointer;\n",
              "      display: none;\n",
              "      fill: #1967D2;\n",
              "      height: 32px;\n",
              "      padding: 0 0 0 0;\n",
              "      width: 32px;\n",
              "    }\n",
              "\n",
              "    .colab-df-convert:hover {\n",
              "      background-color: #E2EBFA;\n",
              "      box-shadow: 0px 1px 2px rgba(60, 64, 67, 0.3), 0px 1px 3px 1px rgba(60, 64, 67, 0.15);\n",
              "      fill: #174EA6;\n",
              "    }\n",
              "\n",
              "    .colab-df-buttons div {\n",
              "      margin-bottom: 4px;\n",
              "    }\n",
              "\n",
              "    [theme=dark] .colab-df-convert {\n",
              "      background-color: #3B4455;\n",
              "      fill: #D2E3FC;\n",
              "    }\n",
              "\n",
              "    [theme=dark] .colab-df-convert:hover {\n",
              "      background-color: #434B5C;\n",
              "      box-shadow: 0px 1px 3px 1px rgba(0, 0, 0, 0.15);\n",
              "      filter: drop-shadow(0px 1px 2px rgba(0, 0, 0, 0.3));\n",
              "      fill: #FFFFFF;\n",
              "    }\n",
              "  </style>\n",
              "\n",
              "    <script>\n",
              "      const buttonEl =\n",
              "        document.querySelector('#df-b89d5e66-b42d-4c8f-b2be-c6038af5eac1 button.colab-df-convert');\n",
              "      buttonEl.style.display =\n",
              "        google.colab.kernel.accessAllowed ? 'block' : 'none';\n",
              "\n",
              "      async function convertToInteractive(key) {\n",
              "        const element = document.querySelector('#df-b89d5e66-b42d-4c8f-b2be-c6038af5eac1');\n",
              "        const dataTable =\n",
              "          await google.colab.kernel.invokeFunction('convertToInteractive',\n",
              "                                                    [key], {});\n",
              "        if (!dataTable) return;\n",
              "\n",
              "        const docLinkHtml = 'Like what you see? Visit the ' +\n",
              "          '<a target=\"_blank\" href=https://colab.research.google.com/notebooks/data_table.ipynb>data table notebook</a>'\n",
              "          + ' to learn more about interactive tables.';\n",
              "        element.innerHTML = '';\n",
              "        dataTable['output_type'] = 'display_data';\n",
              "        await google.colab.output.renderOutput(dataTable, element);\n",
              "        const docLink = document.createElement('div');\n",
              "        docLink.innerHTML = docLinkHtml;\n",
              "        element.appendChild(docLink);\n",
              "      }\n",
              "    </script>\n",
              "  </div>\n",
              "\n",
              "\n",
              "<div id=\"df-012b6c97-4f8e-4e0e-80b7-3f496ebc93e3\">\n",
              "  <button class=\"colab-df-quickchart\" onclick=\"quickchart('df-012b6c97-4f8e-4e0e-80b7-3f496ebc93e3')\"\n",
              "            title=\"Suggest charts\"\n",
              "            style=\"display:none;\">\n",
              "\n",
              "<svg xmlns=\"http://www.w3.org/2000/svg\" height=\"24px\"viewBox=\"0 0 24 24\"\n",
              "     width=\"24px\">\n",
              "    <g>\n",
              "        <path d=\"M19 3H5c-1.1 0-2 .9-2 2v14c0 1.1.9 2 2 2h14c1.1 0 2-.9 2-2V5c0-1.1-.9-2-2-2zM9 17H7v-7h2v7zm4 0h-2V7h2v10zm4 0h-2v-4h2v4z\"/>\n",
              "    </g>\n",
              "</svg>\n",
              "  </button>\n",
              "\n",
              "<style>\n",
              "  .colab-df-quickchart {\n",
              "      --bg-color: #E8F0FE;\n",
              "      --fill-color: #1967D2;\n",
              "      --hover-bg-color: #E2EBFA;\n",
              "      --hover-fill-color: #174EA6;\n",
              "      --disabled-fill-color: #AAA;\n",
              "      --disabled-bg-color: #DDD;\n",
              "  }\n",
              "\n",
              "  [theme=dark] .colab-df-quickchart {\n",
              "      --bg-color: #3B4455;\n",
              "      --fill-color: #D2E3FC;\n",
              "      --hover-bg-color: #434B5C;\n",
              "      --hover-fill-color: #FFFFFF;\n",
              "      --disabled-bg-color: #3B4455;\n",
              "      --disabled-fill-color: #666;\n",
              "  }\n",
              "\n",
              "  .colab-df-quickchart {\n",
              "    background-color: var(--bg-color);\n",
              "    border: none;\n",
              "    border-radius: 50%;\n",
              "    cursor: pointer;\n",
              "    display: none;\n",
              "    fill: var(--fill-color);\n",
              "    height: 32px;\n",
              "    padding: 0;\n",
              "    width: 32px;\n",
              "  }\n",
              "\n",
              "  .colab-df-quickchart:hover {\n",
              "    background-color: var(--hover-bg-color);\n",
              "    box-shadow: 0 1px 2px rgba(60, 64, 67, 0.3), 0 1px 3px 1px rgba(60, 64, 67, 0.15);\n",
              "    fill: var(--button-hover-fill-color);\n",
              "  }\n",
              "\n",
              "  .colab-df-quickchart-complete:disabled,\n",
              "  .colab-df-quickchart-complete:disabled:hover {\n",
              "    background-color: var(--disabled-bg-color);\n",
              "    fill: var(--disabled-fill-color);\n",
              "    box-shadow: none;\n",
              "  }\n",
              "\n",
              "  .colab-df-spinner {\n",
              "    border: 2px solid var(--fill-color);\n",
              "    border-color: transparent;\n",
              "    border-bottom-color: var(--fill-color);\n",
              "    animation:\n",
              "      spin 1s steps(1) infinite;\n",
              "  }\n",
              "\n",
              "  @keyframes spin {\n",
              "    0% {\n",
              "      border-color: transparent;\n",
              "      border-bottom-color: var(--fill-color);\n",
              "      border-left-color: var(--fill-color);\n",
              "    }\n",
              "    20% {\n",
              "      border-color: transparent;\n",
              "      border-left-color: var(--fill-color);\n",
              "      border-top-color: var(--fill-color);\n",
              "    }\n",
              "    30% {\n",
              "      border-color: transparent;\n",
              "      border-left-color: var(--fill-color);\n",
              "      border-top-color: var(--fill-color);\n",
              "      border-right-color: var(--fill-color);\n",
              "    }\n",
              "    40% {\n",
              "      border-color: transparent;\n",
              "      border-right-color: var(--fill-color);\n",
              "      border-top-color: var(--fill-color);\n",
              "    }\n",
              "    60% {\n",
              "      border-color: transparent;\n",
              "      border-right-color: var(--fill-color);\n",
              "    }\n",
              "    80% {\n",
              "      border-color: transparent;\n",
              "      border-right-color: var(--fill-color);\n",
              "      border-bottom-color: var(--fill-color);\n",
              "    }\n",
              "    90% {\n",
              "      border-color: transparent;\n",
              "      border-bottom-color: var(--fill-color);\n",
              "    }\n",
              "  }\n",
              "</style>\n",
              "\n",
              "  <script>\n",
              "    async function quickchart(key) {\n",
              "      const quickchartButtonEl =\n",
              "        document.querySelector('#' + key + ' button');\n",
              "      quickchartButtonEl.disabled = true;  // To prevent multiple clicks.\n",
              "      quickchartButtonEl.classList.add('colab-df-spinner');\n",
              "      try {\n",
              "        const charts = await google.colab.kernel.invokeFunction(\n",
              "            'suggestCharts', [key], {});\n",
              "      } catch (error) {\n",
              "        console.error('Error during call to suggestCharts:', error);\n",
              "      }\n",
              "      quickchartButtonEl.classList.remove('colab-df-spinner');\n",
              "      quickchartButtonEl.classList.add('colab-df-quickchart-complete');\n",
              "    }\n",
              "    (() => {\n",
              "      let quickchartButtonEl =\n",
              "        document.querySelector('#df-012b6c97-4f8e-4e0e-80b7-3f496ebc93e3 button');\n",
              "      quickchartButtonEl.style.display =\n",
              "        google.colab.kernel.accessAllowed ? 'block' : 'none';\n",
              "    })();\n",
              "  </script>\n",
              "</div>\n",
              "\n",
              "    </div>\n",
              "  </div>\n"
            ],
            "application/vnd.google.colaboratory.intrinsic+json": {
              "type": "dataframe",
              "variable_name": "df",
              "summary": "{\n  \"name\": \"df\",\n  \"rows\": 1000,\n  \"fields\": [\n    {\n      \"column\": \"Unnamed: 0\",\n      \"properties\": {\n        \"dtype\": \"number\",\n        \"std\": 288,\n        \"min\": 0,\n        \"max\": 999,\n        \"num_unique_values\": 1000,\n        \"samples\": [\n          521,\n          737,\n          740\n        ],\n        \"semantic_type\": \"\",\n        \"description\": \"\"\n      }\n    },\n    {\n      \"column\": \"estado\",\n      \"properties\": {\n        \"dtype\": \"category\",\n        \"num_unique_values\": 27,\n        \"samples\": [\n          \"AC\",\n          \"PA\",\n          \"SC\"\n        ],\n        \"semantic_type\": \"\",\n        \"description\": \"\"\n      }\n    },\n    {\n      \"column\": \"idade\",\n      \"properties\": {\n        \"dtype\": \"number\",\n        \"std\": 13,\n        \"min\": 18,\n        \"max\": 64,\n        \"num_unique_values\": 47,\n        \"samples\": [\n          24,\n          48,\n          54\n        ],\n        \"semantic_type\": \"\",\n        \"description\": \"\"\n      }\n    },\n    {\n      \"column\": \"escolaridade\",\n      \"properties\": {\n        \"dtype\": \"category\",\n        \"num_unique_values\": 4,\n        \"samples\": [\n          \"Superior\",\n          \"P\\u00f3s-gradua\\u00e7\\u00e3o\",\n          \"Fundamental\"\n        ],\n        \"semantic_type\": \"\",\n        \"description\": \"\"\n      }\n    },\n    {\n      \"column\": \"n\\u00edvel de profici\\u00eancia em ingl\\u00eas\",\n      \"properties\": {\n        \"dtype\": \"category\",\n        \"num_unique_values\": 3,\n        \"samples\": [\n          \"Intermedi\\u00e1rio\",\n          \"B\\u00e1sico\",\n          \"Avan\\u00e7ado\"\n        ],\n        \"semantic_type\": \"\",\n        \"description\": \"\"\n      }\n    },\n    {\n      \"column\": \"renda\",\n      \"properties\": {\n        \"dtype\": \"number\",\n        \"std\": 996.572239312141,\n        \"min\": 103.74,\n        \"max\": 5632.38,\n        \"num_unique_values\": 998,\n        \"samples\": [\n          2752.82,\n          4218.76,\n          2244.62\n        ],\n        \"semantic_type\": \"\",\n        \"description\": \"\"\n      }\n    },\n    {\n      \"column\": \"sexo\",\n      \"properties\": {\n        \"dtype\": \"category\",\n        \"num_unique_values\": 2,\n        \"samples\": [\n          \"M\",\n          \"F\"\n        ],\n        \"semantic_type\": \"\",\n        \"description\": \"\"\n      }\n    }\n  ]\n}"
            }
          },
          "metadata": {},
          "execution_count": 13
        }
      ]
    },
    {
      "cell_type": "markdown",
      "source": [
        "1. Considere pessoas fluentes em inglês, qual a probabilidade complementar? Ou seja, qual a probabilidade de escolhermos uma pessoa aleatória e ela não ser fluente em inglês. Considere fluente quem tem o nível avançado."
      ],
      "metadata": {
        "id": "6WmLT_1aUUkf"
      }
    },
    {
      "cell_type": "code",
      "source": [
        "# Contar o total de pessoas no dataset\n",
        "total_pessoas = len(df)\n",
        "\n",
        "# Contar quantas pessoas têm o nível 'avançado' de inglês (considerando fluente)\n",
        "pessoas_fluentes = df[df['nível de proficiência em inglês'] == 'Avançado'].shape[0]\n",
        "\n",
        "#pessoas_fluentes = len(df[df['nível de proficiência em inglês'] == 'avançado'])"
      ],
      "metadata": {
        "id": "RjhVwR-mUWtA"
      },
      "execution_count": null,
      "outputs": []
    },
    {
      "cell_type": "code",
      "source": [
        "# Calcular a probabilidade de ser fluente\n",
        "prob_fluentes = pessoas_fluentes / total_pessoas\n",
        "\n",
        "# Calcular a probabilidade complementar (não ser fluente)\n",
        "prob_nao_fluente = (1 - prob_fluentes)\n",
        "\n",
        "# Exibir o resultado\n",
        "print(f'Probabilidade de não ser fluente em inglês: {prob_nao_fluente:.2%}')"
      ],
      "metadata": {
        "colab": {
          "base_uri": "https://localhost:8080/"
        },
        "id": "jC1gDYIwUltK",
        "outputId": "41d675d1-0a87-49fe-bba8-d8de32fab238"
      },
      "execution_count": null,
      "outputs": [
        {
          "output_type": "stream",
          "name": "stdout",
          "text": [
            "Probabilidade de não ser fluente em inglês: 65.60%\n"
          ]
        }
      ]
    },
    {
      "cell_type": "markdown",
      "source": [
        "2. Se uma pessoa escolhida aleatoriamente for de Alagoas ou do Pará, qual é a probabilidade de ela ter uma renda superior a 5 mil reais?"
      ],
      "metadata": {
        "id": "Qk3EmU8KUqXr"
      }
    },
    {
      "cell_type": "code",
      "source": [
        "pessoas_alagoas_ou_para = (df[(df['estado'] == 'AL') | (df['estado'] == 'PA')])\n",
        "total_pessoas = len(pessoas_alagoas_ou_para)\n",
        "\n",
        "pessoas_renda_5k = len(pessoas_alagoas_ou_para[pessoas_alagoas_ou_para['renda'] > 5000])\n",
        "\n",
        "probabilidade_renda_5k = pessoas_renda_5k / total_pessoas\n",
        "\n",
        "print(f'Probabilidade de renda superior a 5k: {probabilidade_renda_5k:.2%}')"
      ],
      "metadata": {
        "colab": {
          "base_uri": "https://localhost:8080/"
        },
        "id": "oNtYEDngUrPA",
        "outputId": "df4386ae-a396-4e38-e70c-780f6289f8cb"
      },
      "execution_count": null,
      "outputs": [
        {
          "output_type": "stream",
          "name": "stdout",
          "text": [
            "Probabilidade de renda superior a 5k: 5.06%\n"
          ]
        }
      ]
    },
    {
      "cell_type": "markdown",
      "source": [
        "3. Descubra a probabilidade de uma pessoa ter ensino superior completo no estado do Amazonas. Qual a probabilidade da quinta pessoa que você conversar, que é amazonense, ter ensino superior completo?"
      ],
      "metadata": {
        "id": "RXG_QQ8EU8iA"
      }
    },
    {
      "cell_type": "code",
      "source": [
        "pessoas_amazonas = df[df['estado']== 'AM']"
      ],
      "metadata": {
        "id": "1Rt8Vp9MVFbL"
      },
      "execution_count": null,
      "outputs": []
    },
    {
      "cell_type": "code",
      "source": [
        "p_superior = pessoas_amazonas[(pessoas_amazonas['escolaridade'] == 'Superior')| (pessoas_amazonas['escolaridade'] == 'Pós-graduação')]"
      ],
      "metadata": {
        "id": "XjkS6fP8VJOo"
      },
      "execution_count": null,
      "outputs": []
    },
    {
      "cell_type": "code",
      "source": [
        "total_am = pessoas_amazonas.shape[0]"
      ],
      "metadata": {
        "id": "EE6fFxPjVMBW"
      },
      "execution_count": null,
      "outputs": []
    },
    {
      "cell_type": "code",
      "source": [
        "prop_am = len(p_superior)/total_am\n",
        "prop_am"
      ],
      "metadata": {
        "colab": {
          "base_uri": "https://localhost:8080/"
        },
        "id": "OzVlUZmgVPA-",
        "outputId": "80f35c00-1840-4ce1-e49c-4dd3eec12d6d"
      },
      "execution_count": null,
      "outputs": [
        {
          "output_type": "execute_result",
          "data": {
            "text/plain": [
              "0.5526315789473685"
            ]
          },
          "metadata": {},
          "execution_count": 20
        }
      ]
    },
    {
      "cell_type": "code",
      "source": [
        "prob_geom_5_pessoa = stats.geom.pmf(k=5, p=prop_am)\n",
        "print(f'Probabilidade da quinta pessoa ter ensino superior: {prob_geom_5_pessoa:.2%}')"
      ],
      "metadata": {
        "colab": {
          "base_uri": "https://localhost:8080/"
        },
        "id": "_Lj19IglVUAy",
        "outputId": "2c5fad7a-77f4-4467-e19c-daed37a14793"
      },
      "execution_count": null,
      "outputs": [
        {
          "output_type": "stream",
          "name": "stdout",
          "text": [
            "Probabilidade da quinta pessoa ter ensino superior: 2.21%\n"
          ]
        }
      ]
    },
    {
      "cell_type": "markdown",
      "source": [
        "4. Considerando a renda das pessoas do nosso conjunto, podemos dizer que a renda de uma pessoa brasileira está na sua maioria em que faixa (faça faixa de 1.500 reais)? Qual é a sua função densidade de probabilidade?"
      ],
      "metadata": {
        "id": "RpEfIHHdVbon"
      }
    },
    {
      "cell_type": "code",
      "source": [
        "intervalo = 1500\n",
        "faixas_renda = np.arange(0, df['renda'].max() + intervalo, intervalo)\n",
        "contagem_por_faixa, _ = np.histogram(df['renda'], bins=faixas_renda)\n",
        "\n",
        "faixa_predominante = np.argmax(contagem_por_faixa) * intervalo\n",
        "print(\"Faixa de renda predominante:\", faixa_predominante, \"-\", faixa_predominante + intervalo)"
      ],
      "metadata": {
        "colab": {
          "base_uri": "https://localhost:8080/"
        },
        "id": "AAMpwLHKVcgJ",
        "outputId": "02a9d10b-d54b-490c-f3db-8170227e8c7d"
      },
      "execution_count": null,
      "outputs": [
        {
          "output_type": "stream",
          "name": "stdout",
          "text": [
            "Faixa de renda predominante: 3000 - 4500\n"
          ]
        }
      ]
    },
    {
      "cell_type": "code",
      "source": [
        "plt.hist(df['renda'], bins=faixas_renda)\n",
        "plt.title('Histograma - Função de Densidade de Probabilidade')\n",
        "plt.xlabel('Renda (R$)')\n",
        "plt.ylabel('Densidade de probabilidade')\n",
        "plt.grid(True)\n",
        "plt.show()"
      ],
      "metadata": {
        "colab": {
          "base_uri": "https://localhost:8080/",
          "height": 472
        },
        "id": "49cl3tTCVjFU",
        "outputId": "65bc511b-1a01-482a-ee6a-2d66506f2bae"
      },
      "execution_count": null,
      "outputs": [
        {
          "output_type": "display_data",
          "data": {
            "text/plain": [
              "<Figure size 640x480 with 1 Axes>"
            ],
            "image/png": "[encoded data removed]"
          },
          "metadata": {}
        }
      ]
    },
    {
      "cell_type": "markdown",
      "source": [
        "5. Calcule a média e a variância da renda da amostra. Depois faça a distribuição normal, inclua o gráfico."
      ],
      "metadata": {
        "id": "VqMaSykIaBBY"
      }
    },
    {
      "cell_type": "code",
      "source": [
        "media_renda = df['renda'].mean()\n",
        "variancia_renda = df['renda'].var()\n",
        "\n",
        "print(f\"Média da renda: {media_renda}\")\n",
        "print(\"Variância da renda:\", variancia_renda)"
      ],
      "metadata": {
        "colab": {
          "base_uri": "https://localhost:8080/"
        },
        "id": "w0EuzJNQaGHG",
        "outputId": "3097c922-1d5d-4371-f18d-892e81da9f00"
      },
      "execution_count": null,
      "outputs": [
        {
          "output_type": "stream",
          "name": "stdout",
          "text": [
            "Média da renda: 3082.5371800000003\n",
            "Variância da renda: 993156.2281676152\n"
          ]
        }
      ]
    },
    {
      "cell_type": "code",
      "source": [
        "plt.hist(df['renda'], bins=7)\n",
        "plt.title('Distribuição Normal da Renda')\n",
        "plt.xlabel('Renda (R$)')\n",
        "plt.ylabel('Densidade de probabilidade')\n",
        "plt.grid(True)\n",
        "plt.show()"
      ],
      "metadata": {
        "colab": {
          "base_uri": "https://localhost:8080/",
          "height": 472
        },
        "id": "MCyw49VCaPLW",
        "outputId": "52b85377-e745-4c31-9d95-469521df821f"
      },
      "execution_count": null,
      "outputs": [
        {
          "output_type": "display_data",
          "data": {
            "text/plain": [
              "<Figure size 640x480 with 1 Axes>"
            ],
            "image/png": "[encoded data removed]"
          },
          "metadata": {}
        }
      ]
    },
    {
      "cell_type": "markdown",
      "source": [
        "6. Primeiro considere a probabilidade encontrada no nosso conjunto de pessoas com escolaridade de pós-graduação. Considerando a amostra de população brasileira com 1 milhão de habitantes, qual a probabilidade de encontrarmos 243 mil pessoas com pós-graduação?"
      ],
      "metadata": {
        "id": "jBcz6VSuaVM5"
      }
    },
    {
      "cell_type": "code",
      "source": [
        "p_pos_graduacao = len(df[df['escolaridade'] == 'Pós-graduação']) / len(df)\n",
        "p_pos_graduacao"
      ],
      "metadata": {
        "colab": {
          "base_uri": "https://localhost:8080/"
        },
        "id": "vHPNmNSSaWc3",
        "outputId": "010ee855-f833-4f8a-8683-d93af57e9499"
      },
      "execution_count": null,
      "outputs": [
        {
          "output_type": "execute_result",
          "data": {
            "text/plain": [
              "0.253"
            ]
          },
          "metadata": {},
          "execution_count": 28
        }
      ]
    },
    {
      "cell_type": "code",
      "source": [
        "n = 1000000\n",
        "k= 243000"
      ],
      "metadata": {
        "id": "fSTJ3iM4ao0r"
      },
      "execution_count": null,
      "outputs": []
    },
    {
      "cell_type": "code",
      "source": [
        "prob_pos_grad = stats.binom.pmf(k, n, p_pos_graduacao)\n",
        "print(f'Probabilidade de encontrarmos 243 mil pessoas com pós-graduação: {prob_pos_grad}')"
      ],
      "metadata": {
        "colab": {
          "base_uri": "https://localhost:8080/"
        },
        "id": "ookJOigOajZK",
        "outputId": "0283af6c-fd86-4425-f496-d1faa50461aa"
      },
      "execution_count": null,
      "outputs": [
        {
          "output_type": "stream",
          "name": "stdout",
          "text": [
            "Probabilidade de encontrarmos 243 mil pessoas com pós-graduação: 1.1104854289794913e-119\n"
          ]
        }
      ]
    },
    {
      "cell_type": "markdown",
      "source": [
        "7. Somando as densidades nós temos a função de densidade acumulada. Considerando a coluna ‘Escolaridade’ faça a função de densidade acumulada discreta para cada nível de escolaridade."
      ],
      "metadata": {
        "id": "aHDrONC4a0tk"
      }
    },
    {
      "cell_type": "code",
      "source": [
        "# Contando a frequência de cada nível de escolaridade\n",
        "escolaridade_counts = df['escolaridade'].value_counts()"
      ],
      "metadata": {
        "id": "0mBAjCu9bgBY"
      },
      "execution_count": null,
      "outputs": []
    },
    {
      "cell_type": "code",
      "source": [
        "# Calculando a densidade relativa\n",
        "densidade_relativa = escolaridade_counts / escolaridade_counts.sum()"
      ],
      "metadata": {
        "id": "QeY6cx0nbkSJ"
      },
      "execution_count": null,
      "outputs": []
    },
    {
      "cell_type": "code",
      "source": [
        "# Calculando a densidade acumulada\n",
        "densidade_acumulada = densidade_relativa.cumsum()"
      ],
      "metadata": {
        "id": "WOLxYy51bmu1"
      },
      "execution_count": null,
      "outputs": []
    },
    {
      "cell_type": "code",
      "source": [
        "densidade_acumulada"
      ],
      "metadata": {
        "colab": {
          "base_uri": "https://localhost:8080/",
          "height": 241
        },
        "id": "SiMIKFH1bqHo",
        "outputId": "7ef50754-6cbe-45db-9de5-3e2d60517585"
      },
      "execution_count": null,
      "outputs": [
        {
          "output_type": "execute_result",
          "data": {
            "text/plain": [
              "escolaridade\n",
              "Fundamental      0.266\n",
              "Pós-graduação    0.519\n",
              "Superior         0.762\n",
              "Médio            1.000\n",
              "Name: count, dtype: float64"
            ],
            "text/html": [
              "<div>\n",
              "<style scoped>\n",
              "    .dataframe tbody tr th:only-of-type {\n",
              "        vertical-align: middle;\n",
              "    }\n",
              "\n",
              "    .dataframe tbody tr th {\n",
              "        vertical-align: top;\n",
              "    }\n",
              "\n",
              "    .dataframe thead th {\n",
              "        text-align: right;\n",
              "    }\n",
              "</style>\n",
              "<table border=\"1\" class=\"dataframe\">\n",
              "  <thead>\n",
              "    <tr style=\"text-align: right;\">\n",
              "      <th></th>\n",
              "      <th>count</th>\n",
              "    </tr>\n",
              "    <tr>\n",
              "      <th>escolaridade</th>\n",
              "      <th></th>\n",
              "    </tr>\n",
              "  </thead>\n",
              "  <tbody>\n",
              "    <tr>\n",
              "      <th>Fundamental</th>\n",
              "      <td>0.266</td>\n",
              "    </tr>\n",
              "    <tr>\n",
              "      <th>Pós-graduação</th>\n",
              "      <td>0.519</td>\n",
              "    </tr>\n",
              "    <tr>\n",
              "      <th>Superior</th>\n",
              "      <td>0.762</td>\n",
              "    </tr>\n",
              "    <tr>\n",
              "      <th>Médio</th>\n",
              "      <td>1.000</td>\n",
              "    </tr>\n",
              "  </tbody>\n",
              "</table>\n",
              "</div><br><label><b>dtype:</b> float64</label>"
            ]
          },
          "metadata": {},
          "execution_count": 35
        }
      ]
    },
    {
      "cell_type": "markdown",
      "source": [
        "8. Qual a margem de erro amostral da proporção populacional considerando a proporção de pessoas com nível de inglês intermediário?"
      ],
      "metadata": {
        "id": "PrGSrsqya9sj"
      }
    },
    {
      "cell_type": "code",
      "source": [
        "import math\n",
        "n = len(df)  # Tamanho da amostra\n",
        "p_intermediario = len(df[df['nível de proficiência em inglês'] == 'Intermediário']) / n  # Proporção de intermediário"
      ],
      "metadata": {
        "id": "QUaC0XUBccBZ"
      },
      "execution_count": null,
      "outputs": []
    },
    {
      "cell_type": "code",
      "source": [
        "# Nível de confiança de 95%\n",
        "Z = 1.96"
      ],
      "metadata": {
        "id": "IsfQhFFycl4r"
      },
      "execution_count": null,
      "outputs": []
    },
    {
      "cell_type": "code",
      "source": [
        "ME = Z * math.sqrt((p_intermediario * (1 - p_intermediario)) / n)\n",
        "\n",
        "ME"
      ],
      "metadata": {
        "colab": {
          "base_uri": "https://localhost:8080/"
        },
        "id": "JNiirdZJcprX",
        "outputId": "110c3d70-e48d-400e-94ca-9542312f19bc"
      },
      "execution_count": null,
      "outputs": [
        {
          "output_type": "execute_result",
          "data": {
            "text/plain": [
              "0.029121603225097343"
            ]
          },
          "metadata": {},
          "execution_count": 40
        }
      ]
    },
    {
      "cell_type": "markdown",
      "source": [
        "9. Calcula a renda da população. Qual a probabilidade de encontrar 60 pessoas com uma renda mil reais superior à média?"
      ],
      "metadata": {
        "id": "WGIs9o_za-Vc"
      }
    },
    {
      "cell_type": "code",
      "source": [
        "from scipy.stats import norm\n",
        "renda = df['renda']"
      ],
      "metadata": {
        "id": "HYagWrHfdmIV"
      },
      "execution_count": null,
      "outputs": []
    },
    {
      "cell_type": "code",
      "source": [
        "# 1. Calcular a renda média e o desvio padrão\n",
        "media_renda = renda.mean()\n",
        "desvio_padrao_renda = renda.std()"
      ],
      "metadata": {
        "id": "oTk-SYfJdpkJ"
      },
      "execution_count": null,
      "outputs": []
    },
    {
      "cell_type": "code",
      "source": [
        "# 2. Renda mil reais acima da média\n",
        "renda_acima_1000 = media_renda + 1000"
      ],
      "metadata": {
        "id": "TNKKiavddtA7"
      },
      "execution_count": null,
      "outputs": []
    },
    {
      "cell_type": "code",
      "source": [
        "# 3. Calcular a probabilidade de uma pessoa ter renda >= renda_acima_1000\n",
        "prob_individual = 1 - norm.cdf(renda_acima_1000, loc=media_renda, scale=desvio_padrao_renda)"
      ],
      "metadata": {
        "id": "xtQ7ezUEdwlx"
      },
      "execution_count": null,
      "outputs": []
    },
    {
      "cell_type": "code",
      "source": [
        "# 4. Usar a distribuição binomial para calcular a probabilidade de 60 pessoas terem essa renda\n",
        "n_pessoas = 60\n",
        "probabilidade_60_pessoas = norm.sf(n_pessoas * prob_individual, loc=n_pessoas * prob_individual, scale=np.sqrt(n_pessoas * prob_individual * (1 - prob_individual)))\n",
        "\n",
        "probabilidade_60_pessoas"
      ],
      "metadata": {
        "colab": {
          "base_uri": "https://localhost:8080/"
        },
        "id": "qDPbx6SWeDR_",
        "outputId": "d8f6a14f-25f8-41bd-ce90-aefa8843b4b6"
      },
      "execution_count": null,
      "outputs": [
        {
          "output_type": "execute_result",
          "data": {
            "text/plain": [
              "0.5"
            ]
          },
          "metadata": {},
          "execution_count": 49
        }
      ]
    },
    {
      "cell_type": "markdown",
      "source": [
        "10. Qual a probabilidade de escolhermos alguém do Sudeste que seja homem, com ensino fundamental e com renda maior que 2 mil reais por mês?"
      ],
      "metadata": {
        "id": "ooJSSKUEbC3N"
      }
    },
    {
      "cell_type": "code",
      "source": [
        "estados_sudeste = ['SP', 'RJ', 'MG', 'ES']"
      ],
      "metadata": {
        "id": "QNZW8sACeM0X"
      },
      "execution_count": null,
      "outputs": []
    },
    {
      "cell_type": "code",
      "source": [
        "filtro_sudeste_homem_fundamental_renda = df[\n",
        "    (df['estado'].isin(estados_sudeste)) &\n",
        "    (df['sexo'] == 'M') &\n",
        "    (df['escolaridade'] == 'Fundamental') &\n",
        "    (df['renda'] > 2000)\n",
        "]"
      ],
      "metadata": {
        "id": "0XmS6MuceQou"
      },
      "execution_count": null,
      "outputs": []
    },
    {
      "cell_type": "code",
      "source": [
        "# Tamanho da amostra que atende aos critérios\n",
        "n_selecionados = len(filtro_sudeste_homem_fundamental_renda)"
      ],
      "metadata": {
        "id": "1EDE0eg6eU11"
      },
      "execution_count": null,
      "outputs": []
    },
    {
      "cell_type": "code",
      "source": [
        "# Tamanho total da amostra\n",
        "n_total = len(df)"
      ],
      "metadata": {
        "id": "99_LioVceX3n"
      },
      "execution_count": null,
      "outputs": []
    },
    {
      "cell_type": "code",
      "source": [
        "# Calculando a probabilidade\n",
        "probabilidade = n_selecionados / n_total\n",
        "probabilidade"
      ],
      "metadata": {
        "id": "UIaXnYoieak2",
        "outputId": "92b9f8c4-2bca-47cd-e7e7-cd95fafacc2a",
        "colab": {
          "base_uri": "https://localhost:8080/"
        }
      },
      "execution_count": null,
      "outputs": [
        {
          "output_type": "execute_result",
          "data": {
            "text/plain": [
              "0.019"
            ]
          },
          "metadata": {},
          "execution_count": 54
        }
      ]
    }
  ]
}