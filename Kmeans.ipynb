{
  "nbformat": 4,
  "nbformat_minor": 0,
  "metadata": {
    "colab": {
      "provenance": [],
      "authorship_tag": "ABX9TyPZwx8e9czUikTmtdOOTTf2",
      "include_colab_link": true
    },
    "kernelspec": {
      "name": "python3",
      "display_name": "Python 3"
    },
    "language_info": {
      "name": "python"
    }
  },
  "cells": [
    {
      "cell_type": "markdown",
      "metadata": {
        "id": "view-in-github",
        "colab_type": "text"
      },
      "source": [
        "<a href=\"https://colab.research.google.com/github/Denilza/Cientista-de-Dados/blob/main/Kmeans.ipynb\" target=\"_parent\"><img src=\"https://colab.research.google.com/assets/colab-badge.svg\" alt=\"Open In Colab\"/></a>"
      ]
    },
    {
      "cell_type": "code",
      "execution_count": null,
      "metadata": {
        "colab": {
          "base_uri": "https://localhost:8080/"
        },
        "id": "5Lai2g54CXkh",
        "outputId": "5f13784b-07bb-4738-ffcb-0fa799631f30"
      },
      "outputs": [
        {
          "output_type": "execute_result",
          "data": {
            "text/plain": [
              "<matplotlib.animation.FuncAnimation at 0x78f9a05d3a10>"
            ]
          },
          "metadata": {},
          "execution_count": 2
        }
      ],
      "source": [
        "import matplotlib.pyplot as plt\n",
        "from sklearn.datasets import make_blobs\n",
        "from sklearn.cluster import KMeans\n",
        "import numpy as np\n",
        "import matplotlib.animation as animation\n",
        "\n",
        "# Gerar dados com 3 grupos\n",
        "X, y_true = make_blobs(n_samples=300, centers=3, cluster_std=0.60, random_state=0)\n",
        "\n",
        "# Função para executar KMeans em etapas simulando o processo iterativo\n",
        "def animate_kmeans(X, n_clusters=3, n_init=1, max_iter=10):\n",
        "    fig, ax = plt.subplots(figsize=(8, 6))\n",
        "\n",
        "    kmeans = KMeans(n_clusters=n_clusters, init='random', n_init=n_init, max_iter=1, random_state=0)\n",
        "    kmeans.fit(X)\n",
        "    centers = [kmeans.cluster_centers_]\n",
        "    labels = [kmeans.labels_]\n",
        "\n",
        "    # Repetir manualmente os passos para capturar cada etapa\n",
        "    for _ in range(max_iter - 1):\n",
        "        kmeans = KMeans(n_clusters=n_clusters, init=centers[-1], n_init=1, max_iter=1)\n",
        "        kmeans.fit(X)\n",
        "        centers.append(kmeans.cluster_centers_)\n",
        "        labels.append(kmeans.labels_)\n",
        "\n",
        "    def update(i):\n",
        "        ax.clear()\n",
        "        ax.scatter(X[:, 0], X[:, 1], c=labels[i], s=50, cmap='viridis')\n",
        "        ax.scatter(centers[i][:, 0], centers[i][:, 1], c='black', s=200, alpha=0.75, marker='X')\n",
        "        ax.set_title(f'Iteração {i + 1} do K-Means')\n",
        "        ax.set_xlabel('Característica 1')\n",
        "        ax.set_ylabel('Característica 2')\n",
        "        ax.grid(True)\n",
        "\n",
        "    ani = animation.FuncAnimation(fig, update, frames=len(centers), repeat=False)\n",
        "    return ani\n",
        "\n",
        "# Criar animação\n",
        "ani = animate_kmeans(X, max_iter=7)\n",
        "plt.close()  # Evita mostrar figura estática\n",
        "ani\n"
      ]
    }
  ]
}