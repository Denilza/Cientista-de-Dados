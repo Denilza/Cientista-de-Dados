{
  "nbformat": 4,
  "nbformat_minor": 0,
  "metadata": {
    "colab": {
      "provenance": [],
      "include_colab_link": true
    },
    "kernelspec": {
      "name": "python3",
      "display_name": "Python 3"
    },
    "language_info": {
      "name": "python"
    }
  },
  "cells": [
    {
      "cell_type": "markdown",
      "metadata": {
        "id": "view-in-github",
        "colab_type": "text"
      },
      "source": [
        "<a href=\"https://colab.research.google.com/github/Denilza/Cientista-de-Dados/blob/main/Listas_Dicion%C3%A1rios_Tuplas_Respostas.ipynb\" target=\"_parent\"><img src=\"https://colab.research.google.com/assets/colab-badge.svg\" alt=\"Open In Colab\"/></a>"
      ]
    },
    {
      "cell_type": "markdown",
      "source": [
        "## **Exercício 1 – Manipulação de Listas**\n",
        "\n",
        "Dada a lista:\n",
        "\n",
        "```python\n",
        "frutas = [\"maçã\", \"banana\", \"laranja\"]\n",
        "```\n",
        "\n",
        "a) Adicione a fruta \"uva\" ao final da lista usando o método apropriado.\n",
        "\n",
        "b) Remova a fruta \"banana\" da lista usando o método adequado.\n",
        "\n",
        "c) Substitua \"laranja\" por \"manga\" (modifique na mesma posição).\n",
        "\n",
        "d) Exiba o número de itens na lista após as modificações."
      ],
      "metadata": {
        "id": "2kFngYxO6uRs"
      }
    },
    {
      "cell_type": "code",
      "source": [
        "frutas = [\"maçã\", \"banana\", \"laranja\"]\n",
        "\n",
        "# a) Adicionando \"uva\"\n",
        "frutas.append(\"uva\")  # [\"maçã\", \"banana\", \"laranja\", \"uva\"]\n",
        "\n",
        "# b) Removendo \"banana\"\n",
        "frutas.remove(\"banana\")  # [\"maçã\", \"laranja\", \"uva\"]\n",
        "\n",
        "# c) Substituindo \"laranja\" por \"manga\"\n",
        "frutas[1] = \"manga\"  # [\"maçã\", \"manga\", \"uva\"]\n",
        "\n",
        "# d) Exibindo o número de itens\n",
        "print(len(frutas))  # Saída: 3"
      ],
      "metadata": {
        "id": "R_RTdxgE4QGt"
      },
      "execution_count": null,
      "outputs": []
    },
    {
      "cell_type": "markdown",
      "source": [
        "## **Exercício 2 – Acessando e Fatiando Listas**\n",
        "\n",
        "Com a lista abaixo:\n",
        "\n",
        "```python\n",
        "numeros = [10, 20, 30, 40, 50, 60]\n",
        "```\n",
        "\n",
        "a) Exiba o primeiro e o último elemento.\n",
        "\n",
        "b) Crie uma nova lista chamada **meio** que contenha os elementos do meio (20, 30, 40, 50) usando fatia (slice)."
      ],
      "metadata": {
        "id": "xI5eqxY36wb6"
      }
    },
    {
      "cell_type": "code",
      "source": [
        "numeros = [10, 20, 30, 40, 50, 60]\n",
        "\n",
        "# a) Primeiro e último elemento\n",
        "print(numeros[0])   # 10\n",
        "print(numeros[-1])  # 60\n",
        "\n",
        "# b) Elementos do meio (20, 30, 40, 50)\n",
        "meio = numeros[1:5]  # [20, 30, 40, 50]\n",
        "print(meio)"
      ],
      "metadata": {
        "id": "FxppO4ZW4TvB"
      },
      "execution_count": null,
      "outputs": []
    },
    {
      "cell_type": "markdown",
      "source": [
        "## **Exercício 3 – Usando Dicionários**\n",
        "\n",
        "Considere o dicionário abaixo:\n",
        "\n",
        "```python\n",
        "aluno = {\"nome\": \"José\", \"idade\": 18, \"cidade\": \"Recife\"}\n",
        "```\n",
        "\n",
        "a) Exiba o nome do aluno.\n",
        "\n",
        "b) Adicione ao dicionário um novo campo chamado \"curso\" com valor \"Engenharia\".\n",
        "\n",
        "c) Modifique a idade para 19 anos.\n",
        "\n",
        "d) Remova o campo \"cidade\" do dicionário.\n",
        "\n",
        "e) Liste todas as chaves que existem no dicionário após as modificações."
      ],
      "metadata": {
        "id": "AiT1JedP61so"
      }
    },
    {
      "cell_type": "code",
      "source": [
        "aluno = {\"nome\": \"José\", \"idade\": 18, \"cidade\": \"Recife\"}\n",
        "\n",
        "# a) Exibindo o nome\n",
        "print(aluno[\"nome\"])  # \"José\"\n",
        "\n",
        "# b) Adicionando \"curso\"\n",
        "aluno[\"curso\"] = \"Engenharia\"\n",
        "\n",
        "# c) Modificando idade para 19\n",
        "aluno[\"idade\"] = 19\n",
        "\n",
        "# d) Removendo \"cidade\"\n",
        "del aluno[\"cidade\"]\n",
        "\n",
        "# e) Listando as chaves restantes\n",
        "print(list(aluno.keys()))  # ['nome', 'idade', 'curso']"
      ],
      "metadata": {
        "id": "K1tzXwr04WWi",
        "colab": {
          "base_uri": "https://localhost:8080/"
        },
        "outputId": "4552ed6c-a996-45d9-c061-366dc3f03d76"
      },
      "execution_count": null,
      "outputs": [
        {
          "output_type": "stream",
          "name": "stdout",
          "text": [
            "José\n",
            "['nome', 'idade', 'curso']\n"
          ]
        }
      ]
    },
    {
      "cell_type": "markdown",
      "source": [
        "## **Exercício 4 – Contando Frequência com Dicionário**\n",
        "\n",
        "Dada a lista:\n",
        "\n",
        "```python\n",
        "animais = [\"gato\", \"cachorro\", \"pássaro\", \"gato\", \"gato\", \"cachorro\"]\n",
        "```\n",
        "\n",
        "Crie um dicionário chamado **contagem** que armazena a quantidade de vezes que cada animal aparece na lista."
      ],
      "metadata": {
        "id": "YRp8uOHG65ad"
      }
    },
    {
      "cell_type": "code",
      "source": [
        "animais = [\"gato\", \"cachorro\", \"pássaro\", \"gato\", \"gato\", \"cachorro\"]\n",
        "contagem = {}\n",
        "for animal in animais:\n",
        "    if animal in contagem:\n",
        "        contagem[animal] += 1\n",
        "    else:\n",
        "        contagem[animal] = 1\n",
        "print(contagem)\n",
        "# Saída: {'gato': 3, 'cachorro': 2, 'pássaro': 1}"
      ],
      "metadata": {
        "id": "Rv2qTX_b4ZE8",
        "colab": {
          "base_uri": "https://localhost:8080/"
        },
        "outputId": "f89158a9-1209-4861-ad4b-3fa119abdefe"
      },
      "execution_count": null,
      "outputs": [
        {
          "output_type": "stream",
          "name": "stdout",
          "text": [
            "{'gato': 3, 'cachorro': 2, 'pássaro': 1}\n"
          ]
        }
      ]
    },
    {
      "cell_type": "markdown",
      "source": [
        "## **Exercício 5 – Tuplas: Acesso e Imutabilidade**\n",
        "\n",
        "Dada a tupla:\n",
        "\n",
        "```python\n",
        "pessoa = (\"Maria\", 35, \"São Paulo\")\n",
        "```\n",
        "\n",
        "a) Exiba apenas o nome e a cidade usando índices.\n",
        "\n",
        "b) Tente trocar a idade para 36: o que acontece?\n",
        "\n",
        "c) Cite uma situação em que seria melhor usar uma tupla em vez de uma lista."
      ],
      "metadata": {
        "id": "0lwrVWnI6-V4"
      }
    },
    {
      "cell_type": "code",
      "source": [
        "pessoa = (\"Maria\", 35, \"São Paulo\")\n",
        "\n",
        "# a) Nome e cidade:\n",
        "print(pessoa[0])  # \"Maria\"\n",
        "print(pessoa[2])  # \"São Paulo\"\n",
        "\n",
        "# b) Tentar trocar idade:\n",
        "# pessoa[1] = 36   # Isso gerará um erro: 'tuple' object does not support item assignment\n",
        "\n",
        "# c) Situação para usar tupla:\n",
        "# Exemplo de resposta:\n",
        "# \"Para representar coordenadas geográficas, datas ou registros que não devem ser alterados,\n",
        "# garantindo que os dados permaneçam fixos.\""
      ],
      "metadata": {
        "id": "x3G_krkd4bWy"
      },
      "execution_count": null,
      "outputs": []
    },
    {
      "cell_type": "markdown",
      "source": [
        "## **Exercício 6 – Escolhendo a Estrutura**\n",
        "\n",
        "### Para cada situação a seguir, diga se usaria uma **lista**, um **dicionário** ou uma **tupla**. Justifique sua resposta em poucas palavras.\n",
        "\n",
        "a) Armazenar pares de coordenadas (latitude, longitude) que não devem ser alterados.\n",
        "\n",
        "b) Representar uma lista de compras que o usuário pode adicionar e remover itens.\n",
        "\n",
        "c) Relacionar códigos de funcionários a seus nomes em uma empresa.\n",
        "\n",
        "d) Guardar a data de nascimento de alguém (ano, mês, dia)."
      ],
      "metadata": {
        "id": "POBWq9th7B0N"
      }
    },
    {
      "cell_type": "markdown",
      "source": [
        "a) **Tupla**. Justificativa: Os pares de coordenadas são dados fixos, não precisam ser alterados após definidos.\n",
        "\n",
        "b) **Lista**. Justificativa: A lista de compras muda com frequência (itens podem ser adicionados/removidos).\n",
        "\n",
        "c) **Dicionário**. Justificativa: Precisamos associar um código único a um nome (relação chave-valor).\n",
        "\n",
        "d) **Tupla**. Justificativa: A data de nascimento é fixa para uma pessoa e nunca deve ser alterada."
      ],
      "metadata": {
        "id": "3kRK5HfS4i8D"
      }
    }
  ]
}