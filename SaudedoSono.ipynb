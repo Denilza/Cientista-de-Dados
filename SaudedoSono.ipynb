{
  "nbformat": 4,
  "nbformat_minor": 0,
  "metadata": {
    "colab": {
      "provenance": [],
      "mount_file_id": "1rk1m0gChet93UO38x7HMIR_n6GsE7D7O",
      "authorship_tag": "ABX9TyN1Tx8dcYZxlDcyAGb02D6J",
      "include_colab_link": true
    },
    "kernelspec": {
      "name": "python3",
      "display_name": "Python 3"
    },
    "language_info": {
      "name": "python"
    }
  },
  "cells": [
    {
      "cell_type": "markdown",
      "metadata": {
        "id": "view-in-github",
        "colab_type": "text"
      },
      "source": [
        "<a href=\"https://colab.research.google.com/github/Denilza/Cientista-de-Dados/blob/main/SaudedoSono.ipynb\" target=\"_parent\"><img src=\"https://colab.research.google.com/assets/colab-badge.svg\" alt=\"Open In Colab\"/></a>"
      ]
    },
    {
      "cell_type": "code",
      "execution_count": null,
      "metadata": {
        "id": "T6DFOE6R__2V"
      },
      "outputs": [],
      "source": [
        "import pandas as pd\n",
        "import numpy as np\n"
      ]
    },
    {
      "cell_type": "code",
      "source": [
        "df = pd.read_csv(\"Geq_saude_do_sono_estilo_vida (2).csv\")"
      ],
      "metadata": {
        "id": "cwoEYt4eAZxz"
      },
      "execution_count": null,
      "outputs": []
    },
    {
      "cell_type": "code",
      "source": [
        "df.head()"
      ],
      "metadata": {
        "colab": {
          "base_uri": "https://localhost:8080/",
          "height": 313
        },
        "id": "eDU3nrSfAg9I",
        "outputId": "2890a381-d48f-4878-8487-e822c6289c10"
      },
      "execution_count": null,
      "outputs": [
        {
          "output_type": "execute_result",
          "data": {
            "text/plain": [
              "   ID Gênero  Idade                 Ocupação  Duração do sono  \\\n",
              "0   1  Homem     27         Eng. de Software              6.1   \n",
              "1   2  Homem     28                Médico(a)              6.2   \n",
              "2   3  Homem     28                Médico(a)              6.2   \n",
              "3   4  Homem     28  Representante de Vendas              5.9   \n",
              "4   5  Homem     28  Representante de Vendas              5.9   \n",
              "\n",
              "   Qualidade do sono  Nível de atividade física  Nível de estresse  \\\n",
              "0                  6                         42                  6   \n",
              "1                  6                         60                  8   \n",
              "2                  6                         60                  8   \n",
              "3                  4                         30                  8   \n",
              "4                  4                         30                  8   \n",
              "\n",
              "  Categoria BMI Pressão sanguíneaaaa  Frequência cardíaca  Passos diários  \\\n",
              "0     Sobrepeso               126/83                   77            4200   \n",
              "1        Normal               125/80                   75           10000   \n",
              "2        Normal               125/80                   75           10000   \n",
              "3     Obesidade               140/90                   85            3000   \n",
              "4     Obesidade               140/90                   85            3000   \n",
              "\n",
              "  Distúrbio do sono  \n",
              "0           Nenhuma  \n",
              "1           Nenhuma  \n",
              "2           Nenhuma  \n",
              "3    Apneia do sono  \n",
              "4    Apneia do sono  "
            ],
            "text/html": [
              "\n",
              "  <div id=\"df-3efa68a4-dc5c-4372-b3ed-f15e015605c2\" class=\"colab-df-container\">\n",
              "    <div>\n",
              "<style scoped>\n",
              "    .dataframe tbody tr th:only-of-type {\n",
              "        vertical-align: middle;\n",
              "    }\n",
              "\n",
              "    .dataframe tbody tr th {\n",
              "        vertical-align: top;\n",
              "    }\n",
              "\n",
              "    .dataframe thead th {\n",
              "        text-align: right;\n",
              "    }\n",
              "</style>\n",
              "<table border=\"1\" class=\"dataframe\">\n",
              "  <thead>\n",
              "    <tr style=\"text-align: right;\">\n",
              "      <th></th>\n",
              "      <th>ID</th>\n",
              "      <th>Gênero</th>\n",
              "      <th>Idade</th>\n",
              "      <th>Ocupação</th>\n",
              "      <th>Duração do sono</th>\n",
              "      <th>Qualidade do sono</th>\n",
              "      <th>Nível de atividade física</th>\n",
              "      <th>Nível de estresse</th>\n",
              "      <th>Categoria BMI</th>\n",
              "      <th>Pressão sanguíneaaaa</th>\n",
              "      <th>Frequência cardíaca</th>\n",
              "      <th>Passos diários</th>\n",
              "      <th>Distúrbio do sono</th>\n",
              "    </tr>\n",
              "  </thead>\n",
              "  <tbody>\n",
              "    <tr>\n",
              "      <th>0</th>\n",
              "      <td>1</td>\n",
              "      <td>Homem</td>\n",
              "      <td>27</td>\n",
              "      <td>Eng. de Software</td>\n",
              "      <td>6.1</td>\n",
              "      <td>6</td>\n",
              "      <td>42</td>\n",
              "      <td>6</td>\n",
              "      <td>Sobrepeso</td>\n",
              "      <td>126/83</td>\n",
              "      <td>77</td>\n",
              "      <td>4200</td>\n",
              "      <td>Nenhuma</td>\n",
              "    </tr>\n",
              "    <tr>\n",
              "      <th>1</th>\n",
              "      <td>2</td>\n",
              "      <td>Homem</td>\n",
              "      <td>28</td>\n",
              "      <td>Médico(a)</td>\n",
              "      <td>6.2</td>\n",
              "      <td>6</td>\n",
              "      <td>60</td>\n",
              "      <td>8</td>\n",
              "      <td>Normal</td>\n",
              "      <td>125/80</td>\n",
              "      <td>75</td>\n",
              "      <td>10000</td>\n",
              "      <td>Nenhuma</td>\n",
              "    </tr>\n",
              "    <tr>\n",
              "      <th>2</th>\n",
              "      <td>3</td>\n",
              "      <td>Homem</td>\n",
              "      <td>28</td>\n",
              "      <td>Médico(a)</td>\n",
              "      <td>6.2</td>\n",
              "      <td>6</td>\n",
              "      <td>60</td>\n",
              "      <td>8</td>\n",
              "      <td>Normal</td>\n",
              "      <td>125/80</td>\n",
              "      <td>75</td>\n",
              "      <td>10000</td>\n",
              "      <td>Nenhuma</td>\n",
              "    </tr>\n",
              "    <tr>\n",
              "      <th>3</th>\n",
              "      <td>4</td>\n",
              "      <td>Homem</td>\n",
              "      <td>28</td>\n",
              "      <td>Representante de Vendas</td>\n",
              "      <td>5.9</td>\n",
              "      <td>4</td>\n",
              "      <td>30</td>\n",
              "      <td>8</td>\n",
              "      <td>Obesidade</td>\n",
              "      <td>140/90</td>\n",
              "      <td>85</td>\n",
              "      <td>3000</td>\n",
              "      <td>Apneia do sono</td>\n",
              "    </tr>\n",
              "    <tr>\n",
              "      <th>4</th>\n",
              "      <td>5</td>\n",
              "      <td>Homem</td>\n",
              "      <td>28</td>\n",
              "      <td>Representante de Vendas</td>\n",
              "      <td>5.9</td>\n",
              "      <td>4</td>\n",
              "      <td>30</td>\n",
              "      <td>8</td>\n",
              "      <td>Obesidade</td>\n",
              "      <td>140/90</td>\n",
              "      <td>85</td>\n",
              "      <td>3000</td>\n",
              "      <td>Apneia do sono</td>\n",
              "    </tr>\n",
              "  </tbody>\n",
              "</table>\n",
              "</div>\n",
              "    <div class=\"colab-df-buttons\">\n",
              "\n",
              "  <div class=\"colab-df-container\">\n",
              "    <button class=\"colab-df-convert\" onclick=\"convertToInteractive('df-3efa68a4-dc5c-4372-b3ed-f15e015605c2')\"\n",
              "            title=\"Convert this dataframe to an interactive table.\"\n",
              "            style=\"display:none;\">\n",
              "\n",
              "  <svg xmlns=\"http://www.w3.org/2000/svg\" height=\"24px\" viewBox=\"0 -960 960 960\">\n",
              "    <path d=\"M120-120v-720h720v720H120Zm60-500h600v-160H180v160Zm220 220h160v-160H400v160Zm0 220h160v-160H400v160ZM180-400h160v-160H180v160Zm440 0h160v-160H620v160ZM180-180h160v-160H180v160Zm440 0h160v-160H620v160Z\"/>\n",
              "  </svg>\n",
              "    </button>\n",
              "\n",
              "  <style>\n",
              "    .colab-df-container {\n",
              "      display:flex;\n",
              "      gap: 12px;\n",
              "    }\n",
              "\n",
              "    .colab-df-convert {\n",
              "      background-color: #E8F0FE;\n",
              "      border: none;\n",
              "      border-radius: 50%;\n",
              "      cursor: pointer;\n",
              "      display: none;\n",
              "      fill: #1967D2;\n",
              "      height: 32px;\n",
              "      padding: 0 0 0 0;\n",
              "      width: 32px;\n",
              "    }\n",
              "\n",
              "    .colab-df-convert:hover {\n",
              "      background-color: #E2EBFA;\n",
              "      box-shadow: 0px 1px 2px rgba(60, 64, 67, 0.3), 0px 1px 3px 1px rgba(60, 64, 67, 0.15);\n",
              "      fill: #174EA6;\n",
              "    }\n",
              "\n",
              "    .colab-df-buttons div {\n",
              "      margin-bottom: 4px;\n",
              "    }\n",
              "\n",
              "    [theme=dark] .colab-df-convert {\n",
              "      background-color: #3B4455;\n",
              "      fill: #D2E3FC;\n",
              "    }\n",
              "\n",
              "    [theme=dark] .colab-df-convert:hover {\n",
              "      background-color: #434B5C;\n",
              "      box-shadow: 0px 1px 3px 1px rgba(0, 0, 0, 0.15);\n",
              "      filter: drop-shadow(0px 1px 2px rgba(0, 0, 0, 0.3));\n",
              "      fill: #FFFFFF;\n",
              "    }\n",
              "  </style>\n",
              "\n",
              "    <script>\n",
              "      const buttonEl =\n",
              "        document.querySelector('#df-3efa68a4-dc5c-4372-b3ed-f15e015605c2 button.colab-df-convert');\n",
              "      buttonEl.style.display =\n",
              "        google.colab.kernel.accessAllowed ? 'block' : 'none';\n",
              "\n",
              "      async function convertToInteractive(key) {\n",
              "        const element = document.querySelector('#df-3efa68a4-dc5c-4372-b3ed-f15e015605c2');\n",
              "        const dataTable =\n",
              "          await google.colab.kernel.invokeFunction('convertToInteractive',\n",
              "                                                    [key], {});\n",
              "        if (!dataTable) return;\n",
              "\n",
              "        const docLinkHtml = 'Like what you see? Visit the ' +\n",
              "          '<a target=\"_blank\" href=https://colab.research.google.com/notebooks/data_table.ipynb>data table notebook</a>'\n",
              "          + ' to learn more about interactive tables.';\n",
              "        element.innerHTML = '';\n",
              "        dataTable['output_type'] = 'display_data';\n",
              "        await google.colab.output.renderOutput(dataTable, element);\n",
              "        const docLink = document.createElement('div');\n",
              "        docLink.innerHTML = docLinkHtml;\n",
              "        element.appendChild(docLink);\n",
              "      }\n",
              "    </script>\n",
              "  </div>\n",
              "\n",
              "\n",
              "<div id=\"df-688a786b-eff7-4610-b9ed-8941f154eaf4\">\n",
              "  <button class=\"colab-df-quickchart\" onclick=\"quickchart('df-688a786b-eff7-4610-b9ed-8941f154eaf4')\"\n",
              "            title=\"Suggest charts\"\n",
              "            style=\"display:none;\">\n",
              "\n",
              "<svg xmlns=\"http://www.w3.org/2000/svg\" height=\"24px\"viewBox=\"0 0 24 24\"\n",
              "     width=\"24px\">\n",
              "    <g>\n",
              "        <path d=\"M19 3H5c-1.1 0-2 .9-2 2v14c0 1.1.9 2 2 2h14c1.1 0 2-.9 2-2V5c0-1.1-.9-2-2-2zM9 17H7v-7h2v7zm4 0h-2V7h2v10zm4 0h-2v-4h2v4z\"/>\n",
              "    </g>\n",
              "</svg>\n",
              "  </button>\n",
              "\n",
              "<style>\n",
              "  .colab-df-quickchart {\n",
              "      --bg-color: #E8F0FE;\n",
              "      --fill-color: #1967D2;\n",
              "      --hover-bg-color: #E2EBFA;\n",
              "      --hover-fill-color: #174EA6;\n",
              "      --disabled-fill-color: #AAA;\n",
              "      --disabled-bg-color: #DDD;\n",
              "  }\n",
              "\n",
              "  [theme=dark] .colab-df-quickchart {\n",
              "      --bg-color: #3B4455;\n",
              "      --fill-color: #D2E3FC;\n",
              "      --hover-bg-color: #434B5C;\n",
              "      --hover-fill-color: #FFFFFF;\n",
              "      --disabled-bg-color: #3B4455;\n",
              "      --disabled-fill-color: #666;\n",
              "  }\n",
              "\n",
              "  .colab-df-quickchart {\n",
              "    background-color: var(--bg-color);\n",
              "    border: none;\n",
              "    border-radius: 50%;\n",
              "    cursor: pointer;\n",
              "    display: none;\n",
              "    fill: var(--fill-color);\n",
              "    height: 32px;\n",
              "    padding: 0;\n",
              "    width: 32px;\n",
              "  }\n",
              "\n",
              "  .colab-df-quickchart:hover {\n",
              "    background-color: var(--hover-bg-color);\n",
              "    box-shadow: 0 1px 2px rgba(60, 64, 67, 0.3), 0 1px 3px 1px rgba(60, 64, 67, 0.15);\n",
              "    fill: var(--button-hover-fill-color);\n",
              "  }\n",
              "\n",
              "  .colab-df-quickchart-complete:disabled,\n",
              "  .colab-df-quickchart-complete:disabled:hover {\n",
              "    background-color: var(--disabled-bg-color);\n",
              "    fill: var(--disabled-fill-color);\n",
              "    box-shadow: none;\n",
              "  }\n",
              "\n",
              "  .colab-df-spinner {\n",
              "    border: 2px solid var(--fill-color);\n",
              "    border-color: transparent;\n",
              "    border-bottom-color: var(--fill-color);\n",
              "    animation:\n",
              "      spin 1s steps(1) infinite;\n",
              "  }\n",
              "\n",
              "  @keyframes spin {\n",
              "    0% {\n",
              "      border-color: transparent;\n",
              "      border-bottom-color: var(--fill-color);\n",
              "      border-left-color: var(--fill-color);\n",
              "    }\n",
              "    20% {\n",
              "      border-color: transparent;\n",
              "      border-left-color: var(--fill-color);\n",
              "      border-top-color: var(--fill-color);\n",
              "    }\n",
              "    30% {\n",
              "      border-color: transparent;\n",
              "      border-left-color: var(--fill-color);\n",
              "      border-top-color: var(--fill-color);\n",
              "      border-right-color: var(--fill-color);\n",
              "    }\n",
              "    40% {\n",
              "      border-color: transparent;\n",
              "      border-right-color: var(--fill-color);\n",
              "      border-top-color: var(--fill-color);\n",
              "    }\n",
              "    60% {\n",
              "      border-color: transparent;\n",
              "      border-right-color: var(--fill-color);\n",
              "    }\n",
              "    80% {\n",
              "      border-color: transparent;\n",
              "      border-right-color: var(--fill-color);\n",
              "      border-bottom-color: var(--fill-color);\n",
              "    }\n",
              "    90% {\n",
              "      border-color: transparent;\n",
              "      border-bottom-color: var(--fill-color);\n",
              "    }\n",
              "  }\n",
              "</style>\n",
              "\n",
              "  <script>\n",
              "    async function quickchart(key) {\n",
              "      const quickchartButtonEl =\n",
              "        document.querySelector('#' + key + ' button');\n",
              "      quickchartButtonEl.disabled = true;  // To prevent multiple clicks.\n",
              "      quickchartButtonEl.classList.add('colab-df-spinner');\n",
              "      try {\n",
              "        const charts = await google.colab.kernel.invokeFunction(\n",
              "            'suggestCharts', [key], {});\n",
              "      } catch (error) {\n",
              "        console.error('Error during call to suggestCharts:', error);\n",
              "      }\n",
              "      quickchartButtonEl.classList.remove('colab-df-spinner');\n",
              "      quickchartButtonEl.classList.add('colab-df-quickchart-complete');\n",
              "    }\n",
              "    (() => {\n",
              "      let quickchartButtonEl =\n",
              "        document.querySelector('#df-688a786b-eff7-4610-b9ed-8941f154eaf4 button');\n",
              "      quickchartButtonEl.style.display =\n",
              "        google.colab.kernel.accessAllowed ? 'block' : 'none';\n",
              "    })();\n",
              "  </script>\n",
              "</div>\n",
              "\n",
              "    </div>\n",
              "  </div>\n"
            ],
            "application/vnd.google.colaboratory.intrinsic+json": {
              "type": "dataframe",
              "variable_name": "df",
              "summary": "{\n  \"name\": \"df\",\n  \"rows\": 373,\n  \"fields\": [\n    {\n      \"column\": \"ID\",\n      \"properties\": {\n        \"dtype\": \"number\",\n        \"std\": 107,\n        \"min\": 1,\n        \"max\": 373,\n        \"num_unique_values\": 373,\n        \"samples\": [\n          328,\n          34,\n          16\n        ],\n        \"semantic_type\": \"\",\n        \"description\": \"\"\n      }\n    },\n    {\n      \"column\": \"G\\u00eanero\",\n      \"properties\": {\n        \"dtype\": \"category\",\n        \"num_unique_values\": 2,\n        \"samples\": [\n          \"Mulher\",\n          \"Homem\"\n        ],\n        \"semantic_type\": \"\",\n        \"description\": \"\"\n      }\n    },\n    {\n      \"column\": \"Idade\",\n      \"properties\": {\n        \"dtype\": \"number\",\n        \"std\": 8,\n        \"min\": 27,\n        \"max\": 59,\n        \"num_unique_values\": 31,\n        \"samples\": [\n          56,\n          42\n        ],\n        \"semantic_type\": \"\",\n        \"description\": \"\"\n      }\n    },\n    {\n      \"column\": \"Ocupa\\u00e7\\u00e3o\",\n      \"properties\": {\n        \"dtype\": \"category\",\n        \"num_unique_values\": 11,\n        \"samples\": [\n          \"Engenheiro(a)\",\n          \"Eng. de Software\"\n        ],\n        \"semantic_type\": \"\",\n        \"description\": \"\"\n      }\n    },\n    {\n      \"column\": \"Dura\\u00e7\\u00e3o do sono\",\n      \"properties\": {\n        \"dtype\": \"number\",\n        \"std\": 0.795139135753872,\n        \"min\": 5.8,\n        \"max\": 8.5,\n        \"num_unique_values\": 27,\n        \"samples\": [\n          7.7,\n          5.8\n        ],\n        \"semantic_type\": \"\",\n        \"description\": \"\"\n      }\n    },\n    {\n      \"column\": \"Qualidade do sono\",\n      \"properties\": {\n        \"dtype\": \"number\",\n        \"std\": 1,\n        \"min\": 4,\n        \"max\": 9,\n        \"num_unique_values\": 6,\n        \"samples\": [\n          6,\n          4\n        ],\n        \"semantic_type\": \"\",\n        \"description\": \"\"\n      }\n    },\n    {\n      \"column\": \"N\\u00edvel de atividade f\\u00edsica\",\n      \"properties\": {\n        \"dtype\": \"number\",\n        \"std\": 20,\n        \"min\": 30,\n        \"max\": 90,\n        \"num_unique_values\": 16,\n        \"samples\": [\n          42,\n          60\n        ],\n        \"semantic_type\": \"\",\n        \"description\": \"\"\n      }\n    },\n    {\n      \"column\": \"N\\u00edvel de estresse\",\n      \"properties\": {\n        \"dtype\": \"number\",\n        \"std\": 1,\n        \"min\": 3,\n        \"max\": 8,\n        \"num_unique_values\": 6,\n        \"samples\": [\n          6,\n          8\n        ],\n        \"semantic_type\": \"\",\n        \"description\": \"\"\n      }\n    },\n    {\n      \"column\": \"Categoria BMI\",\n      \"properties\": {\n        \"dtype\": \"category\",\n        \"num_unique_values\": 4,\n        \"samples\": [\n          \"Normal\",\n          \"Peso normal\"\n        ],\n        \"semantic_type\": \"\",\n        \"description\": \"\"\n      }\n    },\n    {\n      \"column\": \"Press\\u00e3o sangu\\u00edneaaaa\",\n      \"properties\": {\n        \"dtype\": \"category\",\n        \"num_unique_values\": 25,\n        \"samples\": [\n          \"128/85\",\n          \"119/77\"\n        ],\n        \"semantic_type\": \"\",\n        \"description\": \"\"\n      }\n    },\n    {\n      \"column\": \"Frequ\\u00eancia card\\u00edaca\",\n      \"properties\": {\n        \"dtype\": \"number\",\n        \"std\": 4,\n        \"min\": 65,\n        \"max\": 86,\n        \"num_unique_values\": 19,\n        \"samples\": [\n          77,\n          80\n        ],\n        \"semantic_type\": \"\",\n        \"description\": \"\"\n      }\n    },\n    {\n      \"column\": \"Passos di\\u00e1rios\",\n      \"properties\": {\n        \"dtype\": \"number\",\n        \"std\": 1620,\n        \"min\": 3000,\n        \"max\": 10000,\n        \"num_unique_values\": 20,\n        \"samples\": [\n          4200,\n          6200\n        ],\n        \"semantic_type\": \"\",\n        \"description\": \"\"\n      }\n    },\n    {\n      \"column\": \"Dist\\u00farbio do sono\",\n      \"properties\": {\n        \"dtype\": \"category\",\n        \"num_unique_values\": 3,\n        \"samples\": [\n          \"Nenhuma\",\n          \"Apneia do sono\"\n        ],\n        \"semantic_type\": \"\",\n        \"description\": \"\"\n      }\n    }\n  ]\n}"
            }
          },
          "metadata": {},
          "execution_count": 24
        }
      ]
    },
    {
      "cell_type": "markdown",
      "source": [
        "##1. Ao visualizar a base você percebeu que seria melhor alterar o nome de algumas colunas. Mude o ‘ID’ para ‘Identificador’, corrija o nome da coluna que indica a pressão sanguínea, mude a coluna ‘Ocupação’ para ‘Profissão’, a coluna ‘Categoria BMI’ está em parte em inglês, substitua para ‘Categoria IMC’"
      ],
      "metadata": {
        "id": "VvB00eBZtppF"
      }
    },
    {
      "cell_type": "code",
      "source": [
        "novas_cols = {'ID': 'Identificador',\n",
        "              'Pressão sanguíneaaaa': 'Pressão Sanguínea',\n",
        "              'Ocupação': 'Profissão',\n",
        "              'Categoria BMI': 'Categoria IMC'\n",
        "                            }"
      ],
      "metadata": {
        "id": "imn22_WfA_gM"
      },
      "execution_count": null,
      "outputs": []
    },
    {
      "cell_type": "code",
      "source": [
        "df.rename(columns=novas_cols, inplace=True)\n",
        "df.head()"
      ],
      "metadata": {
        "colab": {
          "base_uri": "https://localhost:8080/",
          "height": 313
        },
        "id": "HPmnvegQF6j8",
        "outputId": "e6600c8e-f17a-4a00-e690-0805f9c35969"
      },
      "execution_count": null,
      "outputs": [
        {
          "output_type": "execute_result",
          "data": {
            "text/plain": [
              "   Identificador Gênero  Idade                Profissão  Duração do sono  \\\n",
              "0              1  Homem     27         Eng. de Software              6.1   \n",
              "1              2  Homem     28                Médico(a)              6.2   \n",
              "2              3  Homem     28                Médico(a)              6.2   \n",
              "3              4  Homem     28  Representante de Vendas              5.9   \n",
              "4              5  Homem     28  Representante de Vendas              5.9   \n",
              "\n",
              "   Qualidade do sono  Nível de atividade física  Nível de estresse  \\\n",
              "0                  6                         42                  6   \n",
              "1                  6                         60                  8   \n",
              "2                  6                         60                  8   \n",
              "3                  4                         30                  8   \n",
              "4                  4                         30                  8   \n",
              "\n",
              "  Categoria IMC Pressão Sanguínea  Frequência cardíaca  Passos diários  \\\n",
              "0     Sobrepeso            126/83                   77            4200   \n",
              "1        Normal            125/80                   75           10000   \n",
              "2        Normal            125/80                   75           10000   \n",
              "3     Obesidade            140/90                   85            3000   \n",
              "4     Obesidade            140/90                   85            3000   \n",
              "\n",
              "  Distúrbio do sono  \n",
              "0           Nenhuma  \n",
              "1           Nenhuma  \n",
              "2           Nenhuma  \n",
              "3    Apneia do sono  \n",
              "4    Apneia do sono  "
            ],
            "text/html": [
              "\n",
              "  <div id=\"df-3ae235f1-1892-45bd-a447-ce7657797752\" class=\"colab-df-container\">\n",
              "    <div>\n",
              "<style scoped>\n",
              "    .dataframe tbody tr th:only-of-type {\n",
              "        vertical-align: middle;\n",
              "    }\n",
              "\n",
              "    .dataframe tbody tr th {\n",
              "        vertical-align: top;\n",
              "    }\n",
              "\n",
              "    .dataframe thead th {\n",
              "        text-align: right;\n",
              "    }\n",
              "</style>\n",
              "<table border=\"1\" class=\"dataframe\">\n",
              "  <thead>\n",
              "    <tr style=\"text-align: right;\">\n",
              "      <th></th>\n",
              "      <th>Identificador</th>\n",
              "      <th>Gênero</th>\n",
              "      <th>Idade</th>\n",
              "      <th>Profissão</th>\n",
              "      <th>Duração do sono</th>\n",
              "      <th>Qualidade do sono</th>\n",
              "      <th>Nível de atividade física</th>\n",
              "      <th>Nível de estresse</th>\n",
              "      <th>Categoria IMC</th>\n",
              "      <th>Pressão Sanguínea</th>\n",
              "      <th>Frequência cardíaca</th>\n",
              "      <th>Passos diários</th>\n",
              "      <th>Distúrbio do sono</th>\n",
              "    </tr>\n",
              "  </thead>\n",
              "  <tbody>\n",
              "    <tr>\n",
              "      <th>0</th>\n",
              "      <td>1</td>\n",
              "      <td>Homem</td>\n",
              "      <td>27</td>\n",
              "      <td>Eng. de Software</td>\n",
              "      <td>6.1</td>\n",
              "      <td>6</td>\n",
              "      <td>42</td>\n",
              "      <td>6</td>\n",
              "      <td>Sobrepeso</td>\n",
              "      <td>126/83</td>\n",
              "      <td>77</td>\n",
              "      <td>4200</td>\n",
              "      <td>Nenhuma</td>\n",
              "    </tr>\n",
              "    <tr>\n",
              "      <th>1</th>\n",
              "      <td>2</td>\n",
              "      <td>Homem</td>\n",
              "      <td>28</td>\n",
              "      <td>Médico(a)</td>\n",
              "      <td>6.2</td>\n",
              "      <td>6</td>\n",
              "      <td>60</td>\n",
              "      <td>8</td>\n",
              "      <td>Normal</td>\n",
              "      <td>125/80</td>\n",
              "      <td>75</td>\n",
              "      <td>10000</td>\n",
              "      <td>Nenhuma</td>\n",
              "    </tr>\n",
              "    <tr>\n",
              "      <th>2</th>\n",
              "      <td>3</td>\n",
              "      <td>Homem</td>\n",
              "      <td>28</td>\n",
              "      <td>Médico(a)</td>\n",
              "      <td>6.2</td>\n",
              "      <td>6</td>\n",
              "      <td>60</td>\n",
              "      <td>8</td>\n",
              "      <td>Normal</td>\n",
              "      <td>125/80</td>\n",
              "      <td>75</td>\n",
              "      <td>10000</td>\n",
              "      <td>Nenhuma</td>\n",
              "    </tr>\n",
              "    <tr>\n",
              "      <th>3</th>\n",
              "      <td>4</td>\n",
              "      <td>Homem</td>\n",
              "      <td>28</td>\n",
              "      <td>Representante de Vendas</td>\n",
              "      <td>5.9</td>\n",
              "      <td>4</td>\n",
              "      <td>30</td>\n",
              "      <td>8</td>\n",
              "      <td>Obesidade</td>\n",
              "      <td>140/90</td>\n",
              "      <td>85</td>\n",
              "      <td>3000</td>\n",
              "      <td>Apneia do sono</td>\n",
              "    </tr>\n",
              "    <tr>\n",
              "      <th>4</th>\n",
              "      <td>5</td>\n",
              "      <td>Homem</td>\n",
              "      <td>28</td>\n",
              "      <td>Representante de Vendas</td>\n",
              "      <td>5.9</td>\n",
              "      <td>4</td>\n",
              "      <td>30</td>\n",
              "      <td>8</td>\n",
              "      <td>Obesidade</td>\n",
              "      <td>140/90</td>\n",
              "      <td>85</td>\n",
              "      <td>3000</td>\n",
              "      <td>Apneia do sono</td>\n",
              "    </tr>\n",
              "  </tbody>\n",
              "</table>\n",
              "</div>\n",
              "    <div class=\"colab-df-buttons\">\n",
              "\n",
              "  <div class=\"colab-df-container\">\n",
              "    <button class=\"colab-df-convert\" onclick=\"convertToInteractive('df-3ae235f1-1892-45bd-a447-ce7657797752')\"\n",
              "            title=\"Convert this dataframe to an interactive table.\"\n",
              "            style=\"display:none;\">\n",
              "\n",
              "  <svg xmlns=\"http://www.w3.org/2000/svg\" height=\"24px\" viewBox=\"0 -960 960 960\">\n",
              "    <path d=\"M120-120v-720h720v720H120Zm60-500h600v-160H180v160Zm220 220h160v-160H400v160Zm0 220h160v-160H400v160ZM180-400h160v-160H180v160Zm440 0h160v-160H620v160ZM180-180h160v-160H180v160Zm440 0h160v-160H620v160Z\"/>\n",
              "  </svg>\n",
              "    </button>\n",
              "\n",
              "  <style>\n",
              "    .colab-df-container {\n",
              "      display:flex;\n",
              "      gap: 12px;\n",
              "    }\n",
              "\n",
              "    .colab-df-convert {\n",
              "      background-color: #E8F0FE;\n",
              "      border: none;\n",
              "      border-radius: 50%;\n",
              "      cursor: pointer;\n",
              "      display: none;\n",
              "      fill: #1967D2;\n",
              "      height: 32px;\n",
              "      padding: 0 0 0 0;\n",
              "      width: 32px;\n",
              "    }\n",
              "\n",
              "    .colab-df-convert:hover {\n",
              "      background-color: #E2EBFA;\n",
              "      box-shadow: 0px 1px 2px rgba(60, 64, 67, 0.3), 0px 1px 3px 1px rgba(60, 64, 67, 0.15);\n",
              "      fill: #174EA6;\n",
              "    }\n",
              "\n",
              "    .colab-df-buttons div {\n",
              "      margin-bottom: 4px;\n",
              "    }\n",
              "\n",
              "    [theme=dark] .colab-df-convert {\n",
              "      background-color: #3B4455;\n",
              "      fill: #D2E3FC;\n",
              "    }\n",
              "\n",
              "    [theme=dark] .colab-df-convert:hover {\n",
              "      background-color: #434B5C;\n",
              "      box-shadow: 0px 1px 3px 1px rgba(0, 0, 0, 0.15);\n",
              "      filter: drop-shadow(0px 1px 2px rgba(0, 0, 0, 0.3));\n",
              "      fill: #FFFFFF;\n",
              "    }\n",
              "  </style>\n",
              "\n",
              "    <script>\n",
              "      const buttonEl =\n",
              "        document.querySelector('#df-3ae235f1-1892-45bd-a447-ce7657797752 button.colab-df-convert');\n",
              "      buttonEl.style.display =\n",
              "        google.colab.kernel.accessAllowed ? 'block' : 'none';\n",
              "\n",
              "      async function convertToInteractive(key) {\n",
              "        const element = document.querySelector('#df-3ae235f1-1892-45bd-a447-ce7657797752');\n",
              "        const dataTable =\n",
              "          await google.colab.kernel.invokeFunction('convertToInteractive',\n",
              "                                                    [key], {});\n",
              "        if (!dataTable) return;\n",
              "\n",
              "        const docLinkHtml = 'Like what you see? Visit the ' +\n",
              "          '<a target=\"_blank\" href=https://colab.research.google.com/notebooks/data_table.ipynb>data table notebook</a>'\n",
              "          + ' to learn more about interactive tables.';\n",
              "        element.innerHTML = '';\n",
              "        dataTable['output_type'] = 'display_data';\n",
              "        await google.colab.output.renderOutput(dataTable, element);\n",
              "        const docLink = document.createElement('div');\n",
              "        docLink.innerHTML = docLinkHtml;\n",
              "        element.appendChild(docLink);\n",
              "      }\n",
              "    </script>\n",
              "  </div>\n",
              "\n",
              "\n",
              "<div id=\"df-762df5d5-c3b1-497f-8817-f7d657553b0c\">\n",
              "  <button class=\"colab-df-quickchart\" onclick=\"quickchart('df-762df5d5-c3b1-497f-8817-f7d657553b0c')\"\n",
              "            title=\"Suggest charts\"\n",
              "            style=\"display:none;\">\n",
              "\n",
              "<svg xmlns=\"http://www.w3.org/2000/svg\" height=\"24px\"viewBox=\"0 0 24 24\"\n",
              "     width=\"24px\">\n",
              "    <g>\n",
              "        <path d=\"M19 3H5c-1.1 0-2 .9-2 2v14c0 1.1.9 2 2 2h14c1.1 0 2-.9 2-2V5c0-1.1-.9-2-2-2zM9 17H7v-7h2v7zm4 0h-2V7h2v10zm4 0h-2v-4h2v4z\"/>\n",
              "    </g>\n",
              "</svg>\n",
              "  </button>\n",
              "\n",
              "<style>\n",
              "  .colab-df-quickchart {\n",
              "      --bg-color: #E8F0FE;\n",
              "      --fill-color: #1967D2;\n",
              "      --hover-bg-color: #E2EBFA;\n",
              "      --hover-fill-color: #174EA6;\n",
              "      --disabled-fill-color: #AAA;\n",
              "      --disabled-bg-color: #DDD;\n",
              "  }\n",
              "\n",
              "  [theme=dark] .colab-df-quickchart {\n",
              "      --bg-color: #3B4455;\n",
              "      --fill-color: #D2E3FC;\n",
              "      --hover-bg-color: #434B5C;\n",
              "      --hover-fill-color: #FFFFFF;\n",
              "      --disabled-bg-color: #3B4455;\n",
              "      --disabled-fill-color: #666;\n",
              "  }\n",
              "\n",
              "  .colab-df-quickchart {\n",
              "    background-color: var(--bg-color);\n",
              "    border: none;\n",
              "    border-radius: 50%;\n",
              "    cursor: pointer;\n",
              "    display: none;\n",
              "    fill: var(--fill-color);\n",
              "    height: 32px;\n",
              "    padding: 0;\n",
              "    width: 32px;\n",
              "  }\n",
              "\n",
              "  .colab-df-quickchart:hover {\n",
              "    background-color: var(--hover-bg-color);\n",
              "    box-shadow: 0 1px 2px rgba(60, 64, 67, 0.3), 0 1px 3px 1px rgba(60, 64, 67, 0.15);\n",
              "    fill: var(--button-hover-fill-color);\n",
              "  }\n",
              "\n",
              "  .colab-df-quickchart-complete:disabled,\n",
              "  .colab-df-quickchart-complete:disabled:hover {\n",
              "    background-color: var(--disabled-bg-color);\n",
              "    fill: var(--disabled-fill-color);\n",
              "    box-shadow: none;\n",
              "  }\n",
              "\n",
              "  .colab-df-spinner {\n",
              "    border: 2px solid var(--fill-color);\n",
              "    border-color: transparent;\n",
              "    border-bottom-color: var(--fill-color);\n",
              "    animation:\n",
              "      spin 1s steps(1) infinite;\n",
              "  }\n",
              "\n",
              "  @keyframes spin {\n",
              "    0% {\n",
              "      border-color: transparent;\n",
              "      border-bottom-color: var(--fill-color);\n",
              "      border-left-color: var(--fill-color);\n",
              "    }\n",
              "    20% {\n",
              "      border-color: transparent;\n",
              "      border-left-color: var(--fill-color);\n",
              "      border-top-color: var(--fill-color);\n",
              "    }\n",
              "    30% {\n",
              "      border-color: transparent;\n",
              "      border-left-color: var(--fill-color);\n",
              "      border-top-color: var(--fill-color);\n",
              "      border-right-color: var(--fill-color);\n",
              "    }\n",
              "    40% {\n",
              "      border-color: transparent;\n",
              "      border-right-color: var(--fill-color);\n",
              "      border-top-color: var(--fill-color);\n",
              "    }\n",
              "    60% {\n",
              "      border-color: transparent;\n",
              "      border-right-color: var(--fill-color);\n",
              "    }\n",
              "    80% {\n",
              "      border-color: transparent;\n",
              "      border-right-color: var(--fill-color);\n",
              "      border-bottom-color: var(--fill-color);\n",
              "    }\n",
              "    90% {\n",
              "      border-color: transparent;\n",
              "      border-bottom-color: var(--fill-color);\n",
              "    }\n",
              "  }\n",
              "</style>\n",
              "\n",
              "  <script>\n",
              "    async function quickchart(key) {\n",
              "      const quickchartButtonEl =\n",
              "        document.querySelector('#' + key + ' button');\n",
              "      quickchartButtonEl.disabled = true;  // To prevent multiple clicks.\n",
              "      quickchartButtonEl.classList.add('colab-df-spinner');\n",
              "      try {\n",
              "        const charts = await google.colab.kernel.invokeFunction(\n",
              "            'suggestCharts', [key], {});\n",
              "      } catch (error) {\n",
              "        console.error('Error during call to suggestCharts:', error);\n",
              "      }\n",
              "      quickchartButtonEl.classList.remove('colab-df-spinner');\n",
              "      quickchartButtonEl.classList.add('colab-df-quickchart-complete');\n",
              "    }\n",
              "    (() => {\n",
              "      let quickchartButtonEl =\n",
              "        document.querySelector('#df-762df5d5-c3b1-497f-8817-f7d657553b0c button');\n",
              "      quickchartButtonEl.style.display =\n",
              "        google.colab.kernel.accessAllowed ? 'block' : 'none';\n",
              "    })();\n",
              "  </script>\n",
              "</div>\n",
              "\n",
              "    </div>\n",
              "  </div>\n"
            ],
            "application/vnd.google.colaboratory.intrinsic+json": {
              "type": "dataframe",
              "variable_name": "df",
              "summary": "{\n  \"name\": \"df\",\n  \"rows\": 373,\n  \"fields\": [\n    {\n      \"column\": \"Identificador\",\n      \"properties\": {\n        \"dtype\": \"number\",\n        \"std\": 107,\n        \"min\": 1,\n        \"max\": 373,\n        \"num_unique_values\": 373,\n        \"samples\": [\n          328,\n          34,\n          16\n        ],\n        \"semantic_type\": \"\",\n        \"description\": \"\"\n      }\n    },\n    {\n      \"column\": \"G\\u00eanero\",\n      \"properties\": {\n        \"dtype\": \"category\",\n        \"num_unique_values\": 2,\n        \"samples\": [\n          \"Mulher\",\n          \"Homem\"\n        ],\n        \"semantic_type\": \"\",\n        \"description\": \"\"\n      }\n    },\n    {\n      \"column\": \"Idade\",\n      \"properties\": {\n        \"dtype\": \"number\",\n        \"std\": 8,\n        \"min\": 27,\n        \"max\": 59,\n        \"num_unique_values\": 31,\n        \"samples\": [\n          56,\n          42\n        ],\n        \"semantic_type\": \"\",\n        \"description\": \"\"\n      }\n    },\n    {\n      \"column\": \"Profiss\\u00e3o\",\n      \"properties\": {\n        \"dtype\": \"category\",\n        \"num_unique_values\": 11,\n        \"samples\": [\n          \"Engenheiro(a)\",\n          \"Eng. de Software\"\n        ],\n        \"semantic_type\": \"\",\n        \"description\": \"\"\n      }\n    },\n    {\n      \"column\": \"Dura\\u00e7\\u00e3o do sono\",\n      \"properties\": {\n        \"dtype\": \"number\",\n        \"std\": 0.795139135753872,\n        \"min\": 5.8,\n        \"max\": 8.5,\n        \"num_unique_values\": 27,\n        \"samples\": [\n          7.7,\n          5.8\n        ],\n        \"semantic_type\": \"\",\n        \"description\": \"\"\n      }\n    },\n    {\n      \"column\": \"Qualidade do sono\",\n      \"properties\": {\n        \"dtype\": \"number\",\n        \"std\": 1,\n        \"min\": 4,\n        \"max\": 9,\n        \"num_unique_values\": 6,\n        \"samples\": [\n          6,\n          4\n        ],\n        \"semantic_type\": \"\",\n        \"description\": \"\"\n      }\n    },\n    {\n      \"column\": \"N\\u00edvel de atividade f\\u00edsica\",\n      \"properties\": {\n        \"dtype\": \"number\",\n        \"std\": 20,\n        \"min\": 30,\n        \"max\": 90,\n        \"num_unique_values\": 16,\n        \"samples\": [\n          42,\n          60\n        ],\n        \"semantic_type\": \"\",\n        \"description\": \"\"\n      }\n    },\n    {\n      \"column\": \"N\\u00edvel de estresse\",\n      \"properties\": {\n        \"dtype\": \"number\",\n        \"std\": 1,\n        \"min\": 3,\n        \"max\": 8,\n        \"num_unique_values\": 6,\n        \"samples\": [\n          6,\n          8\n        ],\n        \"semantic_type\": \"\",\n        \"description\": \"\"\n      }\n    },\n    {\n      \"column\": \"Categoria IMC\",\n      \"properties\": {\n        \"dtype\": \"category\",\n        \"num_unique_values\": 4,\n        \"samples\": [\n          \"Normal\",\n          \"Peso normal\"\n        ],\n        \"semantic_type\": \"\",\n        \"description\": \"\"\n      }\n    },\n    {\n      \"column\": \"Press\\u00e3o Sangu\\u00ednea\",\n      \"properties\": {\n        \"dtype\": \"category\",\n        \"num_unique_values\": 25,\n        \"samples\": [\n          \"128/85\",\n          \"119/77\"\n        ],\n        \"semantic_type\": \"\",\n        \"description\": \"\"\n      }\n    },\n    {\n      \"column\": \"Frequ\\u00eancia card\\u00edaca\",\n      \"properties\": {\n        \"dtype\": \"number\",\n        \"std\": 4,\n        \"min\": 65,\n        \"max\": 86,\n        \"num_unique_values\": 19,\n        \"samples\": [\n          77,\n          80\n        ],\n        \"semantic_type\": \"\",\n        \"description\": \"\"\n      }\n    },\n    {\n      \"column\": \"Passos di\\u00e1rios\",\n      \"properties\": {\n        \"dtype\": \"number\",\n        \"std\": 1620,\n        \"min\": 3000,\n        \"max\": 10000,\n        \"num_unique_values\": 20,\n        \"samples\": [\n          4200,\n          6200\n        ],\n        \"semantic_type\": \"\",\n        \"description\": \"\"\n      }\n    },\n    {\n      \"column\": \"Dist\\u00farbio do sono\",\n      \"properties\": {\n        \"dtype\": \"category\",\n        \"num_unique_values\": 3,\n        \"samples\": [\n          \"Nenhuma\",\n          \"Apneia do sono\"\n        ],\n        \"semantic_type\": \"\",\n        \"description\": \"\"\n      }\n    }\n  ]\n}"
            }
          },
          "metadata": {},
          "execution_count": 29
        }
      ]
    },
    {
      "cell_type": "markdown",
      "source": [
        "##2. Qual é a média, a moda e a mediana de horas de sono para cada uma das profissões? [‘mean’, np.median, pd.Series.mod]\n"
      ],
      "metadata": {
        "id": "ZCJ2TlUVuq8Q"
      }
    },
    {
      "cell_type": "code",
      "source": [
        "media_sono = df.groupby('Profissão')['Duração do sono'].mean()\n",
        "mediana_sono = df.groupby('Profissão')['Duração do sono'].apply(np.median)\n",
        "moda_sono = df.groupby('Profissão')['Duração do sono'].apply(lambda x: x.mode().iloc[0])"
      ],
      "metadata": {
        "id": "Cy-MHlqAOB1I"
      },
      "execution_count": null,
      "outputs": []
    },
    {
      "cell_type": "code",
      "source": [
        "result = pd.DataFrame({\n",
        "    'Média de sono': media_sono,\n",
        "    'Mediana de sono': mediana_sono,\n",
        "    'Moda de sono': moda_sono\n",
        "})"
      ],
      "metadata": {
        "id": "AbkIbgDjOE5s"
      },
      "execution_count": null,
      "outputs": []
    },
    {
      "cell_type": "code",
      "source": [
        "print(result)\n"
      ],
      "metadata": {
        "colab": {
          "base_uri": "https://localhost:8080/"
        },
        "id": "72dDzR0iO5Pg",
        "outputId": "3e402f14-743c-49cb-f7dc-7dbb78c43761"
      },
      "execution_count": null,
      "outputs": [
        {
          "output_type": "stream",
          "name": "stdout",
          "text": [
            "                         Média de sono  Mediana de sono  Moda de sono\n",
            "Profissão                                                            \n",
            "Advogado(a)                   7.410638              7.3           7.2\n",
            "Cientista                     6.000000              6.0           5.8\n",
            "Contador(a)                   7.113514              7.2           7.2\n",
            "Enfermeiro(a)                 7.048611              6.5           6.1\n",
            "Eng. de Software              6.750000              6.8           7.5\n",
            "Engenheiro(a)                 7.987302              8.3           8.4\n",
            "Gerente                       6.900000              6.9           6.9\n",
            "Médico(a)                     6.970423              7.6           6.0\n",
            "Pessoa Vendendora             6.403125              6.4           6.5\n",
            "Professor(a)                  6.690000              6.6           6.6\n",
            "Representante de Vendas       5.900000              5.9           5.9\n"
          ]
        }
      ]
    },
    {
      "cell_type": "markdown",
      "source": [
        "##3. Das pessoas que atuam com engenharia de software qual a porcentagem de obesos?\n"
      ],
      "metadata": {
        "id": "StAYlFYnuxxD"
      }
    },
    {
      "cell_type": "code",
      "source": [
        "eng_software = df[df['Profissão'] == 'Eng. de Software']"
      ],
      "metadata": {
        "id": "Tp_CJfOuyezR"
      },
      "execution_count": null,
      "outputs": []
    },
    {
      "cell_type": "code",
      "source": [
        "obesidade_eng_software = eng_software[eng_software['Categoria IMC'] == 'Obesidade']"
      ],
      "metadata": {
        "id": "AADb0gKt0ILX"
      },
      "execution_count": null,
      "outputs": []
    },
    {
      "cell_type": "code",
      "source": [
        "porcentagem_obesos_eng_software = (len(obesidade_eng_software) / len(eng_software)) * 100"
      ],
      "metadata": {
        "id": "ip3bvxhB0cAg"
      },
      "execution_count": null,
      "outputs": []
    },
    {
      "cell_type": "code",
      "source": [
        "porcentagem_obesos_eng_software"
      ],
      "metadata": {
        "colab": {
          "base_uri": "https://localhost:8080/"
        },
        "id": "qEAFLt1Z0m3w",
        "outputId": "1413f09f-43bf-4a5d-d73b-226d6a3e68df"
      },
      "execution_count": null,
      "outputs": [
        {
          "output_type": "execute_result",
          "data": {
            "text/plain": [
              "25.0"
            ]
          },
          "metadata": {},
          "execution_count": 19
        }
      ]
    },
    {
      "cell_type": "code",
      "source": [
        "print(f\"Porcentagem de engenheiros de software obesos: {porcentagem_obesos_eng_software:.2f}%\")"
      ],
      "metadata": {
        "colab": {
          "base_uri": "https://localhost:8080/"
        },
        "id": "B64NFuee05dg",
        "outputId": "a0a3fa22-92f0-4931-ab85-24cdcfceb6a8"
      },
      "execution_count": null,
      "outputs": [
        {
          "output_type": "stream",
          "name": "stdout",
          "text": [
            "Porcentagem de engenheiros de software obesos: 25.00%\n"
          ]
        }
      ]
    },
    {
      "cell_type": "markdown",
      "source": [
        "## 4. De acordo com os dados, advogar ou ser representante de vendas faz você dormir menos? (Use o método ‘isin’, considere a média)\n"
      ],
      "metadata": {
        "id": "2XHFBBQI66ou"
      }
    },
    {
      "cell_type": "code",
      "source": [
        "comparando_profissoes = ['Advogado(a)', 'Representante de Vendas']\n",
        "filtro_profissoes = df[df['Profissão'].isin(comparando_profissoes)]"
      ],
      "metadata": {
        "id": "4JO9q3Az1AJB"
      },
      "execution_count": null,
      "outputs": []
    },
    {
      "cell_type": "code",
      "source": [
        "duracao_sono= filtro_profissoes.groupby('Profissão')['Duração do sono'].mean()"
      ],
      "metadata": {
        "id": "2qDYfHbx7fon"
      },
      "execution_count": null,
      "outputs": []
    },
    {
      "cell_type": "code",
      "source": [
        "duracao_sono"
      ],
      "metadata": {
        "colab": {
          "base_uri": "https://localhost:8080/",
          "height": 178
        },
        "id": "YIAvHThe8wMK",
        "outputId": "32fbe863-d7b6-4b15-d4f9-4bacc00bc9ad"
      },
      "execution_count": null,
      "outputs": [
        {
          "output_type": "execute_result",
          "data": {
            "text/plain": [
              "Profissão\n",
              "Advogado(a)                7.410638\n",
              "Representante de Vendas    5.900000\n",
              "Name: Duração do sono, dtype: float64"
            ],
            "text/html": [
              "<div>\n",
              "<style scoped>\n",
              "    .dataframe tbody tr th:only-of-type {\n",
              "        vertical-align: middle;\n",
              "    }\n",
              "\n",
              "    .dataframe tbody tr th {\n",
              "        vertical-align: top;\n",
              "    }\n",
              "\n",
              "    .dataframe thead th {\n",
              "        text-align: right;\n",
              "    }\n",
              "</style>\n",
              "<table border=\"1\" class=\"dataframe\">\n",
              "  <thead>\n",
              "    <tr style=\"text-align: right;\">\n",
              "      <th></th>\n",
              "      <th>Duração do sono</th>\n",
              "    </tr>\n",
              "    <tr>\n",
              "      <th>Profissão</th>\n",
              "      <th></th>\n",
              "    </tr>\n",
              "  </thead>\n",
              "  <tbody>\n",
              "    <tr>\n",
              "      <th>Advogado(a)</th>\n",
              "      <td>7.410638</td>\n",
              "    </tr>\n",
              "    <tr>\n",
              "      <th>Representante de Vendas</th>\n",
              "      <td>5.900000</td>\n",
              "    </tr>\n",
              "  </tbody>\n",
              "</table>\n",
              "</div><br><label><b>dtype:</b> float64</label>"
            ]
          },
          "metadata": {},
          "execution_count": 26
        }
      ]
    },
    {
      "cell_type": "code",
      "source": [
        "profissao_quemenosdorme = duracao_sono.min()\n",
        "duracao = duracao_sono.min()\n"
      ],
      "metadata": {
        "id": "_wF_ttf98Zkt"
      },
      "execution_count": null,
      "outputs": []
    },
    {
      "cell_type": "code",
      "source": [
        "print(f\"A profissão que dorme menos é: {profissao_quemenosdorme}, com uma média de {duracao:.2f} horas de sono.\")"
      ],
      "metadata": {
        "colab": {
          "base_uri": "https://localhost:8080/"
        },
        "id": "f6AA6F7o7x-a",
        "outputId": "ef554252-aeed-439c-c503-de4685b0867c"
      },
      "execution_count": null,
      "outputs": [
        {
          "output_type": "stream",
          "name": "stdout",
          "text": [
            "A profissão que dorme menos é: 5.9, com uma média de 5.90 horas de sono.\n"
          ]
        }
      ]
    },
    {
      "cell_type": "markdown",
      "source": [],
      "metadata": {
        "id": "xxmtyssy7E2k"
      }
    },
    {
      "cell_type": "markdown",
      "source": [
        "##5. Entre quem fez enfermagem e quem fez medicina, quem tem menos horas de sono? (Use o método ‘isin’, considere a média)\n"
      ],
      "metadata": {
        "id": "I9SoMmhzgciH"
      }
    },
    {
      "cell_type": "code",
      "source": [
        "comparando_profissoes = ['Enfermeiro(a)', 'Médico(a)']\n",
        "filtro_profissoes = df[df['Profissão'].isin(comparando_profissoes)]"
      ],
      "metadata": {
        "id": "KxEi-cmPgixY"
      },
      "execution_count": null,
      "outputs": []
    },
    {
      "cell_type": "code",
      "source": [
        "media_sono = filtro_profissoes.groupby('Profissão')['Duração do sono'].mean()"
      ],
      "metadata": {
        "id": "leljSrPCh-v3"
      },
      "execution_count": null,
      "outputs": []
    },
    {
      "cell_type": "code",
      "source": [
        "media_sono"
      ],
      "metadata": {
        "colab": {
          "base_uri": "https://localhost:8080/",
          "height": 178
        },
        "id": "KWmsCfoBi-H-",
        "outputId": "ee8e023a-a13a-412d-b49e-7b5e4b7b9a66"
      },
      "execution_count": null,
      "outputs": [
        {
          "output_type": "execute_result",
          "data": {
            "text/plain": [
              "Profissão\n",
              "Enfermeiro(a)    7.048611\n",
              "Médico(a)        6.970423\n",
              "Name: Duração do sono, dtype: float64"
            ],
            "text/html": [
              "<div>\n",
              "<style scoped>\n",
              "    .dataframe tbody tr th:only-of-type {\n",
              "        vertical-align: middle;\n",
              "    }\n",
              "\n",
              "    .dataframe tbody tr th {\n",
              "        vertical-align: top;\n",
              "    }\n",
              "\n",
              "    .dataframe thead th {\n",
              "        text-align: right;\n",
              "    }\n",
              "</style>\n",
              "<table border=\"1\" class=\"dataframe\">\n",
              "  <thead>\n",
              "    <tr style=\"text-align: right;\">\n",
              "      <th></th>\n",
              "      <th>Duração do sono</th>\n",
              "    </tr>\n",
              "    <tr>\n",
              "      <th>Profissão</th>\n",
              "      <th></th>\n",
              "    </tr>\n",
              "  </thead>\n",
              "  <tbody>\n",
              "    <tr>\n",
              "      <th>Enfermeiro(a)</th>\n",
              "      <td>7.048611</td>\n",
              "    </tr>\n",
              "    <tr>\n",
              "      <th>Médico(a)</th>\n",
              "      <td>6.970423</td>\n",
              "    </tr>\n",
              "  </tbody>\n",
              "</table>\n",
              "</div><br><label><b>dtype:</b> float64</label>"
            ]
          },
          "metadata": {},
          "execution_count": 14
        }
      ]
    },
    {
      "cell_type": "markdown",
      "source": [
        "#Resposta: Médico, tem menos horas de sono"
      ],
      "metadata": {
        "id": "hxXu1njpjIad"
      }
    },
    {
      "cell_type": "markdown",
      "source": [
        "##6. Faça um subconjunto com as colunas Identificador, Gênero, Idade,Pressão sanguínea e Frequência cardíaca.\n"
      ],
      "metadata": {
        "id": "1L-b7LqRjXGY"
      }
    },
    {
      "cell_type": "code",
      "source": [
        "subconjunto = df[['Identificador', 'Gênero', 'Idade', 'Pressão Sanguínea', 'Frequência cardíaca']]"
      ],
      "metadata": {
        "id": "zLRubzs_jbOD"
      },
      "execution_count": null,
      "outputs": []
    },
    {
      "cell_type": "code",
      "source": [
        "subconjunto"
      ],
      "metadata": {
        "colab": {
          "base_uri": "https://localhost:8080/",
          "height": 424
        },
        "id": "Wp2_7J-omHcj",
        "outputId": "100d47e4-b996-4ced-cf4d-49d6e3e24242"
      },
      "execution_count": null,
      "outputs": [
        {
          "output_type": "execute_result",
          "data": {
            "text/plain": [
              "     Identificador  Gênero  Idade Pressão Sanguínea  Frequência cardíaca\n",
              "0                1   Homem     27            126/83                   77\n",
              "1                2   Homem     28            125/80                   75\n",
              "2                3   Homem     28            125/80                   75\n",
              "3                4   Homem     28            140/90                   85\n",
              "4                5   Homem     28            140/90                   85\n",
              "..             ...     ...    ...               ...                  ...\n",
              "368            369  Mulher     59            140/95                   68\n",
              "369            370  Mulher     59            140/95                   68\n",
              "370            371  Mulher     59            140/95                   68\n",
              "371            372  Mulher     59            140/95                   68\n",
              "372            373  Mulher     59            140/95                   68\n",
              "\n",
              "[373 rows x 5 columns]"
            ],
            "text/html": [
              "\n",
              "  <div id=\"df-5879052c-f24b-417e-8629-2553ef93244b\" class=\"colab-df-container\">\n",
              "    <div>\n",
              "<style scoped>\n",
              "    .dataframe tbody tr th:only-of-type {\n",
              "        vertical-align: middle;\n",
              "    }\n",
              "\n",
              "    .dataframe tbody tr th {\n",
              "        vertical-align: top;\n",
              "    }\n",
              "\n",
              "    .dataframe thead th {\n",
              "        text-align: right;\n",
              "    }\n",
              "</style>\n",
              "<table border=\"1\" class=\"dataframe\">\n",
              "  <thead>\n",
              "    <tr style=\"text-align: right;\">\n",
              "      <th></th>\n",
              "      <th>Identificador</th>\n",
              "      <th>Gênero</th>\n",
              "      <th>Idade</th>\n",
              "      <th>Pressão Sanguínea</th>\n",
              "      <th>Frequência cardíaca</th>\n",
              "    </tr>\n",
              "  </thead>\n",
              "  <tbody>\n",
              "    <tr>\n",
              "      <th>0</th>\n",
              "      <td>1</td>\n",
              "      <td>Homem</td>\n",
              "      <td>27</td>\n",
              "      <td>126/83</td>\n",
              "      <td>77</td>\n",
              "    </tr>\n",
              "    <tr>\n",
              "      <th>1</th>\n",
              "      <td>2</td>\n",
              "      <td>Homem</td>\n",
              "      <td>28</td>\n",
              "      <td>125/80</td>\n",
              "      <td>75</td>\n",
              "    </tr>\n",
              "    <tr>\n",
              "      <th>2</th>\n",
              "      <td>3</td>\n",
              "      <td>Homem</td>\n",
              "      <td>28</td>\n",
              "      <td>125/80</td>\n",
              "      <td>75</td>\n",
              "    </tr>\n",
              "    <tr>\n",
              "      <th>3</th>\n",
              "      <td>4</td>\n",
              "      <td>Homem</td>\n",
              "      <td>28</td>\n",
              "      <td>140/90</td>\n",
              "      <td>85</td>\n",
              "    </tr>\n",
              "    <tr>\n",
              "      <th>4</th>\n",
              "      <td>5</td>\n",
              "      <td>Homem</td>\n",
              "      <td>28</td>\n",
              "      <td>140/90</td>\n",
              "      <td>85</td>\n",
              "    </tr>\n",
              "    <tr>\n",
              "      <th>...</th>\n",
              "      <td>...</td>\n",
              "      <td>...</td>\n",
              "      <td>...</td>\n",
              "      <td>...</td>\n",
              "      <td>...</td>\n",
              "    </tr>\n",
              "    <tr>\n",
              "      <th>368</th>\n",
              "      <td>369</td>\n",
              "      <td>Mulher</td>\n",
              "      <td>59</td>\n",
              "      <td>140/95</td>\n",
              "      <td>68</td>\n",
              "    </tr>\n",
              "    <tr>\n",
              "      <th>369</th>\n",
              "      <td>370</td>\n",
              "      <td>Mulher</td>\n",
              "      <td>59</td>\n",
              "      <td>140/95</td>\n",
              "      <td>68</td>\n",
              "    </tr>\n",
              "    <tr>\n",
              "      <th>370</th>\n",
              "      <td>371</td>\n",
              "      <td>Mulher</td>\n",
              "      <td>59</td>\n",
              "      <td>140/95</td>\n",
              "      <td>68</td>\n",
              "    </tr>\n",
              "    <tr>\n",
              "      <th>371</th>\n",
              "      <td>372</td>\n",
              "      <td>Mulher</td>\n",
              "      <td>59</td>\n",
              "      <td>140/95</td>\n",
              "      <td>68</td>\n",
              "    </tr>\n",
              "    <tr>\n",
              "      <th>372</th>\n",
              "      <td>373</td>\n",
              "      <td>Mulher</td>\n",
              "      <td>59</td>\n",
              "      <td>140/95</td>\n",
              "      <td>68</td>\n",
              "    </tr>\n",
              "  </tbody>\n",
              "</table>\n",
              "<p>373 rows × 5 columns</p>\n",
              "</div>\n",
              "    <div class=\"colab-df-buttons\">\n",
              "\n",
              "  <div class=\"colab-df-container\">\n",
              "    <button class=\"colab-df-convert\" onclick=\"convertToInteractive('df-5879052c-f24b-417e-8629-2553ef93244b')\"\n",
              "            title=\"Convert this dataframe to an interactive table.\"\n",
              "            style=\"display:none;\">\n",
              "\n",
              "  <svg xmlns=\"http://www.w3.org/2000/svg\" height=\"24px\" viewBox=\"0 -960 960 960\">\n",
              "    <path d=\"M120-120v-720h720v720H120Zm60-500h600v-160H180v160Zm220 220h160v-160H400v160Zm0 220h160v-160H400v160ZM180-400h160v-160H180v160Zm440 0h160v-160H620v160ZM180-180h160v-160H180v160Zm440 0h160v-160H620v160Z\"/>\n",
              "  </svg>\n",
              "    </button>\n",
              "\n",
              "  <style>\n",
              "    .colab-df-container {\n",
              "      display:flex;\n",
              "      gap: 12px;\n",
              "    }\n",
              "\n",
              "    .colab-df-convert {\n",
              "      background-color: #E8F0FE;\n",
              "      border: none;\n",
              "      border-radius: 50%;\n",
              "      cursor: pointer;\n",
              "      display: none;\n",
              "      fill: #1967D2;\n",
              "      height: 32px;\n",
              "      padding: 0 0 0 0;\n",
              "      width: 32px;\n",
              "    }\n",
              "\n",
              "    .colab-df-convert:hover {\n",
              "      background-color: #E2EBFA;\n",
              "      box-shadow: 0px 1px 2px rgba(60, 64, 67, 0.3), 0px 1px 3px 1px rgba(60, 64, 67, 0.15);\n",
              "      fill: #174EA6;\n",
              "    }\n",
              "\n",
              "    .colab-df-buttons div {\n",
              "      margin-bottom: 4px;\n",
              "    }\n",
              "\n",
              "    [theme=dark] .colab-df-convert {\n",
              "      background-color: #3B4455;\n",
              "      fill: #D2E3FC;\n",
              "    }\n",
              "\n",
              "    [theme=dark] .colab-df-convert:hover {\n",
              "      background-color: #434B5C;\n",
              "      box-shadow: 0px 1px 3px 1px rgba(0, 0, 0, 0.15);\n",
              "      filter: drop-shadow(0px 1px 2px rgba(0, 0, 0, 0.3));\n",
              "      fill: #FFFFFF;\n",
              "    }\n",
              "  </style>\n",
              "\n",
              "    <script>\n",
              "      const buttonEl =\n",
              "        document.querySelector('#df-5879052c-f24b-417e-8629-2553ef93244b button.colab-df-convert');\n",
              "      buttonEl.style.display =\n",
              "        google.colab.kernel.accessAllowed ? 'block' : 'none';\n",
              "\n",
              "      async function convertToInteractive(key) {\n",
              "        const element = document.querySelector('#df-5879052c-f24b-417e-8629-2553ef93244b');\n",
              "        const dataTable =\n",
              "          await google.colab.kernel.invokeFunction('convertToInteractive',\n",
              "                                                    [key], {});\n",
              "        if (!dataTable) return;\n",
              "\n",
              "        const docLinkHtml = 'Like what you see? Visit the ' +\n",
              "          '<a target=\"_blank\" href=https://colab.research.google.com/notebooks/data_table.ipynb>data table notebook</a>'\n",
              "          + ' to learn more about interactive tables.';\n",
              "        element.innerHTML = '';\n",
              "        dataTable['output_type'] = 'display_data';\n",
              "        await google.colab.output.renderOutput(dataTable, element);\n",
              "        const docLink = document.createElement('div');\n",
              "        docLink.innerHTML = docLinkHtml;\n",
              "        element.appendChild(docLink);\n",
              "      }\n",
              "    </script>\n",
              "  </div>\n",
              "\n",
              "\n",
              "<div id=\"df-342a5108-fb2e-4475-95b9-05d1fd95962f\">\n",
              "  <button class=\"colab-df-quickchart\" onclick=\"quickchart('df-342a5108-fb2e-4475-95b9-05d1fd95962f')\"\n",
              "            title=\"Suggest charts\"\n",
              "            style=\"display:none;\">\n",
              "\n",
              "<svg xmlns=\"http://www.w3.org/2000/svg\" height=\"24px\"viewBox=\"0 0 24 24\"\n",
              "     width=\"24px\">\n",
              "    <g>\n",
              "        <path d=\"M19 3H5c-1.1 0-2 .9-2 2v14c0 1.1.9 2 2 2h14c1.1 0 2-.9 2-2V5c0-1.1-.9-2-2-2zM9 17H7v-7h2v7zm4 0h-2V7h2v10zm4 0h-2v-4h2v4z\"/>\n",
              "    </g>\n",
              "</svg>\n",
              "  </button>\n",
              "\n",
              "<style>\n",
              "  .colab-df-quickchart {\n",
              "      --bg-color: #E8F0FE;\n",
              "      --fill-color: #1967D2;\n",
              "      --hover-bg-color: #E2EBFA;\n",
              "      --hover-fill-color: #174EA6;\n",
              "      --disabled-fill-color: #AAA;\n",
              "      --disabled-bg-color: #DDD;\n",
              "  }\n",
              "\n",
              "  [theme=dark] .colab-df-quickchart {\n",
              "      --bg-color: #3B4455;\n",
              "      --fill-color: #D2E3FC;\n",
              "      --hover-bg-color: #434B5C;\n",
              "      --hover-fill-color: #FFFFFF;\n",
              "      --disabled-bg-color: #3B4455;\n",
              "      --disabled-fill-color: #666;\n",
              "  }\n",
              "\n",
              "  .colab-df-quickchart {\n",
              "    background-color: var(--bg-color);\n",
              "    border: none;\n",
              "    border-radius: 50%;\n",
              "    cursor: pointer;\n",
              "    display: none;\n",
              "    fill: var(--fill-color);\n",
              "    height: 32px;\n",
              "    padding: 0;\n",
              "    width: 32px;\n",
              "  }\n",
              "\n",
              "  .colab-df-quickchart:hover {\n",
              "    background-color: var(--hover-bg-color);\n",
              "    box-shadow: 0 1px 2px rgba(60, 64, 67, 0.3), 0 1px 3px 1px rgba(60, 64, 67, 0.15);\n",
              "    fill: var(--button-hover-fill-color);\n",
              "  }\n",
              "\n",
              "  .colab-df-quickchart-complete:disabled,\n",
              "  .colab-df-quickchart-complete:disabled:hover {\n",
              "    background-color: var(--disabled-bg-color);\n",
              "    fill: var(--disabled-fill-color);\n",
              "    box-shadow: none;\n",
              "  }\n",
              "\n",
              "  .colab-df-spinner {\n",
              "    border: 2px solid var(--fill-color);\n",
              "    border-color: transparent;\n",
              "    border-bottom-color: var(--fill-color);\n",
              "    animation:\n",
              "      spin 1s steps(1) infinite;\n",
              "  }\n",
              "\n",
              "  @keyframes spin {\n",
              "    0% {\n",
              "      border-color: transparent;\n",
              "      border-bottom-color: var(--fill-color);\n",
              "      border-left-color: var(--fill-color);\n",
              "    }\n",
              "    20% {\n",
              "      border-color: transparent;\n",
              "      border-left-color: var(--fill-color);\n",
              "      border-top-color: var(--fill-color);\n",
              "    }\n",
              "    30% {\n",
              "      border-color: transparent;\n",
              "      border-left-color: var(--fill-color);\n",
              "      border-top-color: var(--fill-color);\n",
              "      border-right-color: var(--fill-color);\n",
              "    }\n",
              "    40% {\n",
              "      border-color: transparent;\n",
              "      border-right-color: var(--fill-color);\n",
              "      border-top-color: var(--fill-color);\n",
              "    }\n",
              "    60% {\n",
              "      border-color: transparent;\n",
              "      border-right-color: var(--fill-color);\n",
              "    }\n",
              "    80% {\n",
              "      border-color: transparent;\n",
              "      border-right-color: var(--fill-color);\n",
              "      border-bottom-color: var(--fill-color);\n",
              "    }\n",
              "    90% {\n",
              "      border-color: transparent;\n",
              "      border-bottom-color: var(--fill-color);\n",
              "    }\n",
              "  }\n",
              "</style>\n",
              "\n",
              "  <script>\n",
              "    async function quickchart(key) {\n",
              "      const quickchartButtonEl =\n",
              "        document.querySelector('#' + key + ' button');\n",
              "      quickchartButtonEl.disabled = true;  // To prevent multiple clicks.\n",
              "      quickchartButtonEl.classList.add('colab-df-spinner');\n",
              "      try {\n",
              "        const charts = await google.colab.kernel.invokeFunction(\n",
              "            'suggestCharts', [key], {});\n",
              "      } catch (error) {\n",
              "        console.error('Error during call to suggestCharts:', error);\n",
              "      }\n",
              "      quickchartButtonEl.classList.remove('colab-df-spinner');\n",
              "      quickchartButtonEl.classList.add('colab-df-quickchart-complete');\n",
              "    }\n",
              "    (() => {\n",
              "      let quickchartButtonEl =\n",
              "        document.querySelector('#df-342a5108-fb2e-4475-95b9-05d1fd95962f button');\n",
              "      quickchartButtonEl.style.display =\n",
              "        google.colab.kernel.accessAllowed ? 'block' : 'none';\n",
              "    })();\n",
              "  </script>\n",
              "</div>\n",
              "\n",
              "  <div id=\"id_3bebd585-4aff-4db6-8aab-602b95990aca\">\n",
              "    <style>\n",
              "      .colab-df-generate {\n",
              "        background-color: #E8F0FE;\n",
              "        border: none;\n",
              "        border-radius: 50%;\n",
              "        cursor: pointer;\n",
              "        display: none;\n",
              "        fill: #1967D2;\n",
              "        height: 32px;\n",
              "        padding: 0 0 0 0;\n",
              "        width: 32px;\n",
              "      }\n",
              "\n",
              "      .colab-df-generate:hover {\n",
              "        background-color: #E2EBFA;\n",
              "        box-shadow: 0px 1px 2px rgba(60, 64, 67, 0.3), 0px 1px 3px 1px rgba(60, 64, 67, 0.15);\n",
              "        fill: #174EA6;\n",
              "      }\n",
              "\n",
              "      [theme=dark] .colab-df-generate {\n",
              "        background-color: #3B4455;\n",
              "        fill: #D2E3FC;\n",
              "      }\n",
              "\n",
              "      [theme=dark] .colab-df-generate:hover {\n",
              "        background-color: #434B5C;\n",
              "        box-shadow: 0px 1px 3px 1px rgba(0, 0, 0, 0.15);\n",
              "        filter: drop-shadow(0px 1px 2px rgba(0, 0, 0, 0.3));\n",
              "        fill: #FFFFFF;\n",
              "      }\n",
              "    </style>\n",
              "    <button class=\"colab-df-generate\" onclick=\"generateWithVariable('subconjunto')\"\n",
              "            title=\"Generate code using this dataframe.\"\n",
              "            style=\"display:none;\">\n",
              "\n",
              "  <svg xmlns=\"http://www.w3.org/2000/svg\" height=\"24px\"viewBox=\"0 0 24 24\"\n",
              "       width=\"24px\">\n",
              "    <path d=\"M7,19H8.4L18.45,9,17,7.55,7,17.6ZM5,21V16.75L18.45,3.32a2,2,0,0,1,2.83,0l1.4,1.43a1.91,1.91,0,0,1,.58,1.4,1.91,1.91,0,0,1-.58,1.4L9.25,21ZM18.45,9,17,7.55Zm-12,3A5.31,5.31,0,0,0,4.9,8.1,5.31,5.31,0,0,0,1,6.5,5.31,5.31,0,0,0,4.9,4.9,5.31,5.31,0,0,0,6.5,1,5.31,5.31,0,0,0,8.1,4.9,5.31,5.31,0,0,0,12,6.5,5.46,5.46,0,0,0,6.5,12Z\"/>\n",
              "  </svg>\n",
              "    </button>\n",
              "    <script>\n",
              "      (() => {\n",
              "      const buttonEl =\n",
              "        document.querySelector('#id_3bebd585-4aff-4db6-8aab-602b95990aca button.colab-df-generate');\n",
              "      buttonEl.style.display =\n",
              "        google.colab.kernel.accessAllowed ? 'block' : 'none';\n",
              "\n",
              "      buttonEl.onclick = () => {\n",
              "        google.colab.notebook.generateWithVariable('subconjunto');\n",
              "      }\n",
              "      })();\n",
              "    </script>\n",
              "  </div>\n",
              "\n",
              "    </div>\n",
              "  </div>\n"
            ],
            "application/vnd.google.colaboratory.intrinsic+json": {
              "type": "dataframe",
              "variable_name": "subconjunto",
              "summary": "{\n  \"name\": \"subconjunto\",\n  \"rows\": 373,\n  \"fields\": [\n    {\n      \"column\": \"Identificador\",\n      \"properties\": {\n        \"dtype\": \"number\",\n        \"std\": 107,\n        \"min\": 1,\n        \"max\": 373,\n        \"num_unique_values\": 373,\n        \"samples\": [\n          328,\n          34,\n          16\n        ],\n        \"semantic_type\": \"\",\n        \"description\": \"\"\n      }\n    },\n    {\n      \"column\": \"G\\u00eanero\",\n      \"properties\": {\n        \"dtype\": \"category\",\n        \"num_unique_values\": 2,\n        \"samples\": [\n          \"Mulher\",\n          \"Homem\"\n        ],\n        \"semantic_type\": \"\",\n        \"description\": \"\"\n      }\n    },\n    {\n      \"column\": \"Idade\",\n      \"properties\": {\n        \"dtype\": \"number\",\n        \"std\": 8,\n        \"min\": 27,\n        \"max\": 59,\n        \"num_unique_values\": 31,\n        \"samples\": [\n          56,\n          42\n        ],\n        \"semantic_type\": \"\",\n        \"description\": \"\"\n      }\n    },\n    {\n      \"column\": \"Press\\u00e3o Sangu\\u00ednea\",\n      \"properties\": {\n        \"dtype\": \"category\",\n        \"num_unique_values\": 25,\n        \"samples\": [\n          \"128/85\",\n          \"119/77\"\n        ],\n        \"semantic_type\": \"\",\n        \"description\": \"\"\n      }\n    },\n    {\n      \"column\": \"Frequ\\u00eancia card\\u00edaca\",\n      \"properties\": {\n        \"dtype\": \"number\",\n        \"std\": 4,\n        \"min\": 65,\n        \"max\": 86,\n        \"num_unique_values\": 19,\n        \"samples\": [\n          77,\n          80\n        ],\n        \"semantic_type\": \"\",\n        \"description\": \"\"\n      }\n    }\n  ]\n}"
            }
          },
          "metadata": {},
          "execution_count": 33
        }
      ]
    },
    {
      "cell_type": "markdown",
      "source": [
        "##7. Descubra qual a profissão menos frequente no conjunto. (Usevalue_counts)\n"
      ],
      "metadata": {
        "id": "ToH8o-L5mQta"
      }
    },
    {
      "cell_type": "code",
      "source": [
        "profissao_frequencia = df['Profissão'].value_counts()"
      ],
      "metadata": {
        "id": "l95G9F80mVBm"
      },
      "execution_count": null,
      "outputs": []
    },
    {
      "cell_type": "code",
      "source": [
        "profissao_menos_frequente = profissao_frequencia.min()"
      ],
      "metadata": {
        "id": "ee2cSHMbnCwd"
      },
      "execution_count": null,
      "outputs": []
    },
    {
      "cell_type": "code",
      "source": [
        "profissao_menos_frequente = profissao_frequencia.idxmin()\n",
        "frequencia_menos_frequente = profissao_frequencia.min()"
      ],
      "metadata": {
        "id": "S3iKfy_xndds"
      },
      "execution_count": null,
      "outputs": []
    },
    {
      "cell_type": "code",
      "source": [
        "print(f\"A profissão menos frequente é: {profissao_menos_frequente}, com {frequencia_menos_frequente} ocorrência(s).\")"
      ],
      "metadata": {
        "colab": {
          "base_uri": "https://localhost:8080/"
        },
        "id": "xeOyYkTDnfhi",
        "outputId": "ebcf5961-fc4e-4e9f-fcf9-935d4ecc63b3"
      },
      "execution_count": null,
      "outputs": [
        {
          "output_type": "stream",
          "name": "stdout",
          "text": [
            "A profissão menos frequente é: Gerente, com 1 ocorrência(s).\n"
          ]
        }
      ]
    },
    {
      "cell_type": "markdown",
      "source": [
        "##8. Quem tem maior pressão sanguínea média, homens ou mulheres?(Considere a média)\n"
      ],
      "metadata": {
        "id": "_6h4BgRdnxkb"
      }
    },
    {
      "cell_type": "code",
      "source": [
        "df[['Pressão Sistólica', 'Pressão Diastólica']] = df['Pressão Sanguínea'].str.split('/', expand=True).astype(int)"
      ],
      "metadata": {
        "id": "w3egawWool_Y"
      },
      "execution_count": null,
      "outputs": []
    },
    {
      "cell_type": "code",
      "source": [
        "media_pressao_genero = df.groupby('Gênero')[['Pressão Sistólica', 'Pressão Diastólica']].mean()"
      ],
      "metadata": {
        "id": "o9jas2XQotIQ"
      },
      "execution_count": null,
      "outputs": []
    },
    {
      "cell_type": "code",
      "source": [
        "media_pressao_genero['Pressão Média'] = media_pressao_genero['Pressão Sistólica'] + media_pressao_genero['Pressão Diastólica']\n"
      ],
      "metadata": {
        "id": "3VmqM71Eo18p"
      },
      "execution_count": null,
      "outputs": []
    },
    {
      "cell_type": "code",
      "source": [
        "genero_maior_pressao = media_pressao_genero['Pressão Média'].idxmax()\n",
        "maior_pressao_media = media_pressao_genero['Pressão Média'].max()"
      ],
      "metadata": {
        "id": "7d3KMAz3o6-2"
      },
      "execution_count": null,
      "outputs": []
    },
    {
      "cell_type": "code",
      "source": [
        "print(f\"Quem tem maior pressão sanguínea média é: {genero_maior_pressao}, com uma média de {maior_pressao_media:.2f}.\")"
      ],
      "metadata": {
        "colab": {
          "base_uri": "https://localhost:8080/"
        },
        "id": "HTFfHiWQo8Se",
        "outputId": "63aafaf7-06cd-4c58-afeb-3b795edf1214"
      },
      "execution_count": null,
      "outputs": [
        {
          "output_type": "stream",
          "name": "stdout",
          "text": [
            "Quem tem maior pressão sanguínea média é: Mulher, com uma média de 216.42.\n"
          ]
        }
      ]
    },
    {
      "cell_type": "markdown",
      "source": [
        "##9. É predominante entre os participantes dormir 8 horas por dia(considere usar Moda como medida)?\n"
      ],
      "metadata": {
        "id": "Dh111EJwpZxW"
      }
    },
    {
      "cell_type": "code",
      "source": [
        "moda_sono = df['Duração do sono'].mode()[0]"
      ],
      "metadata": {
        "id": "YN_XOuufpfdF"
      },
      "execution_count": null,
      "outputs": []
    },
    {
      "cell_type": "code",
      "source": [
        "if moda_sono == 8:\n",
        "    print(\"Sim, é predominante entre os participantes dormir 8 horas por dia.\")\n",
        "else:\n",
        "    print(f\"Não, a duração de sono mais comum é {moda_sono} horas por dia.\")"
      ],
      "metadata": {
        "colab": {
          "base_uri": "https://localhost:8080/"
        },
        "id": "zV1NFNgHsFyE",
        "outputId": "f90d1608-4e81-4878-8ac0-d2811a82c171"
      },
      "execution_count": null,
      "outputs": [
        {
          "output_type": "stream",
          "name": "stdout",
          "text": [
            "Não, a duração de sono mais comum é 7.2 horas por dia.\n"
          ]
        }
      ]
    },
    {
      "cell_type": "markdown",
      "source": [
        "##10. Pessoas com frequências cardíacas acima de 70 dão mais passos que pessoas com frequência cardíaca menor ou igual a 70? (Use a média)"
      ],
      "metadata": {
        "id": "7wdRQBoksI4B"
      }
    },
    {
      "cell_type": "code",
      "source": [
        "grupo_acima_70 = df[df['Frequência cardíaca'] > 70]\n",
        "grupo_menor_igual_70 = df[df['Frequência cardíaca'] <= 70]"
      ],
      "metadata": {
        "id": "-XvssawusODW"
      },
      "execution_count": null,
      "outputs": []
    },
    {
      "cell_type": "code",
      "source": [
        "media_passos_acima_70 = grupo_acima_70['Passos diários'].mean()\n",
        "media_passos_menor_igual_70 = grupo_menor_igual_70['Passos diários'].mean()"
      ],
      "metadata": {
        "id": "sNIk673ts6pW"
      },
      "execution_count": null,
      "outputs": []
    },
    {
      "cell_type": "code",
      "source": [
        "if media_passos_acima_70 > media_passos_menor_igual_70:\n",
        "    print(f\"Pessoas com frequências cardíacas acima de 70 dão mais passos, com uma média de {media_passos_acima_70:.2f} passos por dia.\")\n",
        "else:\n",
        "    print(f\"Pessoas com frequências cardíacas menor ou igual a 70 dão mais passos, com uma média de {media_passos_menor_igual_70:.2f} passos por dia.\")"
      ],
      "metadata": {
        "colab": {
          "base_uri": "https://localhost:8080/"
        },
        "id": "iGRUX-JPtX7R",
        "outputId": "0007a17e-0985-4dbb-8fb3-4fbe79f6212e"
      },
      "execution_count": null,
      "outputs": [
        {
          "output_type": "stream",
          "name": "stdout",
          "text": [
            "Pessoas com frequências cardíacas menor ou igual a 70 dão mais passos, com uma média de 7006.67 passos por dia.\n"
          ]
        }
      ]
    }
  ]
}